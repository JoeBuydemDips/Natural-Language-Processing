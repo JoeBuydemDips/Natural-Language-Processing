{
 "cells": [
  {
   "cell_type": "markdown",
   "id": "2b6042aa",
   "metadata": {},
   "source": [
    "# Sentiment Analysis using NLP (Spacy/ntlk)\n",
    "### Check out Spacy's API! It's very extensive.\n",
    "https://spacy.io/api/doc"
   ]
  },
  {
   "cell_type": "code",
   "execution_count": 2,
   "id": "06dec87f",
   "metadata": {},
   "outputs": [],
   "source": [
    "# Before you begin, make sure to install spacy and download 1 of the language models that have a host of relationships already\n",
    "# built in! Each model comes with prebuilt tokenization icons, Tags, dependencies, sentence segmentation, and entities!\n",
    "\n",
    "# pip install spacy\n",
    "\n",
    "# Download the large word vector models from spacy\n",
    "# Other Language models to be downloaded here: https://spacy.io/usage/models\n",
    "\n",
    "# python -m spacy download en_core_web_sm\n",
    "# python -m spacy download en_core_web_md\n",
    "# python -m spacy download en_core_web_lg"
   ]
  },
  {
   "cell_type": "markdown",
   "id": "108ecc7c",
   "metadata": {},
   "source": [
    "### If you're not familiar with Basic Machine Learning Concepts and Logistic Regression, check out these videos to get caught up! (Links are in the description)\n",
    "![Logistic_Regression](logisticRegression.PNG)"
   ]
  },
  {
   "cell_type": "code",
   "execution_count": 1,
   "id": "9f05b457",
   "metadata": {},
   "outputs": [
    {
     "name": "stderr",
     "output_type": "stream",
     "text": [
      "c:\\users\\spenc\\anaconda3\\envs\\nlp\\lib\\site-packages\\gensim\\similarities\\__init__.py:15: UserWarning: The gensim.similarities.levenshtein submodule is disabled, because the optional Levenshtein package <https://pypi.org/project/python-Levenshtein/> is unavailable. Install Levenhstein (e.g. `pip install python-Levenshtein`) to suppress this warning.\n",
      "  warnings.warn(msg)\n"
     ]
    }
   ],
   "source": [
    "# DataFrame\n",
    "import pandas as pd\n",
    "\n",
    "# Matplot\n",
    "import matplotlib.pyplot as plt\n",
    "%matplotlib inline\n",
    "\n",
    "# Scikit-learn\n",
    "from sklearn.model_selection import train_test_split\n",
    "from sklearn.preprocessing import LabelEncoder\n",
    "from sklearn.metrics import confusion_matrix, classification_report, accuracy_score\n",
    "from sklearn.manifold import TSNE\n",
    "from sklearn.feature_extraction.text import TfidfVectorizer\n",
    "\n",
    "# Keras\n",
    "from keras.preprocessing.text import Tokenizer\n",
    "from keras.preprocessing.sequence import pad_sequences\n",
    "from keras.models import Sequential\n",
    "from keras.layers import Activation, Dense, Dropout, Embedding, Flatten, Conv1D, MaxPooling1D, LSTM\n",
    "from keras import utils\n",
    "from keras.callbacks import ReduceLROnPlateau, EarlyStopping\n",
    "\n",
    "import spacy\n",
    "\n",
    "# nltk\n",
    "import nltk\n",
    "from nltk.corpus import stopwords\n",
    "from  nltk.stem import SnowballStemmer\n",
    "\n",
    "# Word2vec\n",
    "import gensim\n",
    "\n",
    "# Utility\n",
    "import re\n",
    "import numpy as np\n",
    "from collections import Counter\n",
    "import time"
   ]
  },
  {
   "cell_type": "markdown",
   "id": "5f466e29",
   "metadata": {},
   "source": [
    "# Preprocessing text data includes the following steps:\n",
    "- Tokeniziation (Break down document into words, sentences, or other categories)\n",
    "- Removal of unnecessary text that don't add a lot of value to our machine learning model.\n",
    "- Normalization (simplifying word to its root form -- you can think of this as getting the infinitive of a verb)"
   ]
  },
  {
   "cell_type": "markdown",
   "id": "d84be9aa",
   "metadata": {},
   "source": [
    "# Let's start with Tokenization"
   ]
  },
  {
   "cell_type": "code",
   "execution_count": 4,
   "id": "6dcf5b7a",
   "metadata": {},
   "outputs": [],
   "source": [
    "text = \"\"\"\n",
    "Hi! My name is Spencer and I love doing videos related to tech implementation/strategy. If you like finance, tech, or real world\n",
    "Q&A videos about Data Science, Data Engineering, and Data Analyst related topics, let me know in the comments down below! *psst*\n",
    "If you made it this far in the video, why don't you subscribe? I upload videos every week on a Sunday ~7:00 PM EST. If you like\n",
    "this type of content make sure to hit that like button! That really helps out with the growth of this channel. :)\n",
    "\"\"\""
   ]
  },
  {
   "cell_type": "code",
   "execution_count": 5,
   "id": "e7636740",
   "metadata": {},
   "outputs": [
    {
     "data": {
      "text/plain": [
       "'Hi My name is Spencer and I love doing videos related to tech implementationstrategy If you like finance tech or real worldQA videos about Data Science Data Engineering and Data Analyst related topics let me know in the comments down below psstIf you made it this far in the video why dont you subscribe I upload videos every week on a Sunday  PM EST If you likethis type of content make sure to hit that like button That really helps out with the growth of this channel '"
      ]
     },
     "execution_count": 5,
     "metadata": {},
     "output_type": "execute_result"
    }
   ],
   "source": [
    "# In the NLP pipeline world, you would typically preprocess your data before you start feeding it to your NLP model.\n",
    "# For instance, let's begin by removing special characters.\n",
    "# In the real world, you would have many data streams coming in in different formats. And, you would run your various regex\n",
    "# functions to identify known patterns of text and store them in JSONL or other data storage files.\n",
    "pattern = r'[^A-Za-z ]'\n",
    "regex = re.compile(pattern)\n",
    "result = regex.sub('', text)\n",
    "result"
   ]
  },
  {
   "cell_type": "code",
   "execution_count": 6,
   "id": "624e97aa",
   "metadata": {},
   "outputs": [],
   "source": [
    "# Load in the NLP model that you have chosen to downloaded; I have the large model.\n",
    "nlp = spacy.load(\"en_core_web_lg\")\n",
    "doc = nlp(result)"
   ]
  },
  {
   "cell_type": "code",
   "execution_count": 7,
   "id": "6b9baf60",
   "metadata": {},
   "outputs": [
    {
     "data": {
      "text/plain": [
       "[Hi,\n",
       " My,\n",
       " name,\n",
       " is,\n",
       " Spencer,\n",
       " and,\n",
       " I,\n",
       " love,\n",
       " doing,\n",
       " videos,\n",
       " related,\n",
       " to,\n",
       " tech,\n",
       " implementationstrategy,\n",
       " If,\n",
       " you,\n",
       " like,\n",
       " finance,\n",
       " tech,\n",
       " or,\n",
       " real,\n",
       " worldQA,\n",
       " videos,\n",
       " about,\n",
       " Data,\n",
       " Science,\n",
       " Data,\n",
       " Engineering,\n",
       " and,\n",
       " Data,\n",
       " Analyst,\n",
       " related,\n",
       " topics,\n",
       " let,\n",
       " me,\n",
       " know,\n",
       " in,\n",
       " the,\n",
       " comments,\n",
       " down,\n",
       " below,\n",
       " psstIf,\n",
       " you,\n",
       " made,\n",
       " it,\n",
       " this,\n",
       " far,\n",
       " in,\n",
       " the,\n",
       " video,\n",
       " why,\n",
       " do,\n",
       " nt,\n",
       " you,\n",
       " subscribe,\n",
       " I,\n",
       " upload,\n",
       " videos,\n",
       " every,\n",
       " week,\n",
       " on,\n",
       " a,\n",
       " Sunday,\n",
       "  ,\n",
       " PM,\n",
       " EST,\n",
       " If,\n",
       " you,\n",
       " likethis,\n",
       " type,\n",
       " of,\n",
       " content,\n",
       " make,\n",
       " sure,\n",
       " to,\n",
       " hit,\n",
       " that,\n",
       " like,\n",
       " button,\n",
       " That,\n",
       " really,\n",
       " helps,\n",
       " out,\n",
       " with,\n",
       " the,\n",
       " growth,\n",
       " of,\n",
       " this,\n",
       " channel]"
      ]
     },
     "execution_count": 7,
     "metadata": {},
     "output_type": "execute_result"
    }
   ],
   "source": [
    "# Let's get each individual word as an element.\n",
    "tokens = [token for token in doc]\n",
    "tokens"
   ]
  },
  {
   "cell_type": "code",
   "execution_count": 8,
   "id": "f8d3128a",
   "metadata": {},
   "outputs": [
    {
     "name": "stdout",
     "output_type": "stream",
     "text": [
      "Token is :  Hi --- Is this a stop word?  False --- Lemmatized token is:  hi\n",
      "Token is :  My --- Is this a stop word?  True --- Lemmatized token is:  my\n",
      "Token is :  name --- Is this a stop word?  True --- Lemmatized token is:  name\n",
      "Token is :  is --- Is this a stop word?  True --- Lemmatized token is:  be\n",
      "Token is :  Spencer --- Is this a stop word?  False --- Lemmatized token is:  Spencer\n",
      "Token is :  and --- Is this a stop word?  True --- Lemmatized token is:  and\n",
      "Token is :  I --- Is this a stop word?  True --- Lemmatized token is:  I\n",
      "Token is :  love --- Is this a stop word?  False --- Lemmatized token is:  love\n",
      "Token is :  doing --- Is this a stop word?  True --- Lemmatized token is:  do\n",
      "Token is :  videos --- Is this a stop word?  False --- Lemmatized token is:  video\n",
      "Token is :  related --- Is this a stop word?  False --- Lemmatized token is:  relate\n",
      "Token is :  to --- Is this a stop word?  True --- Lemmatized token is:  to\n",
      "Token is :  tech --- Is this a stop word?  False --- Lemmatized token is:  tech\n",
      "Token is :  implementationstrategy --- Is this a stop word?  False --- Lemmatized token is:  implementationstrategy\n",
      "Token is :  If --- Is this a stop word?  True --- Lemmatized token is:  if\n",
      "Token is :  you --- Is this a stop word?  True --- Lemmatized token is:  you\n",
      "Token is :  like --- Is this a stop word?  False --- Lemmatized token is:  like\n",
      "Token is :  finance --- Is this a stop word?  False --- Lemmatized token is:  finance\n",
      "Token is :  tech --- Is this a stop word?  False --- Lemmatized token is:  tech\n",
      "Token is :  or --- Is this a stop word?  True --- Lemmatized token is:  or\n",
      "Token is :  real --- Is this a stop word?  False --- Lemmatized token is:  real\n",
      "Token is :  worldQA --- Is this a stop word?  False --- Lemmatized token is:  worldQA\n",
      "Token is :  videos --- Is this a stop word?  False --- Lemmatized token is:  video\n",
      "Token is :  about --- Is this a stop word?  True --- Lemmatized token is:  about\n",
      "Token is :  Data --- Is this a stop word?  False --- Lemmatized token is:  Data\n",
      "Token is :  Science --- Is this a stop word?  False --- Lemmatized token is:  Science\n",
      "Token is :  Data --- Is this a stop word?  False --- Lemmatized token is:  Data\n",
      "Token is :  Engineering --- Is this a stop word?  False --- Lemmatized token is:  Engineering\n",
      "Token is :  and --- Is this a stop word?  True --- Lemmatized token is:  and\n",
      "Token is :  Data --- Is this a stop word?  False --- Lemmatized token is:  Data\n",
      "Token is :  Analyst --- Is this a stop word?  False --- Lemmatized token is:  Analyst\n",
      "Token is :  related --- Is this a stop word?  False --- Lemmatized token is:  relate\n",
      "Token is :  topics --- Is this a stop word?  False --- Lemmatized token is:  topic\n",
      "Token is :  let --- Is this a stop word?  False --- Lemmatized token is:  let\n",
      "Token is :  me --- Is this a stop word?  True --- Lemmatized token is:  I\n",
      "Token is :  know --- Is this a stop word?  False --- Lemmatized token is:  know\n",
      "Token is :  in --- Is this a stop word?  True --- Lemmatized token is:  in\n",
      "Token is :  the --- Is this a stop word?  True --- Lemmatized token is:  the\n",
      "Token is :  comments --- Is this a stop word?  False --- Lemmatized token is:  comment\n",
      "Token is :  down --- Is this a stop word?  True --- Lemmatized token is:  down\n",
      "Token is :  below --- Is this a stop word?  True --- Lemmatized token is:  below\n",
      "Token is :  psstIf --- Is this a stop word?  False --- Lemmatized token is:  psstIf\n",
      "Token is :  you --- Is this a stop word?  True --- Lemmatized token is:  you\n",
      "Token is :  made --- Is this a stop word?  True --- Lemmatized token is:  make\n",
      "Token is :  it --- Is this a stop word?  True --- Lemmatized token is:  it\n",
      "Token is :  this --- Is this a stop word?  True --- Lemmatized token is:  this\n",
      "Token is :  far --- Is this a stop word?  False --- Lemmatized token is:  far\n",
      "Token is :  in --- Is this a stop word?  True --- Lemmatized token is:  in\n",
      "Token is :  the --- Is this a stop word?  True --- Lemmatized token is:  the\n",
      "Token is :  video --- Is this a stop word?  False --- Lemmatized token is:  video\n",
      "Token is :  why --- Is this a stop word?  True --- Lemmatized token is:  why\n",
      "Token is :  do --- Is this a stop word?  True --- Lemmatized token is:  do\n",
      "Token is :  nt --- Is this a stop word?  False --- Lemmatized token is:  nt\n",
      "Token is :  you --- Is this a stop word?  True --- Lemmatized token is:  you\n",
      "Token is :  subscribe --- Is this a stop word?  False --- Lemmatized token is:  subscribe\n",
      "Token is :  I --- Is this a stop word?  True --- Lemmatized token is:  I\n",
      "Token is :  upload --- Is this a stop word?  False --- Lemmatized token is:  upload\n",
      "Token is :  videos --- Is this a stop word?  False --- Lemmatized token is:  video\n",
      "Token is :  every --- Is this a stop word?  True --- Lemmatized token is:  every\n",
      "Token is :  week --- Is this a stop word?  False --- Lemmatized token is:  week\n",
      "Token is :  on --- Is this a stop word?  True --- Lemmatized token is:  on\n",
      "Token is :  a --- Is this a stop word?  True --- Lemmatized token is:  a\n",
      "Token is :  Sunday --- Is this a stop word?  False --- Lemmatized token is:  Sunday\n",
      "Token is :    --- Is this a stop word?  False --- Lemmatized token is:   \n",
      "Token is :  PM --- Is this a stop word?  False --- Lemmatized token is:  PM\n",
      "Token is :  EST --- Is this a stop word?  False --- Lemmatized token is:  EST\n",
      "Token is :  If --- Is this a stop word?  True --- Lemmatized token is:  if\n",
      "Token is :  you --- Is this a stop word?  True --- Lemmatized token is:  you\n",
      "Token is :  likethis --- Is this a stop word?  False --- Lemmatized token is:  likethis\n",
      "Token is :  type --- Is this a stop word?  False --- Lemmatized token is:  type\n",
      "Token is :  of --- Is this a stop word?  True --- Lemmatized token is:  of\n",
      "Token is :  content --- Is this a stop word?  False --- Lemmatized token is:  content\n",
      "Token is :  make --- Is this a stop word?  True --- Lemmatized token is:  make\n",
      "Token is :  sure --- Is this a stop word?  False --- Lemmatized token is:  sure\n",
      "Token is :  to --- Is this a stop word?  True --- Lemmatized token is:  to\n",
      "Token is :  hit --- Is this a stop word?  False --- Lemmatized token is:  hit\n",
      "Token is :  that --- Is this a stop word?  True --- Lemmatized token is:  that\n",
      "Token is :  like --- Is this a stop word?  False --- Lemmatized token is:  like\n",
      "Token is :  button --- Is this a stop word?  False --- Lemmatized token is:  button\n",
      "Token is :  That --- Is this a stop word?  True --- Lemmatized token is:  that\n",
      "Token is :  really --- Is this a stop word?  True --- Lemmatized token is:  really\n",
      "Token is :  helps --- Is this a stop word?  False --- Lemmatized token is:  help\n",
      "Token is :  out --- Is this a stop word?  True --- Lemmatized token is:  out\n",
      "Token is :  with --- Is this a stop word?  True --- Lemmatized token is:  with\n",
      "Token is :  the --- Is this a stop word?  True --- Lemmatized token is:  the\n",
      "Token is :  growth --- Is this a stop word?  False --- Lemmatized token is:  growth\n",
      "Token is :  of --- Is this a stop word?  True --- Lemmatized token is:  of\n",
      "Token is :  this --- Is this a stop word?  True --- Lemmatized token is:  this\n",
      "Token is :  channel --- Is this a stop word?  False --- Lemmatized token is:  channel\n"
     ]
    }
   ],
   "source": [
    "'''\n",
    "    The idea behind normalizing words (lemmatization) seeks to convert your text to the 'base' format.\n",
    "    Print out the following: Token, Check if stop word, lemma version.\n",
    "'''\n",
    "for t in tokens:\n",
    "    print('Token is : ', t,'--- Is this a stop word? ', t.is_stop, '--- Lemmatized token is: ', t.lemma_)\n",
    "\n",
    "# Store the lemmas without the words.\n",
    "lemmas = [t.lemma_ for t in tokens if not t.is_stop]"
   ]
  },
  {
   "cell_type": "code",
   "execution_count": 9,
   "id": "9269d46c",
   "metadata": {},
   "outputs": [
    {
     "data": {
      "text/plain": [
       "My"
      ]
     },
     "execution_count": 9,
     "metadata": {},
     "output_type": "execute_result"
    }
   ],
   "source": [
    "tokens[1]"
   ]
  },
  {
   "cell_type": "markdown",
   "id": "ffd55c0c",
   "metadata": {},
   "source": [
    "# From this point on, I used a lot of the code from this kaggle notebook (And gained much of my inspiration to look into NLP). SO DO CHECK IT OUT! Link is in the description. \n",
    "# https://www.kaggle.com/paoloripamonti/twitter-sentiment-analysis/output"
   ]
  },
  {
   "cell_type": "code",
   "execution_count": 2,
   "id": "079c840a",
   "metadata": {},
   "outputs": [
    {
     "data": {
      "text/html": [
       "<div>\n",
       "<style scoped>\n",
       "    .dataframe tbody tr th:only-of-type {\n",
       "        vertical-align: middle;\n",
       "    }\n",
       "\n",
       "    .dataframe tbody tr th {\n",
       "        vertical-align: top;\n",
       "    }\n",
       "\n",
       "    .dataframe thead th {\n",
       "        text-align: right;\n",
       "    }\n",
       "</style>\n",
       "<table border=\"1\" class=\"dataframe\">\n",
       "  <thead>\n",
       "    <tr style=\"text-align: right;\">\n",
       "      <th></th>\n",
       "      <th>target</th>\n",
       "      <th>ids</th>\n",
       "      <th>date</th>\n",
       "      <th>flag</th>\n",
       "      <th>user</th>\n",
       "      <th>text</th>\n",
       "    </tr>\n",
       "  </thead>\n",
       "  <tbody>\n",
       "    <tr>\n",
       "      <th>0</th>\n",
       "      <td>NEGATIVE</td>\n",
       "      <td>1564407095</td>\n",
       "      <td>Mon Apr 20 03:20:33 PDT 2009</td>\n",
       "      <td>NO_QUERY</td>\n",
       "      <td>Chisstwitt</td>\n",
       "      <td>came back wee hours even collect peoples pound...</td>\n",
       "    </tr>\n",
       "    <tr>\n",
       "      <th>1</th>\n",
       "      <td>POSITIVE</td>\n",
       "      <td>1548670758</td>\n",
       "      <td>Fri Apr 17 21:37:04 PDT 2009</td>\n",
       "      <td>NO_QUERY</td>\n",
       "      <td>ZealousLady</td>\n",
       "      <td>agrees traveling fantastic new zealand yet</td>\n",
       "    </tr>\n",
       "    <tr>\n",
       "      <th>2</th>\n",
       "      <td>NEGATIVE</td>\n",
       "      <td>1557251210</td>\n",
       "      <td>Sun Apr 19 02:56:04 PDT 2009</td>\n",
       "      <td>NO_QUERY</td>\n",
       "      <td>seximamanikki</td>\n",
       "      <td>miss bed</td>\n",
       "    </tr>\n",
       "    <tr>\n",
       "      <th>3</th>\n",
       "      <td>POSITIVE</td>\n",
       "      <td>1554465373</td>\n",
       "      <td>Sat Apr 18 17:04:14 PDT 2009</td>\n",
       "      <td>NO_QUERY</td>\n",
       "      <td>boojitsu21</td>\n",
       "      <td>worked thanks added</td>\n",
       "    </tr>\n",
       "    <tr>\n",
       "      <th>4</th>\n",
       "      <td>NEGATIVE</td>\n",
       "      <td>1468202969</td>\n",
       "      <td>Tue Apr 07 00:16:34 PDT 2009</td>\n",
       "      <td>NO_QUERY</td>\n",
       "      <td>tutanrhamon</td>\n",
       "      <td>tuesday raining day</td>\n",
       "    </tr>\n",
       "    <tr>\n",
       "      <th>...</th>\n",
       "      <td>...</td>\n",
       "      <td>...</td>\n",
       "      <td>...</td>\n",
       "      <td>...</td>\n",
       "      <td>...</td>\n",
       "      <td>...</td>\n",
       "    </tr>\n",
       "    <tr>\n",
       "      <th>99995</th>\n",
       "      <td>POSITIVE</td>\n",
       "      <td>1556489688</td>\n",
       "      <td>Sat Apr 18 23:02:18 PDT 2009</td>\n",
       "      <td>NO_QUERY</td>\n",
       "      <td>HamsterHammy</td>\n",
       "      <td>z awake runnin around come watch</td>\n",
       "    </tr>\n",
       "    <tr>\n",
       "      <th>99996</th>\n",
       "      <td>NEGATIVE</td>\n",
       "      <td>1562354288</td>\n",
       "      <td>Sun Apr 19 19:47:08 PDT 2009</td>\n",
       "      <td>NO_QUERY</td>\n",
       "      <td>lolalayo</td>\n",
       "      <td>dont want go bed still much work</td>\n",
       "    </tr>\n",
       "    <tr>\n",
       "      <th>99997</th>\n",
       "      <td>POSITIVE</td>\n",
       "      <td>1551241200</td>\n",
       "      <td>Sat Apr 18 08:31:32 PDT 2009</td>\n",
       "      <td>NO_QUERY</td>\n",
       "      <td>dhindmanjr</td>\n",
       "      <td>pleasure</td>\n",
       "    </tr>\n",
       "    <tr>\n",
       "      <th>99998</th>\n",
       "      <td>NEGATIVE</td>\n",
       "      <td>1559352933</td>\n",
       "      <td>Sun Apr 19 10:55:08 PDT 2009</td>\n",
       "      <td>NO_QUERY</td>\n",
       "      <td>Sasha_Maria</td>\n",
       "      <td>sorry</td>\n",
       "    </tr>\n",
       "    <tr>\n",
       "      <th>99999</th>\n",
       "      <td>NEGATIVE</td>\n",
       "      <td>1469897099</td>\n",
       "      <td>Tue Apr 07 07:44:36 PDT 2009</td>\n",
       "      <td>NO_QUERY</td>\n",
       "      <td>redux52000</td>\n",
       "      <td>much work</td>\n",
       "    </tr>\n",
       "  </tbody>\n",
       "</table>\n",
       "<p>100000 rows × 6 columns</p>\n",
       "</div>"
      ],
      "text/plain": [
       "         target         ids                          date      flag  \\\n",
       "0      NEGATIVE  1564407095  Mon Apr 20 03:20:33 PDT 2009  NO_QUERY   \n",
       "1      POSITIVE  1548670758  Fri Apr 17 21:37:04 PDT 2009  NO_QUERY   \n",
       "2      NEGATIVE  1557251210  Sun Apr 19 02:56:04 PDT 2009  NO_QUERY   \n",
       "3      POSITIVE  1554465373  Sat Apr 18 17:04:14 PDT 2009  NO_QUERY   \n",
       "4      NEGATIVE  1468202969  Tue Apr 07 00:16:34 PDT 2009  NO_QUERY   \n",
       "...         ...         ...                           ...       ...   \n",
       "99995  POSITIVE  1556489688  Sat Apr 18 23:02:18 PDT 2009  NO_QUERY   \n",
       "99996  NEGATIVE  1562354288  Sun Apr 19 19:47:08 PDT 2009  NO_QUERY   \n",
       "99997  POSITIVE  1551241200  Sat Apr 18 08:31:32 PDT 2009  NO_QUERY   \n",
       "99998  NEGATIVE  1559352933  Sun Apr 19 10:55:08 PDT 2009  NO_QUERY   \n",
       "99999  NEGATIVE  1469897099  Tue Apr 07 07:44:36 PDT 2009  NO_QUERY   \n",
       "\n",
       "                user                                               text  \n",
       "0         Chisstwitt  came back wee hours even collect peoples pound...  \n",
       "1        ZealousLady         agrees traveling fantastic new zealand yet  \n",
       "2      seximamanikki                                           miss bed  \n",
       "3         boojitsu21                                worked thanks added  \n",
       "4        tutanrhamon                                tuesday raining day  \n",
       "...              ...                                                ...  \n",
       "99995   HamsterHammy                   z awake runnin around come watch  \n",
       "99996       lolalayo                   dont want go bed still much work  \n",
       "99997     dhindmanjr                                           pleasure  \n",
       "99998    Sasha_Maria                                              sorry  \n",
       "99999     redux52000                                          much work  \n",
       "\n",
       "[100000 rows x 6 columns]"
      ]
     },
     "execution_count": 2,
     "metadata": {},
     "output_type": "execute_result"
    }
   ],
   "source": [
    "# Reading in twitter data on sentiment. (NEGATIVE, POSITIVE for target)\n",
    "# Already cleaned and preprocessed...\n",
    "df = pd.read_csv('twitter_data.csv')\n",
    "df = df.sample(frac=1).reset_index()\n",
    "df = df.drop(['index'], axis = 1)\n",
    "df"
   ]
  },
  {
   "cell_type": "code",
   "execution_count": 3,
   "id": "0bf4cf85",
   "metadata": {},
   "outputs": [
    {
     "name": "stderr",
     "output_type": "stream",
     "text": [
      "[nltk_data] Downloading package stopwords to\n",
      "[nltk_data]     C:\\Users\\Spenc\\AppData\\Roaming\\nltk_data...\n",
      "[nltk_data]   Package stopwords is already up-to-date!\n"
     ]
    }
   ],
   "source": [
    "nltk.download('stopwords')\n",
    "stop_words = stopwords.words(\"english\")\n",
    "stemmer = SnowballStemmer(\"english\")\n",
    "\n",
    "def preprocess(text, stem=False):\n",
    "    # Remove link,user and special characters\n",
    "    text = re.sub(\"@\\S+|https?:\\S+|http?:\\S|[^A-Za-z0-9]+\", ' ', str(text).lower()).strip()\n",
    "    tokens = []\n",
    "    for token in text.split():\n",
    "        if token not in stop_words:\n",
    "            if stem:\n",
    "                tokens.append(stemmer.stem(token))\n",
    "            else:\n",
    "                tokens.append(token)\n",
    "    return \" \".join(tokens)"
   ]
  },
  {
   "cell_type": "code",
   "execution_count": 4,
   "id": "5210e472",
   "metadata": {},
   "outputs": [
    {
     "name": "stdout",
     "output_type": "stream",
     "text": [
      "Wall time: 1.82 s\n"
     ]
    }
   ],
   "source": [
    "%%time\n",
    "df.text = df.text.apply(lambda x: preprocess(x)) # preprocessing the text data."
   ]
  },
  {
   "cell_type": "code",
   "execution_count": 7,
   "id": "86b84469",
   "metadata": {},
   "outputs": [
    {
     "data": {
      "text/plain": [
       "'came back wee hours even collect peoples pound got lost trying come back'"
      ]
     },
     "execution_count": 7,
     "metadata": {},
     "output_type": "execute_result"
    }
   ],
   "source": [
    "df.text[0]"
   ]
  },
  {
   "cell_type": "code",
   "execution_count": 13,
   "id": "b4a58a96",
   "metadata": {},
   "outputs": [
    {
     "name": "stdout",
     "output_type": "stream",
     "text": [
      "TRAIN size: 80000\n",
      "TEST size: 20000\n"
     ]
    }
   ],
   "source": [
    "# Split into train and test dataset.\n",
    "df_train, df_test = train_test_split(df, test_size=0.2, random_state=42)\n",
    "print(\"TRAIN size:\", len(df_train))\n",
    "print(\"TEST size:\", len(df_test))"
   ]
  },
  {
   "cell_type": "code",
   "execution_count": 14,
   "id": "2b490b92",
   "metadata": {},
   "outputs": [
    {
     "data": {
      "text/plain": [
       "0    annoying makeshift defence behaved like makesh...\n",
       "1    last day bowling tonite sad beautiful day outs...\n",
       "2         watching faithfully never heard anything sad\n",
       "3                                       ahh food class\n",
       "4                                              hi demi\n",
       "5                          lot angst tuesday afternoon\n",
       "6    installed twitter client iphone inform directl...\n",
       "7                                          problem dms\n",
       "8    asot400 lmao mr sam think sly dig track playin...\n",
       "9                                       wish wee scoof\n",
       "Name: text, dtype: object"
      ]
     },
     "execution_count": 14,
     "metadata": {},
     "output_type": "execute_result"
    }
   ],
   "source": [
    "df.text[0:10]"
   ]
  },
  {
   "cell_type": "markdown",
   "id": "7e68f750",
   "metadata": {},
   "source": [
    "# Word2vec\n",
    "This neural network vectorizes the words so that each 'text' can be understood in a neural network. But, the main purpose of the 2 layer neural network is to convert text to a vector, where the vector can be read in to a future neural network AND has a relationship embeddings behind the vectorized values based on cosine similarity."
   ]
  },
  {
   "cell_type": "code",
   "execution_count": 15,
   "id": "94d7ffb5",
   "metadata": {},
   "outputs": [
    {
     "name": "stdout",
     "output_type": "stream",
     "text": [
      "Wall time: 171 ms\n"
     ]
    }
   ],
   "source": [
    "%%time\n",
    "documents = [_text.split() for _text in df_train.text] "
   ]
  },
  {
   "cell_type": "code",
   "execution_count": 16,
   "id": "24b97033",
   "metadata": {},
   "outputs": [
    {
     "name": "stdout",
     "output_type": "stream",
     "text": [
      "Vocab size 5463\n"
     ]
    }
   ],
   "source": [
    "w2v_model = gensim.models.word2vec.Word2Vec(vector_size =300, # vector size \n",
    "                                            window=7, # distance between current and predicted word within a sentence\n",
    "                                            min_count=10, # ignores words with total frequency less than the parameter\n",
    "                                            workers=8) # threads\n",
    "w2v_model.build_vocab(documents)\n",
    "words = w2v_model.wv.index_to_key\n",
    "vocab_size = len(words)\n",
    "print(\"Vocab size\", vocab_size)"
   ]
  },
  {
   "cell_type": "code",
   "execution_count": 17,
   "id": "c2831baf",
   "metadata": {},
   "outputs": [
    {
     "name": "stdout",
     "output_type": "stream",
     "text": [
      "Wall time: 7.1 s\n"
     ]
    },
    {
     "data": {
      "text/plain": [
       "(14452459, 18298880)"
      ]
     },
     "execution_count": 17,
     "metadata": {},
     "output_type": "execute_result"
    }
   ],
   "source": [
    "%%time\n",
    "w2v_model.train(documents, total_examples=len(documents), epochs=32)"
   ]
  },
  {
   "cell_type": "code",
   "execution_count": 18,
   "id": "3521d152",
   "metadata": {},
   "outputs": [
    {
     "data": {
      "text/plain": [
       "[('horrible', 0.3705178201198578),\n",
       " ('creepy', 0.3669455945491791),\n",
       " ('disgusting', 0.3664887547492981),\n",
       " ('understand', 0.3367389440536499),\n",
       " ('awful', 0.33474934101104736),\n",
       " ('guilty', 0.33130747079849243),\n",
       " ('weird', 0.3161929249763489),\n",
       " ('tells', 0.30077123641967773),\n",
       " ('worse', 0.2977883815765381),\n",
       " ('interesting', 0.2937477231025696)]"
      ]
     },
     "execution_count": 18,
     "metadata": {},
     "output_type": "execute_result"
    }
   ],
   "source": [
    "w2v_model.wv.most_similar(\"like\")"
   ]
  },
  {
   "cell_type": "code",
   "execution_count": 19,
   "id": "60de0c7b",
   "metadata": {},
   "outputs": [
    {
     "data": {
      "text/plain": [
       "[('link', 0.4997900128364563),\n",
       " ('commented', 0.48193472623825073),\n",
       " ('blogtv', 0.45630455017089844),\n",
       " ('comments', 0.4551774561405182),\n",
       " ('flickr', 0.4323364198207855),\n",
       " ('suscribe', 0.43144938349723816),\n",
       " ('youtube', 0.41703295707702637),\n",
       " ('tips', 0.4112967848777771),\n",
       " ('posts', 0.41110652685165405),\n",
       " ('blogspot', 0.4078652262687683)]"
      ]
     },
     "execution_count": 19,
     "metadata": {},
     "output_type": "execute_result"
    }
   ],
   "source": [
    "w2v_model.wv.most_similar(\"comment\")"
   ]
  },
  {
   "cell_type": "code",
   "execution_count": 20,
   "id": "fc2c59a1",
   "metadata": {},
   "outputs": [],
   "source": [
    "# w2v_model.wv.most_similar(\"subscribe\")"
   ]
  },
  {
   "cell_type": "markdown",
   "id": "ea083000",
   "metadata": {},
   "source": [
    "# Tokenize Text & Create Embedding Layer.\n",
    "Once you have created a word2vec model, go back and your observations to a token."
   ]
  },
  {
   "cell_type": "code",
   "execution_count": 21,
   "id": "5e204ae6",
   "metadata": {},
   "outputs": [
    {
     "name": "stdout",
     "output_type": "stream",
     "text": [
      "Total words 48018\n",
      "Wall time: 764 ms\n"
     ]
    }
   ],
   "source": [
    "%%time\n",
    "tokenizer = Tokenizer()\n",
    "tokenizer.fit_on_texts(df_train.text)\n",
    "\n",
    "vocab_size = len(tokenizer.word_index) + 1\n",
    "print(\"Total words\", vocab_size)"
   ]
  },
  {
   "cell_type": "code",
   "execution_count": 22,
   "id": "e45bc5c3",
   "metadata": {},
   "outputs": [
    {
     "name": "stdout",
     "output_type": "stream",
     "text": [
      "Wall time: 1.17 s\n"
     ]
    }
   ],
   "source": [
    "%%time\n",
    "x_train = pad_sequences(tokenizer.texts_to_sequences(df_train.text), maxlen=300)\n",
    "x_test = pad_sequences(tokenizer.texts_to_sequences(df_test.text), maxlen=300)"
   ]
  },
  {
   "cell_type": "code",
   "execution_count": 23,
   "id": "86559bc5",
   "metadata": {},
   "outputs": [
    {
     "name": "stdout",
     "output_type": "stream",
     "text": [
      "80000 20000\n"
     ]
    }
   ],
   "source": [
    "print(len(x_train), len(x_test))"
   ]
  },
  {
   "cell_type": "code",
   "execution_count": 24,
   "id": "404e38c3",
   "metadata": {},
   "outputs": [
    {
     "name": "stdout",
     "output_type": "stream",
     "text": [
      "(48018, 300)\n"
     ]
    }
   ],
   "source": [
    "# Creating an embedding layer that will act as an input layer for the neural network.\n",
    "embedding_matrix = np.zeros((vocab_size, 300))\n",
    "for word, i in tokenizer.word_index.items():\n",
    "    if word in w2v_model.wv:\n",
    "        embedding_matrix[i] = w2v_model.wv[word]\n",
    "print(embedding_matrix.shape)\n",
    "# used in the future.\n",
    "embedding_layer = Embedding(vocab_size, 300, weights=[embedding_matrix], input_length=300, trainable=False)"
   ]
  },
  {
   "cell_type": "markdown",
   "id": "6a6c6423",
   "metadata": {},
   "source": [
    "# Label Encoder (Encoding the Dependent variables to 0 or 1)"
   ]
  },
  {
   "cell_type": "code",
   "execution_count": 25,
   "id": "89e74bb9",
   "metadata": {},
   "outputs": [
    {
     "data": {
      "text/plain": [
       "['NEGATIVE', 'POSITIVE']"
      ]
     },
     "execution_count": 25,
     "metadata": {},
     "output_type": "execute_result"
    }
   ],
   "source": [
    "labels = df_train.target.unique().tolist()\n",
    "labels"
   ]
  },
  {
   "cell_type": "code",
   "execution_count": 26,
   "id": "8286df27",
   "metadata": {},
   "outputs": [
    {
     "name": "stdout",
     "output_type": "stream",
     "text": [
      "y_train (80000, 1)\n",
      "y_test (20000, 1)\n"
     ]
    }
   ],
   "source": [
    "encoder = LabelEncoder()\n",
    "encoder.fit(df_train.target.tolist())\n",
    "\n",
    "y_train = encoder.transform(df_train.target.tolist())\n",
    "y_test = encoder.transform(df_test.target.tolist())\n",
    "\n",
    "y_train = y_train.reshape(-1,1)\n",
    "y_test = y_test.reshape(-1,1)\n",
    "\n",
    "print(\"y_train\",y_train.shape)\n",
    "print(\"y_test\",y_test.shape) "
   ]
  },
  {
   "cell_type": "code",
   "execution_count": 27,
   "id": "fbec8308",
   "metadata": {},
   "outputs": [
    {
     "data": {
      "text/html": [
       "<div>\n",
       "<style scoped>\n",
       "    .dataframe tbody tr th:only-of-type {\n",
       "        vertical-align: middle;\n",
       "    }\n",
       "\n",
       "    .dataframe tbody tr th {\n",
       "        vertical-align: top;\n",
       "    }\n",
       "\n",
       "    .dataframe thead th {\n",
       "        text-align: right;\n",
       "    }\n",
       "</style>\n",
       "<table border=\"1\" class=\"dataframe\">\n",
       "  <thead>\n",
       "    <tr style=\"text-align: right;\">\n",
       "      <th></th>\n",
       "      <th>target</th>\n",
       "      <th>ids</th>\n",
       "      <th>date</th>\n",
       "      <th>flag</th>\n",
       "      <th>user</th>\n",
       "      <th>text</th>\n",
       "    </tr>\n",
       "  </thead>\n",
       "  <tbody>\n",
       "    <tr>\n",
       "      <th>75220</th>\n",
       "      <td>NEGATIVE</td>\n",
       "      <td>1564558376</td>\n",
       "      <td>Mon Apr 20 04:02:14 PDT 2009</td>\n",
       "      <td>NO_QUERY</td>\n",
       "      <td>greenteadesigns</td>\n",
       "      <td>much disappointment oh well get body back bit ...</td>\n",
       "    </tr>\n",
       "    <tr>\n",
       "      <th>48955</th>\n",
       "      <td>NEGATIVE</td>\n",
       "      <td>1557206667</td>\n",
       "      <td>Sun Apr 19 02:38:56 PDT 2009</td>\n",
       "      <td>NO_QUERY</td>\n",
       "      <td>jordiichaffer</td>\n",
       "      <td>wondering things different</td>\n",
       "    </tr>\n",
       "    <tr>\n",
       "      <th>44966</th>\n",
       "      <td>NEGATIVE</td>\n",
       "      <td>1551936140</td>\n",
       "      <td>Sat Apr 18 10:21:29 PDT 2009</td>\n",
       "      <td>NO_QUERY</td>\n",
       "      <td>the_matty_boosh</td>\n",
       "      <td>got slippy socks skidded bottom step stairs tw...</td>\n",
       "    </tr>\n",
       "    <tr>\n",
       "      <th>13568</th>\n",
       "      <td>NEGATIVE</td>\n",
       "      <td>1469282666</td>\n",
       "      <td>Tue Apr 07 05:52:34 PDT 2009</td>\n",
       "      <td>NO_QUERY</td>\n",
       "      <td>angelroxy</td>\n",
       "      <td>gonna go bible bashing get time round way</td>\n",
       "    </tr>\n",
       "    <tr>\n",
       "      <th>92727</th>\n",
       "      <td>POSITIVE</td>\n",
       "      <td>1468853968</td>\n",
       "      <td>Tue Apr 07 04:04:41 PDT 2009</td>\n",
       "      <td>NO_QUERY</td>\n",
       "      <td>lineky</td>\n",
       "      <td>hols j day ice cream nice indeed</td>\n",
       "    </tr>\n",
       "    <tr>\n",
       "      <th>...</th>\n",
       "      <td>...</td>\n",
       "      <td>...</td>\n",
       "      <td>...</td>\n",
       "      <td>...</td>\n",
       "      <td>...</td>\n",
       "      <td>...</td>\n",
       "    </tr>\n",
       "    <tr>\n",
       "      <th>6265</th>\n",
       "      <td>POSITIVE</td>\n",
       "      <td>1560005484</td>\n",
       "      <td>Sun Apr 19 12:36:15 PDT 2009</td>\n",
       "      <td>NO_QUERY</td>\n",
       "      <td>thatgirlcarol</td>\n",
       "      <td>yeah whatever</td>\n",
       "    </tr>\n",
       "    <tr>\n",
       "      <th>54886</th>\n",
       "      <td>NEGATIVE</td>\n",
       "      <td>1675956903</td>\n",
       "      <td>Fri May 01 20:44:11 PDT 2009</td>\n",
       "      <td>NO_QUERY</td>\n",
       "      <td>ajk3000</td>\n",
       "      <td>quot cooch quot smell tmi surfing cthulu picki...</td>\n",
       "    </tr>\n",
       "    <tr>\n",
       "      <th>76820</th>\n",
       "      <td>POSITIVE</td>\n",
       "      <td>1552003692</td>\n",
       "      <td>Sat Apr 18 10:32:04 PDT 2009</td>\n",
       "      <td>NO_QUERY</td>\n",
       "      <td>RaPeRbOy</td>\n",
       "      <td>cum fost mancarea</td>\n",
       "    </tr>\n",
       "    <tr>\n",
       "      <th>860</th>\n",
       "      <td>NEGATIVE</td>\n",
       "      <td>1469175023</td>\n",
       "      <td>Tue Apr 07 05:29:32 PDT 2009</td>\n",
       "      <td>NO_QUERY</td>\n",
       "      <td>RC73</td>\n",
       "      <td>cool snow detroit lately haha</td>\n",
       "    </tr>\n",
       "    <tr>\n",
       "      <th>15795</th>\n",
       "      <td>POSITIVE</td>\n",
       "      <td>1467901300</td>\n",
       "      <td>Mon Apr 06 22:43:45 PDT 2009</td>\n",
       "      <td>NO_QUERY</td>\n",
       "      <td>LogomotiveMike</td>\n",
       "      <td>good point 2 draw 2 nice quote though like</td>\n",
       "    </tr>\n",
       "  </tbody>\n",
       "</table>\n",
       "<p>80000 rows × 6 columns</p>\n",
       "</div>"
      ],
      "text/plain": [
       "         target         ids                          date      flag  \\\n",
       "75220  NEGATIVE  1564558376  Mon Apr 20 04:02:14 PDT 2009  NO_QUERY   \n",
       "48955  NEGATIVE  1557206667  Sun Apr 19 02:38:56 PDT 2009  NO_QUERY   \n",
       "44966  NEGATIVE  1551936140  Sat Apr 18 10:21:29 PDT 2009  NO_QUERY   \n",
       "13568  NEGATIVE  1469282666  Tue Apr 07 05:52:34 PDT 2009  NO_QUERY   \n",
       "92727  POSITIVE  1468853968  Tue Apr 07 04:04:41 PDT 2009  NO_QUERY   \n",
       "...         ...         ...                           ...       ...   \n",
       "6265   POSITIVE  1560005484  Sun Apr 19 12:36:15 PDT 2009  NO_QUERY   \n",
       "54886  NEGATIVE  1675956903  Fri May 01 20:44:11 PDT 2009  NO_QUERY   \n",
       "76820  POSITIVE  1552003692  Sat Apr 18 10:32:04 PDT 2009  NO_QUERY   \n",
       "860    NEGATIVE  1469175023  Tue Apr 07 05:29:32 PDT 2009  NO_QUERY   \n",
       "15795  POSITIVE  1467901300  Mon Apr 06 22:43:45 PDT 2009  NO_QUERY   \n",
       "\n",
       "                  user                                               text  \n",
       "75220  greenteadesigns  much disappointment oh well get body back bit ...  \n",
       "48955    jordiichaffer                         wondering things different  \n",
       "44966  the_matty_boosh  got slippy socks skidded bottom step stairs tw...  \n",
       "13568        angelroxy          gonna go bible bashing get time round way  \n",
       "92727           lineky                   hols j day ice cream nice indeed  \n",
       "...                ...                                                ...  \n",
       "6265     thatgirlcarol                                      yeah whatever  \n",
       "54886          ajk3000  quot cooch quot smell tmi surfing cthulu picki...  \n",
       "76820         RaPeRbOy                                  cum fost mancarea  \n",
       "860               RC73                      cool snow detroit lately haha  \n",
       "15795   LogomotiveMike         good point 2 draw 2 nice quote though like  \n",
       "\n",
       "[80000 rows x 6 columns]"
      ]
     },
     "execution_count": 27,
     "metadata": {},
     "output_type": "execute_result"
    }
   ],
   "source": [
    "df_train"
   ]
  },
  {
   "cell_type": "code",
   "execution_count": 28,
   "id": "e093931e",
   "metadata": {},
   "outputs": [
    {
     "data": {
      "text/plain": [
       "array([[0],\n",
       "       [0],\n",
       "       [0],\n",
       "       ...,\n",
       "       [1],\n",
       "       [0],\n",
       "       [1]])"
      ]
     },
     "execution_count": 28,
     "metadata": {},
     "output_type": "execute_result"
    }
   ],
   "source": [
    "y_train"
   ]
  },
  {
   "cell_type": "markdown",
   "id": "1260d3ba",
   "metadata": {},
   "source": [
    "# Creating the Model."
   ]
  },
  {
   "cell_type": "code",
   "execution_count": 29,
   "id": "15372416",
   "metadata": {},
   "outputs": [
    {
     "name": "stdout",
     "output_type": "stream",
     "text": [
      "Model: \"sequential\"\n",
      "_________________________________________________________________\n",
      "Layer (type)                 Output Shape              Param #   \n",
      "=================================================================\n",
      "embedding (Embedding)        (None, 300, 300)          14405400  \n",
      "_________________________________________________________________\n",
      "dropout (Dropout)            (None, 300, 300)          0         \n",
      "_________________________________________________________________\n",
      "lstm (LSTM)                  (None, 100)               160400    \n",
      "_________________________________________________________________\n",
      "dense (Dense)                (None, 1)                 101       \n",
      "=================================================================\n",
      "Total params: 14,565,901\n",
      "Trainable params: 160,501\n",
      "Non-trainable params: 14,405,400\n",
      "_________________________________________________________________\n"
     ]
    }
   ],
   "source": [
    "model = Sequential()\n",
    "model.add(embedding_layer)\n",
    "model.add(Dropout(0.5))\n",
    "model.add(LSTM(100, dropout=0.2, recurrent_dropout=0.2)) # This can be BERT which may have better performance. \n",
    "model.add(Dense(1, activation='sigmoid'))\n",
    "model.summary()"
   ]
  },
  {
   "cell_type": "code",
   "execution_count": 30,
   "id": "88e6415d",
   "metadata": {},
   "outputs": [],
   "source": [
    "model.compile(loss='binary_crossentropy',\n",
    "              optimizer=\"adam\",\n",
    "              metrics=['accuracy'])\n",
    "callbacks = [ ReduceLROnPlateau(monitor='val_loss', patience=5, cooldown=0),\n",
    "              EarlyStopping(monitor='val_accuracy', min_delta=1e-4, patience=5)]"
   ]
  },
  {
   "cell_type": "markdown",
   "id": "d8d23580",
   "metadata": {},
   "source": [
    "# Train\n",
    "\n",
    "## Note to self... I already ran the model and it took 2 hours to run..."
   ]
  },
  {
   "cell_type": "code",
   "execution_count": 31,
   "id": "4322f302",
   "metadata": {},
   "outputs": [
    {
     "name": "stdout",
     "output_type": "stream",
     "text": [
      "Epoch 1/8\n",
      "71/71 [==============================] - 564s 8s/step - loss: 0.6145 - accuracy: 0.6527 - val_loss: 0.5263 - val_accuracy: 0.7469\n",
      "Epoch 2/8\n",
      "71/71 [==============================] - 722s 10s/step - loss: 0.5496 - accuracy: 0.7168 - val_loss: 0.5160 - val_accuracy: 0.7541\n",
      "Epoch 3/8\n",
      "71/71 [==============================] - 847s 12s/step - loss: 0.5356 - accuracy: 0.7303 - val_loss: 0.5173 - val_accuracy: 0.7499\n",
      "Epoch 4/8\n",
      "71/71 [==============================] - 909s 13s/step - loss: 0.5266 - accuracy: 0.7357 - val_loss: 0.5033 - val_accuracy: 0.7588\n",
      "Epoch 5/8\n",
      "71/71 [==============================] - 930s 13s/step - loss: 0.5194 - accuracy: 0.7400 - val_loss: 0.5028 - val_accuracy: 0.7619\n",
      "Epoch 6/8\n",
      "71/71 [==============================] - 989s 14s/step - loss: 0.5152 - accuracy: 0.7444 - val_loss: 0.4983 - val_accuracy: 0.7610\n",
      "Epoch 7/8\n",
      "71/71 [==============================] - 1033s 15s/step - loss: 0.5055 - accuracy: 0.7487 - val_loss: 0.4979 - val_accuracy: 0.7634\n",
      "Epoch 8/8\n",
      "71/71 [==============================] - 1044s 15s/step - loss: 0.5024 - accuracy: 0.7510 - val_loss: 0.4975 - val_accuracy: 0.7606\n",
      "Wall time: 1h 57min 17s\n"
     ]
    }
   ],
   "source": [
    "%%time\n",
    "history = model.fit(x_train,\n",
    "                    y_train,\n",
    "                    batch_size=1024,\n",
    "                    epochs=8,\n",
    "                    validation_split=0.1,\n",
    "                    verbose=1,\n",
    "                    callbacks = callbacks)"
   ]
  },
  {
   "cell_type": "markdown",
   "id": "bb1d7be3",
   "metadata": {},
   "source": [
    "# Evaluate"
   ]
  },
  {
   "cell_type": "code",
   "execution_count": 32,
   "id": "48d52525",
   "metadata": {},
   "outputs": [
    {
     "name": "stdout",
     "output_type": "stream",
     "text": [
      "625/625 [==============================] - 79s 124ms/step - loss: 0.5023 - accuracy: 0.7566\n",
      "\n",
      "ACCURACY: 0.7565500140190125\n",
      "LOSS: 0.5023207068443298\n",
      "Wall time: 1min 18s\n"
     ]
    }
   ],
   "source": [
    "%%time\n",
    "score = model.evaluate(x_test, y_test, batch_size=32)\n",
    "print()\n",
    "print(\"ACCURACY:\",score[1])\n",
    "print(\"LOSS:\",score[0])"
   ]
  },
  {
   "cell_type": "code",
   "execution_count": 33,
   "id": "71d895eb",
   "metadata": {},
   "outputs": [
    {
     "data": {
      "text/plain": [
       "{'loss': [0.5827214121818542,\n",
       "  0.5464457869529724,\n",
       "  0.5341474413871765,\n",
       "  0.5262200236320496,\n",
       "  0.5165265798568726,\n",
       "  0.5126975774765015,\n",
       "  0.5071057081222534,\n",
       "  0.5026800036430359],\n",
       " 'accuracy': [0.6887916922569275,\n",
       "  0.7210694551467896,\n",
       "  0.7294999957084656,\n",
       "  0.7355555295944214,\n",
       "  0.7419583201408386,\n",
       "  0.7456527948379517,\n",
       "  0.7474166750907898,\n",
       "  0.7505972385406494],\n",
       " 'val_loss': [0.5262845754623413,\n",
       "  0.51601243019104,\n",
       "  0.517312228679657,\n",
       "  0.5033125877380371,\n",
       "  0.5027515888214111,\n",
       "  0.4982999861240387,\n",
       "  0.4978901147842407,\n",
       "  0.49752214550971985],\n",
       " 'val_accuracy': [0.746874988079071,\n",
       "  0.7541249990463257,\n",
       "  0.749875009059906,\n",
       "  0.7587500214576721,\n",
       "  0.7618749737739563,\n",
       "  0.7609999775886536,\n",
       "  0.7633749842643738,\n",
       "  0.7606250047683716],\n",
       " 'lr': [0.001, 0.001, 0.001, 0.001, 0.001, 0.001, 0.001, 0.001]}"
      ]
     },
     "execution_count": 33,
     "metadata": {},
     "output_type": "execute_result"
    }
   ],
   "source": [
    "history.history"
   ]
  },
  {
   "cell_type": "code",
   "execution_count": 34,
   "id": "80a3a902",
   "metadata": {},
   "outputs": [
    {
     "data": {
      "image/png": "[encoded data removed]",
      "text/plain": [
       "<Figure size 432x288 with 1 Axes>"
      ]
     },
     "metadata": {
      "needs_background": "light"
     },
     "output_type": "display_data"
    },
    {
     "data": {
      "image/png": "[encoded data removed]",
      "text/plain": [
       "<Figure size 432x288 with 1 Axes>"
      ]
     },
     "metadata": {
      "needs_background": "light"
     },
     "output_type": "display_data"
    }
   ],
   "source": [
    "acc = history.history['accuracy']\n",
    "val_acc = history.history['val_accuracy']\n",
    "loss = history.history['loss']\n",
    "val_loss = history.history['val_loss']\n",
    " \n",
    "epochs = range(len(acc))\n",
    " \n",
    "plt.plot(epochs, acc, 'b', label='Training acc')\n",
    "plt.plot(epochs, val_acc, 'r', label='Validation acc')\n",
    "plt.title('Training and validation accuracy')\n",
    "plt.legend()\n",
    " \n",
    "plt.figure()\n",
    " \n",
    "plt.plot(epochs, loss, 'b', label='Training loss')\n",
    "plt.plot(epochs, val_loss, 'r', label='Validation loss')\n",
    "plt.title('Training and validation loss')\n",
    "plt.legend()\n",
    " \n",
    "plt.show() # Seems like the model may be overfitting. training loss << validation loss"
   ]
  },
  {
   "cell_type": "code",
   "execution_count": 39,
   "id": "1dd3bce1",
   "metadata": {},
   "outputs": [],
   "source": [
    "def decode_sentiment(score):\n",
    "    return 'NEGATIVE' if score < 0.5 else 'POSITIVE'\n",
    "    \n",
    "def predict(text, include_neutral=True):\n",
    "    start_at = time.time()\n",
    "    # Tokenize text\n",
    "    x_test = pad_sequences(tokenizer.texts_to_sequences([text]), maxlen=300)\n",
    "    # Predict\n",
    "    score = model.predict([x_test])[0]\n",
    "#     print(score)\n",
    "    # Decode sentiment\n",
    "    label = decode_sentiment(score[0])\n",
    "\n",
    "    return {\"label\": label, \"score\": float(score),\n",
    "       \"elapsed_time\": time.time()-start_at}  "
   ]
  },
  {
   "cell_type": "code",
   "execution_count": 40,
   "id": "5776bb35",
   "metadata": {},
   "outputs": [
    {
     "data": {
      "text/plain": [
       "{'label': 'POSITIVE',\n",
       " 'score': 0.6529418230056763,\n",
       " 'elapsed_time': 0.08769869804382324}"
      ]
     },
     "execution_count": 40,
     "metadata": {},
     "output_type": "execute_result"
    }
   ],
   "source": [
    "predict(\"Leave a like on this video, comment, and subscribe for more!\")"
   ]
  },
  {
   "cell_type": "code",
   "execution_count": 41,
   "id": "93576ac8",
   "metadata": {},
   "outputs": [
    {
     "data": {
      "text/plain": [
       "{'label': 'POSITIVE',\n",
       " 'score': 0.6415274143218994,\n",
       " 'elapsed_time': 0.08696579933166504}"
      ]
     },
     "execution_count": 41,
     "metadata": {},
     "output_type": "execute_result"
    }
   ],
   "source": [
    "predict(\"I hope you like it!\")"
   ]
  },
  {
   "cell_type": "code",
   "execution_count": 43,
   "id": "e5cc3f37",
   "metadata": {},
   "outputs": [
    {
     "data": {
      "text/plain": [
       "{'label': 'POSITIVE',\n",
       " 'score': 0.9130052328109741,\n",
       " 'elapsed_time': 0.08437418937683105}"
      ]
     },
     "execution_count": 43,
     "metadata": {},
     "output_type": "execute_result"
    }
   ],
   "source": [
    "predict(\"I love you\")"
   ]
  }
 ],
 "metadata": {
  "kernelspec": {
   "display_name": "Python 3",
   "language": "python",
   "name": "python3"
  },
  "language_info": {
   "codemirror_mode": {
    "name": "ipython",
    "version": 3
   },
   "file_extension": ".py",
   "mimetype": "text/x-python",
   "name": "python",
   "nbconvert_exporter": "python",
   "pygments_lexer": "ipython3",
   "version": "3.7.6"
  }
 },
 "nbformat": 4,
 "nbformat_minor": 5
}
