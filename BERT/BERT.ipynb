{
 "cells": [
  {
   "cell_type": "markdown",
   "id": "09378d28",
   "metadata": {},
   "source": [
    "# Bidirectional Encoder Representations from Transformers (BERT)\n",
    "- Here is the [[BERT: Pre-training of Deep Bidirectional Transformers for Language Understanding](https://arxiv.org/abs/1810.04805)](https://arxiv.org/abs/1810.04805) fully detailing what a BERT is; This model was developed by Google AI\n",
    "    - \"BERT is  designed  to  pre-train  deep  bidirectional  representations  from unlabeled text by jointly conditioning on both left  and  right  context  in  all  layers.\" - arXiv:1810.04805v2\n",
    "- BERT is an innovative architecture that lead to substantial improvement in the <b> natural language inference, question answering, sentiment analysis, text summarization, Next Sentence Prediction and so many other fields! </b>"
   ]
  },
  {
   "cell_type": "markdown",
   "id": "afa3a462",
   "metadata": {},
   "source": [
    "# BERT Pro's and its succession to LSTM\n",
    "- You can think of BERT as the successor to LSTM; [Check out my video on LSTM!](https://www.youtube.com/watch?v=rmxogwIjOhE)\n",
    "    - Drawbacks of LSTM's\n",
    "            - Slow to Train\n",
    "                - Considers words in sequential order (not parallel)\n",
    "            - Not \"really\" bi-directional since LSTM has different \"gates\" that executes that logic (but some is lost)\n",
    "- Different BERT models of varying sizes from the paper [linked in this github](https://github.com/google-research/bert)\n",
    "\n",
    "### <center> LSTM Architecture </center>\n",
    "![LSTM](LSTM.png)"
   ]
  },
  {
   "cell_type": "markdown",
   "id": "6aa28bd4",
   "metadata": {},
   "source": [
    "# BERT Architecture\n",
    "- The BERT architecture is a multi-layer bidrectional transformer encoder; Here is a [video](https://www.youtube.com/watch?v=X0tB-J8_TS4) and [github link](https://github.com/SpencerPao/Natural-Language-Processing/tree/main/Transformers)\n",
    "    - So it is <b> literally </b> taking the transformer encoder and stacking the encoders on top of each other!\n",
    "        - The BERT base architecture has 12 encoder blocks, 12 multi-attention heads, and 110 million parameters\n",
    "        - The BERT large architecture has 24 enoder blocks, 16 multi-attention heads, and 340 million parameters\n",
    "\n",
    "Image locations came from: <b> [Attention Is All You Need](https://arxiv.org/abs/1706.03762) </b>\n",
    "\n",
    "Encoder Block             |  Attention Framework\n",
    ":-------------------------:|:-------------------------:\n",
    "<img src=\"Encoder.png\" width=\"300\" height=\"450\"> |  <img src=\"Attention.png\" width=\"600\" height=\"900\">\n",
    "\n"
   ]
  },
  {
   "cell_type": "markdown",
   "id": "a98762c6",
   "metadata": {},
   "source": [
    "# How are BERT's Trained?\n",
    "\n",
    "There are two steps in this framework.\n",
    "\n",
    "### Pre-training\n",
    "The BERT model is trained on unblabeled data over different pre-training tasks. This is how the BERT architecture understands the language and context.\n",
    "It accomplishes this in two ways:\n",
    "- Masked Languaged Model (MLM)\n",
    "    - This just masks words and attempts to predict what word would fit in the masked term.\n",
    "    - Original Sentence: \"Make sure to like and subscribe!\"\n",
    "    - Masking: \"Make sure to <b>[MASK1]</b> and <b>[MASK2]</b>\"\n",
    "    - The Model then attempts to predict what the <b>[MASK1]</b> and <b>[MASK2]</b> by plugging in terms.\n",
    "- Next Sentence Prediction (NSP)\n",
    "    - Similarly to the MLM process, the NSP process attempts to predict the next sentence. (and if the next sentence is actually what it is said to be)\n",
    "    - Original Sentences: \n",
    "        - <b> Prior Sentence </b>: \"Make sure to like and subscribe!\"\n",
    "        - <b> Post Sentence </b>: \"I just hit the like button with notificatons and subscribe button!\"\n",
    "    - Does the post sentence follow the prior sentence?\n",
    "    \n",
    "In industry, you will typically utilize an already existing BERT model that has an already pretrained corpus with its distinct vocabulary and either use the model out of the box or go straght to the fine-tuning phase with your training data.\n",
    "\n",
    "# Overview for pre-training:\n",
    "- Train BERT using NSP and MLM\n",
    "    - Every word in sentence returns token embedding\n",
    "    - Incorporate the segment and positional embeddings to account for ordering of inputs\n",
    "    - Pass into BERT\n",
    "    - Outputs word vectors for MLM and a binary value for NSP\n",
    "    - Word vectors passed into a Softmax Layer with X neurons, where X = number of possible words in vocab\n",
    "    - Compare with Cross Entropy Loss, thereby providing prediction for word.\n",
    "<img src=\"Token_Embeddings.png\" width=\"600\" height=\"900\">\n",
    "\n",
    "\n",
    "### Fine-Tuning\n",
    "The BERT model is initialized with the pre-trained parameters and then <b> all </b> the parameters are fine-tuned with labeled data. This is where the model utilizes the underlying understanding of language and context to attempt to solve a problem.\n",
    "- Replace the output layer of BERT with a fully connected network layer where the number of neurons is the number of words for prediction (for QA type problems); the number of neurons can vary among what type of problem you are attempting to solve.\n",
    "- This process is relatively fast to train since the only parameters that will be updated are the output layer parameters\n",
    "    - The other parmaters (encoder blocks) won't change as dramatically\n",
    " \n",
    "\n",
    "\n",
    "### BERT Structure for various NLP tasks\n",
    "- Tok - is a token which is a word.\n",
    "- E - Embeddings (pretrained embeddings from the pre-training step) -- These are vectors of same size\n",
    "- C - Class Labels\n",
    "- CLS - Classification Output (dependent variables : this can be a binary output for example)\n",
    "- T - represents the contextual representation of a token\n",
    "\n",
    "Image locations came from: [BERT: Pre-training of Deep Bidirectional Transformers for Language Understanding](https://arxiv.org/abs/1810.04805) and more information on how to approach your specific problem can be addressed there.\n",
    "<img src=\"Fine_Tuned_Tasks.png\" width=\"600\" height=\"900\">\n",
    "\n",
    "# Overview for fine-tuning\n",
    "- Provide supervised dataset and tune the neurons in the output layer"
   ]
  },
  {
   "cell_type": "markdown",
   "id": "aec03c4f",
   "metadata": {},
   "source": [
    "# Cool. Now, let's start applying BERT!\n",
    "There are of course sooo many applications for BERT:\n",
    "- Determine if a movie’s reviews are positive or negative\n",
    "- Help chatbots answer questions\n",
    "- Help predicts text when writing an email\n",
    "- Can quickly summarize long legal contracts\n",
    "\n",
    "Let's keep it simple and see how it can be applied with Sentiment Analysis! Now as you are probably aware, I have done a Sentiment Analysis Video [here](https://www.youtube.com/watch?v=CzRrD76pnVY) but with an LSTM. So, let's do the same with BERT!\n",
    "\n",
    "We want to predict if the text has a POSITIVE or NEGATIVE sentiment associated.\n",
    "- We are going to be conducting Sentiment Analysis.\n",
    "- Please see <b> figure (d) single sentence </b> in the section: BERT Structure for various NLP tasks for architecture."
   ]
  },
  {
   "cell_type": "code",
   "execution_count": 37,
   "id": "813957aa",
   "metadata": {},
   "outputs": [],
   "source": [
    "import pandas as pd\n",
    "import seaborn as sns\n",
    "import matplotlib.pyplot as plt\n",
    "from torch.utils.data import Dataset\n",
    "from torch.utils.data import DataLoader"
   ]
  },
  {
   "cell_type": "code",
   "execution_count": 2,
   "id": "06bbb833",
   "metadata": {},
   "outputs": [
    {
     "data": {
      "text/html": [
       "<div>\n",
       "<style scoped>\n",
       "    .dataframe tbody tr th:only-of-type {\n",
       "        vertical-align: middle;\n",
       "    }\n",
       "\n",
       "    .dataframe tbody tr th {\n",
       "        vertical-align: top;\n",
       "    }\n",
       "\n",
       "    .dataframe thead th {\n",
       "        text-align: right;\n",
       "    }\n",
       "</style>\n",
       "<table border=\"1\" class=\"dataframe\">\n",
       "  <thead>\n",
       "    <tr style=\"text-align: right;\">\n",
       "      <th></th>\n",
       "      <th>target</th>\n",
       "      <th>ids</th>\n",
       "      <th>date</th>\n",
       "      <th>flag</th>\n",
       "      <th>user</th>\n",
       "      <th>text</th>\n",
       "    </tr>\n",
       "  </thead>\n",
       "  <tbody>\n",
       "    <tr>\n",
       "      <th>0</th>\n",
       "      <td>NEGATIVE</td>\n",
       "      <td>1553734464</td>\n",
       "      <td>Sat Apr 18 15:04:05 PDT 2009</td>\n",
       "      <td>NO_QUERY</td>\n",
       "      <td>sono23</td>\n",
       "      <td>nice day work</td>\n",
       "    </tr>\n",
       "    <tr>\n",
       "      <th>1</th>\n",
       "      <td>NEGATIVE</td>\n",
       "      <td>1678151511</td>\n",
       "      <td>Sat May 02 05:42:21 PDT 2009</td>\n",
       "      <td>NO_QUERY</td>\n",
       "      <td>amel_melli</td>\n",
       "      <td>gonna thesis</td>\n",
       "    </tr>\n",
       "    <tr>\n",
       "      <th>2</th>\n",
       "      <td>NEGATIVE</td>\n",
       "      <td>1677758199</td>\n",
       "      <td>Sat May 02 03:49:42 PDT 2009</td>\n",
       "      <td>NO_QUERY</td>\n",
       "      <td>mel95</td>\n",
       "      <td>really tired</td>\n",
       "    </tr>\n",
       "    <tr>\n",
       "      <th>3</th>\n",
       "      <td>POSITIVE</td>\n",
       "      <td>1558763913</td>\n",
       "      <td>Sun Apr 19 09:20:06 PDT 2009</td>\n",
       "      <td>NO_QUERY</td>\n",
       "      <td>geehowquaint</td>\n",
       "      <td>serious vivacious spritely like little blonde ...</td>\n",
       "    </tr>\n",
       "    <tr>\n",
       "      <th>4</th>\n",
       "      <td>POSITIVE</td>\n",
       "      <td>1555848588</td>\n",
       "      <td>Sat Apr 18 20:52:13 PDT 2009</td>\n",
       "      <td>NO_QUERY</td>\n",
       "      <td>bhaddad</td>\n",
       "      <td>sweet</td>\n",
       "    </tr>\n",
       "    <tr>\n",
       "      <th>...</th>\n",
       "      <td>...</td>\n",
       "      <td>...</td>\n",
       "      <td>...</td>\n",
       "      <td>...</td>\n",
       "      <td>...</td>\n",
       "      <td>...</td>\n",
       "    </tr>\n",
       "    <tr>\n",
       "      <th>99995</th>\n",
       "      <td>POSITIVE</td>\n",
       "      <td>1551555296</td>\n",
       "      <td>Sat Apr 18 09:21:55 PDT 2009</td>\n",
       "      <td>NO_QUERY</td>\n",
       "      <td>leesteen</td>\n",
       "      <td>grandpa plays guitar hero concentration face</td>\n",
       "    </tr>\n",
       "    <tr>\n",
       "      <th>99996</th>\n",
       "      <td>NEGATIVE</td>\n",
       "      <td>1573417708</td>\n",
       "      <td>Tue Apr 21 01:04:28 PDT 2009</td>\n",
       "      <td>NO_QUERY</td>\n",
       "      <td>littledictator</td>\n",
       "      <td>know u feel vicky nearly get morning sunny stu...</td>\n",
       "    </tr>\n",
       "    <tr>\n",
       "      <th>99997</th>\n",
       "      <td>POSITIVE</td>\n",
       "      <td>1557307389</td>\n",
       "      <td>Sun Apr 19 03:17:26 PDT 2009</td>\n",
       "      <td>NO_QUERY</td>\n",
       "      <td>AusRob</td>\n",
       "      <td>1901st update trying decide go potential holid...</td>\n",
       "    </tr>\n",
       "    <tr>\n",
       "      <th>99998</th>\n",
       "      <td>NEGATIVE</td>\n",
       "      <td>1556691999</td>\n",
       "      <td>Sat Apr 18 23:54:14 PDT 2009</td>\n",
       "      <td>NO_QUERY</td>\n",
       "      <td>uberlou</td>\n",
       "      <td>uggggh 139 xbox 360 pro woot com wants ts</td>\n",
       "    </tr>\n",
       "    <tr>\n",
       "      <th>99999</th>\n",
       "      <td>POSITIVE</td>\n",
       "      <td>1558762876</td>\n",
       "      <td>Sun Apr 19 09:19:56 PDT 2009</td>\n",
       "      <td>NO_QUERY</td>\n",
       "      <td>Bikechickie</td>\n",
       "      <td>dude like funniest person ever haha ever singl...</td>\n",
       "    </tr>\n",
       "  </tbody>\n",
       "</table>\n",
       "<p>100000 rows × 6 columns</p>\n",
       "</div>"
      ],
      "text/plain": [
       "         target         ids                          date      flag  \\\n",
       "0      NEGATIVE  1553734464  Sat Apr 18 15:04:05 PDT 2009  NO_QUERY   \n",
       "1      NEGATIVE  1678151511  Sat May 02 05:42:21 PDT 2009  NO_QUERY   \n",
       "2      NEGATIVE  1677758199  Sat May 02 03:49:42 PDT 2009  NO_QUERY   \n",
       "3      POSITIVE  1558763913  Sun Apr 19 09:20:06 PDT 2009  NO_QUERY   \n",
       "4      POSITIVE  1555848588  Sat Apr 18 20:52:13 PDT 2009  NO_QUERY   \n",
       "...         ...         ...                           ...       ...   \n",
       "99995  POSITIVE  1551555296  Sat Apr 18 09:21:55 PDT 2009  NO_QUERY   \n",
       "99996  NEGATIVE  1573417708  Tue Apr 21 01:04:28 PDT 2009  NO_QUERY   \n",
       "99997  POSITIVE  1557307389  Sun Apr 19 03:17:26 PDT 2009  NO_QUERY   \n",
       "99998  NEGATIVE  1556691999  Sat Apr 18 23:54:14 PDT 2009  NO_QUERY   \n",
       "99999  POSITIVE  1558762876  Sun Apr 19 09:19:56 PDT 2009  NO_QUERY   \n",
       "\n",
       "                 user                                               text  \n",
       "0              sono23                                      nice day work  \n",
       "1          amel_melli                                       gonna thesis  \n",
       "2               mel95                                       really tired  \n",
       "3        geehowquaint  serious vivacious spritely like little blonde ...  \n",
       "4             bhaddad                                              sweet  \n",
       "...               ...                                                ...  \n",
       "99995        leesteen       grandpa plays guitar hero concentration face  \n",
       "99996  littledictator  know u feel vicky nearly get morning sunny stu...  \n",
       "99997          AusRob  1901st update trying decide go potential holid...  \n",
       "99998         uberlou          uggggh 139 xbox 360 pro woot com wants ts  \n",
       "99999     Bikechickie  dude like funniest person ever haha ever singl...  \n",
       "\n",
       "[100000 rows x 6 columns]"
      ]
     },
     "execution_count": 2,
     "metadata": {},
     "output_type": "execute_result"
    }
   ],
   "source": [
    "# Reading in twitter data on sentiment. (NEGATIVE, POSITIVE for target)\n",
    "# Already cleaned and preprocessed...\n",
    "df = pd.read_csv('twitter_data.csv')\n",
    "df = df.sample(frac=1).reset_index()\n",
    "df = df.drop(['index'], axis = 1)\n",
    "df"
   ]
  },
  {
   "cell_type": "code",
   "execution_count": 3,
   "id": "d388bf3a",
   "metadata": {},
   "outputs": [
    {
     "data": {
      "text/plain": [
       "array(['NEGATIVE', 'POSITIVE'], dtype=object)"
      ]
     },
     "execution_count": 3,
     "metadata": {},
     "output_type": "execute_result"
    }
   ],
   "source": [
    "df.target.unique()"
   ]
  },
  {
   "cell_type": "code",
   "execution_count": 4,
   "id": "267adbe7",
   "metadata": {},
   "outputs": [],
   "source": [
    "decode_map = {\"NEGATIVE\": 0, \"POSITIVE\": 1}\n",
    "def decode_sentiment(label):\n",
    "    return decode_map[(label)]\n",
    "df.target = df.target.apply(lambda x: decode_sentiment(x))"
   ]
  },
  {
   "cell_type": "code",
   "execution_count": 5,
   "id": "174eb0b7",
   "metadata": {},
   "outputs": [
    {
     "data": {
      "text/html": [
       "<div>\n",
       "<style scoped>\n",
       "    .dataframe tbody tr th:only-of-type {\n",
       "        vertical-align: middle;\n",
       "    }\n",
       "\n",
       "    .dataframe tbody tr th {\n",
       "        vertical-align: top;\n",
       "    }\n",
       "\n",
       "    .dataframe thead th {\n",
       "        text-align: right;\n",
       "    }\n",
       "</style>\n",
       "<table border=\"1\" class=\"dataframe\">\n",
       "  <thead>\n",
       "    <tr style=\"text-align: right;\">\n",
       "      <th></th>\n",
       "      <th>target</th>\n",
       "      <th>ids</th>\n",
       "      <th>date</th>\n",
       "      <th>flag</th>\n",
       "      <th>user</th>\n",
       "      <th>text</th>\n",
       "    </tr>\n",
       "  </thead>\n",
       "  <tbody>\n",
       "    <tr>\n",
       "      <th>0</th>\n",
       "      <td>0</td>\n",
       "      <td>1553734464</td>\n",
       "      <td>Sat Apr 18 15:04:05 PDT 2009</td>\n",
       "      <td>NO_QUERY</td>\n",
       "      <td>sono23</td>\n",
       "      <td>nice day work</td>\n",
       "    </tr>\n",
       "    <tr>\n",
       "      <th>1</th>\n",
       "      <td>0</td>\n",
       "      <td>1678151511</td>\n",
       "      <td>Sat May 02 05:42:21 PDT 2009</td>\n",
       "      <td>NO_QUERY</td>\n",
       "      <td>amel_melli</td>\n",
       "      <td>gonna thesis</td>\n",
       "    </tr>\n",
       "    <tr>\n",
       "      <th>2</th>\n",
       "      <td>0</td>\n",
       "      <td>1677758199</td>\n",
       "      <td>Sat May 02 03:49:42 PDT 2009</td>\n",
       "      <td>NO_QUERY</td>\n",
       "      <td>mel95</td>\n",
       "      <td>really tired</td>\n",
       "    </tr>\n",
       "    <tr>\n",
       "      <th>3</th>\n",
       "      <td>1</td>\n",
       "      <td>1558763913</td>\n",
       "      <td>Sun Apr 19 09:20:06 PDT 2009</td>\n",
       "      <td>NO_QUERY</td>\n",
       "      <td>geehowquaint</td>\n",
       "      <td>serious vivacious spritely like little blonde ...</td>\n",
       "    </tr>\n",
       "    <tr>\n",
       "      <th>4</th>\n",
       "      <td>1</td>\n",
       "      <td>1555848588</td>\n",
       "      <td>Sat Apr 18 20:52:13 PDT 2009</td>\n",
       "      <td>NO_QUERY</td>\n",
       "      <td>bhaddad</td>\n",
       "      <td>sweet</td>\n",
       "    </tr>\n",
       "    <tr>\n",
       "      <th>...</th>\n",
       "      <td>...</td>\n",
       "      <td>...</td>\n",
       "      <td>...</td>\n",
       "      <td>...</td>\n",
       "      <td>...</td>\n",
       "      <td>...</td>\n",
       "    </tr>\n",
       "    <tr>\n",
       "      <th>99995</th>\n",
       "      <td>1</td>\n",
       "      <td>1551555296</td>\n",
       "      <td>Sat Apr 18 09:21:55 PDT 2009</td>\n",
       "      <td>NO_QUERY</td>\n",
       "      <td>leesteen</td>\n",
       "      <td>grandpa plays guitar hero concentration face</td>\n",
       "    </tr>\n",
       "    <tr>\n",
       "      <th>99996</th>\n",
       "      <td>0</td>\n",
       "      <td>1573417708</td>\n",
       "      <td>Tue Apr 21 01:04:28 PDT 2009</td>\n",
       "      <td>NO_QUERY</td>\n",
       "      <td>littledictator</td>\n",
       "      <td>know u feel vicky nearly get morning sunny stu...</td>\n",
       "    </tr>\n",
       "    <tr>\n",
       "      <th>99997</th>\n",
       "      <td>1</td>\n",
       "      <td>1557307389</td>\n",
       "      <td>Sun Apr 19 03:17:26 PDT 2009</td>\n",
       "      <td>NO_QUERY</td>\n",
       "      <td>AusRob</td>\n",
       "      <td>1901st update trying decide go potential holid...</td>\n",
       "    </tr>\n",
       "    <tr>\n",
       "      <th>99998</th>\n",
       "      <td>0</td>\n",
       "      <td>1556691999</td>\n",
       "      <td>Sat Apr 18 23:54:14 PDT 2009</td>\n",
       "      <td>NO_QUERY</td>\n",
       "      <td>uberlou</td>\n",
       "      <td>uggggh 139 xbox 360 pro woot com wants ts</td>\n",
       "    </tr>\n",
       "    <tr>\n",
       "      <th>99999</th>\n",
       "      <td>1</td>\n",
       "      <td>1558762876</td>\n",
       "      <td>Sun Apr 19 09:19:56 PDT 2009</td>\n",
       "      <td>NO_QUERY</td>\n",
       "      <td>Bikechickie</td>\n",
       "      <td>dude like funniest person ever haha ever singl...</td>\n",
       "    </tr>\n",
       "  </tbody>\n",
       "</table>\n",
       "<p>100000 rows × 6 columns</p>\n",
       "</div>"
      ],
      "text/plain": [
       "       target         ids                          date      flag  \\\n",
       "0           0  1553734464  Sat Apr 18 15:04:05 PDT 2009  NO_QUERY   \n",
       "1           0  1678151511  Sat May 02 05:42:21 PDT 2009  NO_QUERY   \n",
       "2           0  1677758199  Sat May 02 03:49:42 PDT 2009  NO_QUERY   \n",
       "3           1  1558763913  Sun Apr 19 09:20:06 PDT 2009  NO_QUERY   \n",
       "4           1  1555848588  Sat Apr 18 20:52:13 PDT 2009  NO_QUERY   \n",
       "...       ...         ...                           ...       ...   \n",
       "99995       1  1551555296  Sat Apr 18 09:21:55 PDT 2009  NO_QUERY   \n",
       "99996       0  1573417708  Tue Apr 21 01:04:28 PDT 2009  NO_QUERY   \n",
       "99997       1  1557307389  Sun Apr 19 03:17:26 PDT 2009  NO_QUERY   \n",
       "99998       0  1556691999  Sat Apr 18 23:54:14 PDT 2009  NO_QUERY   \n",
       "99999       1  1558762876  Sun Apr 19 09:19:56 PDT 2009  NO_QUERY   \n",
       "\n",
       "                 user                                               text  \n",
       "0              sono23                                      nice day work  \n",
       "1          amel_melli                                       gonna thesis  \n",
       "2               mel95                                       really tired  \n",
       "3        geehowquaint  serious vivacious spritely like little blonde ...  \n",
       "4             bhaddad                                              sweet  \n",
       "...               ...                                                ...  \n",
       "99995        leesteen       grandpa plays guitar hero concentration face  \n",
       "99996  littledictator  know u feel vicky nearly get morning sunny stu...  \n",
       "99997          AusRob  1901st update trying decide go potential holid...  \n",
       "99998         uberlou          uggggh 139 xbox 360 pro woot com wants ts  \n",
       "99999     Bikechickie  dude like funniest person ever haha ever singl...  \n",
       "\n",
       "[100000 rows x 6 columns]"
      ]
     },
     "execution_count": 5,
     "metadata": {},
     "output_type": "execute_result"
    }
   ],
   "source": [
    "df"
   ]
  },
  {
   "cell_type": "code",
   "execution_count": 11,
   "id": "6f8d0dcb",
   "metadata": {},
   "outputs": [
    {
     "name": "stdout",
     "output_type": "stream",
     "text": [
      "nice day work\n"
     ]
    }
   ],
   "source": [
    "for txt in df.text:\n",
    "    print(txt)\n",
    "    break"
   ]
  },
  {
   "cell_type": "code",
   "execution_count": 19,
   "id": "1d8ce0a6",
   "metadata": {},
   "outputs": [
    {
     "name": "stderr",
     "output_type": "stream",
     "text": [
      "C:\\Users\\Spenc\\AppData\\Roaming\\Python\\Python38\\site-packages\\seaborn\\distributions.py:2619: FutureWarning: `distplot` is a deprecated function and will be removed in a future version. Please adapt your code to use either `displot` (a figure-level function with similar flexibility) or `histplot` (an axes-level function for histograms).\n",
      "  warnings.warn(msg, FutureWarning)\n"
     ]
    },
    {
     "data": {
      "image/png": "[encoded data removed]",
      "text/plain": [
       "<Figure size 432x288 with 1 Axes>"
      ]
     },
     "metadata": {
      "needs_background": "light"
     },
     "output_type": "display_data"
    }
   ],
   "source": [
    "token_lens = []\n",
    "for txt in df.text:\n",
    "    tokens = tokenizer.encode(str(txt), max_length=512)\n",
    "    token_lens.append(len(tokens))\n",
    "sns.distplot(token_lens)\n",
    "plt.xlim([0, 256]);\n",
    "plt.xlabel('Token count'); #100 seems to be a solid threshold for the token length."
   ]
  },
  {
   "cell_type": "code",
   "execution_count": 6,
   "id": "07f8a8f2",
   "metadata": {},
   "outputs": [
    {
     "data": {
      "text/plain": [
       "0    50000\n",
       "1    50000\n",
       "Name: target, dtype: int64"
      ]
     },
     "execution_count": 6,
     "metadata": {},
     "output_type": "execute_result"
    }
   ],
   "source": [
    "# Remember that I did a lot of precleaning to get the dataframe in this state. If you are curious on how I did that,\n",
    "# the Sentiment Analysis video is here: https://www.youtube.com/watch?v=CzRrD76pnVY&t=785s\n",
    "df.target.value_counts()"
   ]
  },
  {
   "cell_type": "markdown",
   "id": "0267d449",
   "metadata": {},
   "source": [
    "# Documentation\n",
    "- HuggingFace Documentation for this function we will use: [TFBertForSequenceClassification](https://huggingface.co/docs/transformers/model_doc/bert#transformers.TFBertForSequenceClassification)"
   ]
  },
  {
   "cell_type": "code",
   "execution_count": 25,
   "id": "09d25069",
   "metadata": {},
   "outputs": [],
   "source": [
    "'''Load in our models and important packages...'''\n",
    "from transformers import BertTokenizer, TFBertForSequenceClassification\n",
    "from transformers import InputExample, InputFeatures\n",
    "from sklearn.model_selection import train_test_split\n",
    "import numpy as np"
   ]
  },
  {
   "cell_type": "code",
   "execution_count": null,
   "id": "ebcb9b2a",
   "metadata": {},
   "outputs": [],
   "source": [
    "# we'll use the base model uncased since Text is lowercased. (uncased just lowercases all incoming raw text)\n",
    "model = TFBertForSequenceClassification.from_pretrained(\"bert-base-uncased\")\n",
    "tokenizer = BertTokenizer.from_pretrained(\"bert-base-uncased\")"
   ]
  },
  {
   "cell_type": "markdown",
   "id": "d2731fb9",
   "metadata": {},
   "source": [
    "### BERT can't just accept raw text. We have to:\n",
    "- Add special tokens to separate sentences for classification\n",
    "- pass sequences of equal length with padding\n",
    "    - padd with zeroes = pad token and ones = real tokens\n",
    "    \n",
    "### Important Tokens and Features for BERT\n",
    "- Special tokens: ([SEP],102) - The marker for the end of a sentence\n",
    "- Classification: ([CLS],101) - Add this token to the beginning of the sentence so BERT knows we are doing classification\n",
    "    - Add a linear layer at the end of the model if you have a regression task\n",
    "- Padding: ([PAD],0)\n",
    "- Unknown tokens: ([UNK],100)"
   ]
  },
  {
   "cell_type": "code",
   "execution_count": 29,
   "id": "e3abbaa6",
   "metadata": {},
   "outputs": [],
   "source": [
    "class SentimentDataset(Dataset):\n",
    "\n",
    "    def __init__(self, reviews, targets, tokenizer, max_len):\n",
    "        self.reviews = reviews\n",
    "        self.targets = targets\n",
    "        self.tokenizer = tokenizer\n",
    "        self.max_len = max_len\n",
    "\n",
    "    def __len__(self):\n",
    "        return len(self.reviews)\n",
    "\n",
    "    def __getitem__(self, item):\n",
    "        review = str(self.reviews[item])\n",
    "        target = self.targets[item]\n",
    "\n",
    "        encoding = self.tokenizer.encode_plus(\n",
    "          review,\n",
    "          add_special_tokens=True, # Add [CLS] and [SEP]\n",
    "          max_length=self.max_len,\n",
    "          return_token_type_ids=False,\n",
    "          pad_to_max_length=True, # Adding [PAD] to fit max_len\n",
    "          return_attention_mask=True,\n",
    "          return_tensors='pt', # returns PyTorch tensors\n",
    "        )\n",
    "\n",
    "        return {\n",
    "          'review_text': review,\n",
    "          'input_ids': encoding['input_ids'].flatten(),\n",
    "          'attention_mask': encoding['attention_mask'].flatten(),\n",
    "          'targets': torch.tensor(target, dtype=torch.long)\n",
    "        }"
   ]
  },
  {
   "cell_type": "code",
   "execution_count": 39,
   "id": "07dcce22",
   "metadata": {},
   "outputs": [],
   "source": [
    "# 60%, 20%, 20% split for train, val, test\n",
    "df_train, df_val, df_test = np.split(df.sample(frac=1), [int(.6*len(df)), int(.8*len(df))]) "
   ]
  },
  {
   "cell_type": "code",
   "execution_count": 35,
   "id": "8fe77cea",
   "metadata": {},
   "outputs": [],
   "source": [
    "def create_data_loader(df, tokenizer, max_len, batch_size):\n",
    "    ds = SentimentDataset(reviews=df.text.to_numpy(),\n",
    "                         targets=df.target.to_numpy(),\n",
    "                         tokenizer=tokenizer,\n",
    "                         max_len=max_len)\n",
    "\n",
    "    return DataLoader(ds,\n",
    "                      batch_size=batch_size,\n",
    "                      num_workers=4)"
   ]
  },
  {
   "cell_type": "code",
   "execution_count": 40,
   "id": "81e891aa",
   "metadata": {},
   "outputs": [],
   "source": [
    "BATCH_SIZE = 16\n",
    "MAX_LEN = 100\n",
    "train_data_loader = create_data_loader(df_train, tokenizer, MAX_LEN, BATCH_SIZE)\n",
    "val_data_loader = create_data_loader(df_val, tokenizer, MAX_LEN, BATCH_SIZE)\n",
    "test_data_loader = create_data_loader(df_test, tokenizer, MAX_LEN, BATCH_SIZE)"
   ]
  },
  {
   "cell_type": "code",
   "execution_count": null,
   "id": "097d5beb",
   "metadata": {},
   "outputs": [],
   "source": [
    "# Example Batch\n",
    "data = next(iter(train_data_loader))\n",
    "data.keys()"
   ]
  },
  {
   "cell_type": "code",
   "execution_count": null,
   "id": "5371ca38",
   "metadata": {},
   "outputs": [],
   "source": [
    "# https://www.geeksforgeeks.org/sentiment-classification-using-bert/"
   ]
  }
 ],
 "metadata": {
  "kernelspec": {
   "display_name": "Python 3",
   "language": "python",
   "name": "python3"
  },
  "language_info": {
   "codemirror_mode": {
    "name": "ipython",
    "version": 3
   },
   "file_extension": ".py",
   "mimetype": "text/x-python",
   "name": "python",
   "nbconvert_exporter": "python",
   "pygments_lexer": "ipython3",
   "version": "3.8.8"
  }
 },
 "nbformat": 4,
 "nbformat_minor": 5
}
