{
 "cells": [
  {
   "cell_type": "markdown",
   "id": "7e4c5863",
   "metadata": {},
   "source": [
    "# What is Named Entity Recognition (NER)?\n",
    "Named entity recognition models are pre-trained models on a specific corpus that has already trained labels that can act as categories for labeled text.\n",
    "\n",
    "This can be as simple as identifying if a label of text represents a person. For instance, high profile figures such as __Abraham Lincoln, FDR, or George Washington__ can be labeled as a __person__. \n",
    "\n",
    "There are many extensions of what NER can do for you but overall you can think of this as a tool to help extract categories of text without manually extracting information using customized regex functions or rules-based approaches.\n",
    "\n",
    "SpaCy is an excellent NLP library for NER; documentation can be found [here](https://spacy.io/api/entityrecognizer)"
   ]
  },
  {
   "cell_type": "code",
   "execution_count": 9,
   "id": "e7478dbf",
   "metadata": {},
   "outputs": [],
   "source": [
    "# if you don't have the small english spacy model downloaded on local machine, uncomment this cell and execute.\n",
    "# !pip install -U spacy\n",
    "# !python -m spacy download en_core_web_sm"
   ]
  },
  {
   "cell_type": "code",
   "execution_count": 2,
   "id": "9b0b45c2",
   "metadata": {},
   "outputs": [],
   "source": [
    "import spacy\n",
    "from spacy import displacy # great for visualizing entitites/tokens\n",
    "model = spacy.load(\"en_core_web_sm\") # This is a pretrained NLP pipeline"
   ]
  },
  {
   "cell_type": "markdown",
   "id": "41ba578d",
   "metadata": {},
   "source": [
    "# Some miscellaneous information that is not too relevant to NERs..."
   ]
  },
  {
   "cell_type": "code",
   "execution_count": 15,
   "id": "6ede555f",
   "metadata": {},
   "outputs": [
    {
     "data": {
      "text/plain": [
       "['tok2vec', 'tagger', 'parser', 'ner', 'attribute_ruler', 'lemmatizer']"
      ]
     },
     "execution_count": 15,
     "metadata": {},
     "output_type": "execute_result"
    }
   ],
   "source": [
    "model.pipe_names # This is what the default model architecture looks like."
   ]
  },
  {
   "cell_type": "code",
   "execution_count": 16,
   "id": "b5bcfd07",
   "metadata": {},
   "outputs": [
    {
     "data": {
      "text/plain": [
       "[('tok2vec', <spacy.pipeline.tok2vec.Tok2Vec at 0x21a0916bea0>),\n",
       " ('tagger', <spacy.pipeline.tagger.Tagger at 0x21a0915abd0>),\n",
       " ('parser', <spacy.pipeline.dep_parser.DependencyParser at 0x219fe6a4fa0>),\n",
       " ('ner', <spacy.pipeline.ner.EntityRecognizer at 0x219fe6a4be0>),\n",
       " ('attribute_ruler',\n",
       "  <spacy.pipeline.attributeruler.AttributeRuler at 0x21a0920dd80>),\n",
       " ('lemmatizer', <spacy.lang.en.lemmatizer.EnglishLemmatizer at 0x21a092098c0>)]"
      ]
     },
     "execution_count": 16,
     "metadata": {},
     "output_type": "execute_result"
    }
   ],
   "source": [
    "model.pipeline # some additional information."
   ]
  },
  {
   "cell_type": "markdown",
   "id": "98edfc49",
   "metadata": {},
   "source": [
    "# Basic demo on what an NER can do."
   ]
  },
  {
   "cell_type": "code",
   "execution_count": 31,
   "id": "c9f9e818",
   "metadata": {},
   "outputs": [],
   "source": [
    "text = \"For instance, high profile figures such as Abraham Lincoln, FDR, or George Washington can be labeled as a person. I wonder what they would have thought about the USA today.\""
   ]
  },
  {
   "cell_type": "code",
   "execution_count": 24,
   "id": "0349bf54",
   "metadata": {},
   "outputs": [],
   "source": [
    "# pass text into model pipeline\n",
    "processed_text = model(text)"
   ]
  },
  {
   "cell_type": "code",
   "execution_count": 25,
   "id": "4848092d",
   "metadata": {},
   "outputs": [
    {
     "data": {
      "text/plain": [
       "For instance, high profile figures such as Abraham Lincoln, FDR, or George Washington can be labeled as a person. I wonder what they would have thought about the USA today."
      ]
     },
     "execution_count": 25,
     "metadata": {},
     "output_type": "execute_result"
    }
   ],
   "source": [
    "processed_text # as we can see nothing is \"out of the ordinary\""
   ]
  },
  {
   "cell_type": "code",
   "execution_count": 26,
   "id": "c8ba6383",
   "metadata": {},
   "outputs": [
    {
     "data": {
      "text/plain": [
       "'For instance, high profile figures such as Abraham Lincoln, FDR, or George Washington can be labeled as a person. I wonder what they would have thought about the USA today.'"
      ]
     },
     "execution_count": 26,
     "metadata": {},
     "output_type": "execute_result"
    }
   ],
   "source": [
    "processed_text.text"
   ]
  },
  {
   "cell_type": "code",
   "execution_count": 27,
   "id": "8e28fff6",
   "metadata": {},
   "outputs": [
    {
     "name": "stdout",
     "output_type": "stream",
     "text": [
      "Abraham Lincoln PERSON\n",
      "FDR PERSON\n",
      "George Washington PERSON\n",
      "USA GPE\n",
      "today DATE\n"
     ]
    }
   ],
   "source": [
    "for word in processed_text.ents:\n",
    "    print(word.text, word.label_)"
   ]
  },
  {
   "cell_type": "code",
   "execution_count": 28,
   "id": "2a959b58",
   "metadata": {},
   "outputs": [
    {
     "data": {
      "text/html": [
       "<span class=\"tex2jax_ignore\"><div class=\"entities\" style=\"line-height: 2.5; direction: ltr\">For instance, high profile figures such as \n",
       "<mark class=\"entity\" style=\"background: #aa9cfc; padding: 0.45em 0.6em; margin: 0 0.25em; line-height: 1; border-radius: 0.35em;\">\n",
       "    Abraham Lincoln\n",
       "    <span style=\"font-size: 0.8em; font-weight: bold; line-height: 1; border-radius: 0.35em; vertical-align: middle; margin-left: 0.5rem\">PERSON</span>\n",
       "</mark>\n",
       ", \n",
       "<mark class=\"entity\" style=\"background: #aa9cfc; padding: 0.45em 0.6em; margin: 0 0.25em; line-height: 1; border-radius: 0.35em;\">\n",
       "    FDR\n",
       "    <span style=\"font-size: 0.8em; font-weight: bold; line-height: 1; border-radius: 0.35em; vertical-align: middle; margin-left: 0.5rem\">PERSON</span>\n",
       "</mark>\n",
       ", or \n",
       "<mark class=\"entity\" style=\"background: #aa9cfc; padding: 0.45em 0.6em; margin: 0 0.25em; line-height: 1; border-radius: 0.35em;\">\n",
       "    George Washington\n",
       "    <span style=\"font-size: 0.8em; font-weight: bold; line-height: 1; border-radius: 0.35em; vertical-align: middle; margin-left: 0.5rem\">PERSON</span>\n",
       "</mark>\n",
       " can be labeled as a person. I wonder what they would have thought about the \n",
       "<mark class=\"entity\" style=\"background: #feca74; padding: 0.45em 0.6em; margin: 0 0.25em; line-height: 1; border-radius: 0.35em;\">\n",
       "    USA\n",
       "    <span style=\"font-size: 0.8em; font-weight: bold; line-height: 1; border-radius: 0.35em; vertical-align: middle; margin-left: 0.5rem\">GPE</span>\n",
       "</mark>\n",
       " \n",
       "<mark class=\"entity\" style=\"background: #bfe1d9; padding: 0.45em 0.6em; margin: 0 0.25em; line-height: 1; border-radius: 0.35em;\">\n",
       "    today\n",
       "    <span style=\"font-size: 0.8em; font-weight: bold; line-height: 1; border-radius: 0.35em; vertical-align: middle; margin-left: 0.5rem\">DATE</span>\n",
       "</mark>\n",
       ".</div></span>"
      ],
      "text/plain": [
       "<IPython.core.display.HTML object>"
      ]
     },
     "metadata": {},
     "output_type": "display_data"
    }
   ],
   "source": [
    "displacy.render(processed_text, style=\"ent\", jupyter=True) # https://spacy.io/usage/visualizers\n",
    "# style has 3 different attributes: \"dep\" for dependency parse, \"ent\" for entities, and \"span\" for specified lengths."
   ]
  },
  {
   "cell_type": "code",
   "execution_count": 21,
   "id": "82ed026a",
   "metadata": {},
   "outputs": [
    {
     "data": {
      "text/plain": [
       "'People, including fictional'"
      ]
     },
     "execution_count": 21,
     "metadata": {},
     "output_type": "execute_result"
    }
   ],
   "source": [
    "spacy.explain(\"PERSON\") # What is this entity?"
   ]
  },
  {
   "cell_type": "code",
   "execution_count": 29,
   "id": "8708811b",
   "metadata": {},
   "outputs": [
    {
     "data": {
      "text/plain": [
       "'Countries, cities, states'"
      ]
     },
     "execution_count": 29,
     "metadata": {},
     "output_type": "execute_result"
    }
   ],
   "source": [
    "spacy.explain(\"GPE\") # What is this entity?"
   ]
  },
  {
   "cell_type": "code",
   "execution_count": 30,
   "id": "4bb64a4b",
   "metadata": {},
   "outputs": [
    {
     "data": {
      "text/plain": [
       "'Absolute or relative dates or periods'"
      ]
     },
     "execution_count": 30,
     "metadata": {},
     "output_type": "execute_result"
    }
   ],
   "source": [
    "spacy.explain(\"DATE\") # What is this entity?"
   ]
  },
  {
   "cell_type": "markdown",
   "id": "00408c64",
   "metadata": {},
   "source": [
    "Abraham Lincoln             |  Franklin Delano Roosevelt (FDR) | George Washington\n",
    ":-------------------------:|:-------------------------:|:-------------------------:\n",
    "<img src=\"lincoln.jpg\" width=\"400\"/>  |  <img src=\"FDR.jpg\" width=\"500\"> | <img src=\"GW.jpg\" width=\"500\">\n",
    "\n"
   ]
  },
  {
   "cell_type": "markdown",
   "id": "34c4be86",
   "metadata": {},
   "source": [
    "# Where in the NLP pipelines is NER typically used?\n",
    "In industry, I have typically used NER's as a categorical tool. Scale-wise, think in terms of millions of documents with tables, graphics, and most importantly thousands of words.\n",
    "\n",
    "In essence, This can be used when tagging datasets, whether it be tweets, journal articles, or webpage content, this process reduce text sparsity, adding tremendous values to your dataset(s). \n",
    "\n",
    "You can check out my [Optical Character Recognition (OCR)](https://www.youtube.com/watch?v=rCgy4d2pyyA) video I did on how to extract text from non-structured based data."
   ]
  },
  {
   "cell_type": "markdown",
   "id": "fce157b6",
   "metadata": {},
   "source": [
    "Imagine that we have thousands upon thousands of documents and we need to categorize our data so we can actually work!\n",
    "- This is where we can use an NER to help our process."
   ]
  },
  {
   "cell_type": "code",
   "execution_count": 60,
   "id": "b980b428",
   "metadata": {},
   "outputs": [],
   "source": [
    "import glob\n",
    "import pandas as pd"
   ]
  },
  {
   "cell_type": "code",
   "execution_count": 91,
   "id": "ab683519",
   "metadata": {},
   "outputs": [
    {
     "data": {
      "text/plain": [
       "['data\\\\0.csv',\n",
       " 'data\\\\1.csv',\n",
       " 'data\\\\2.csv',\n",
       " 'data\\\\3.csv',\n",
       " 'data\\\\4.csv',\n",
       " 'data\\\\5.csv',\n",
       " 'data\\\\6.csv',\n",
       " 'data\\\\7.csv',\n",
       " 'data\\\\8.csv',\n",
       " 'data\\\\9.csv']"
      ]
     },
     "execution_count": 91,
     "metadata": {},
     "output_type": "execute_result"
    }
   ],
   "source": [
    "fileList = glob.glob('data/*.csv')\n",
    "fileList # in this case we only have 10 documents. But, as we can see, these datasets are unlabled."
   ]
  },
  {
   "cell_type": "markdown",
   "id": "c49d0c14",
   "metadata": {},
   "source": [
    "# Let's get the datasets that only refer to people. \n",
    "- This helps narrow our search tremndously without lifting much of a finger.\n",
    "    - We can rely on already built tools to help further our search for what we need and want."
   ]
  },
  {
   "cell_type": "code",
   "execution_count": 96,
   "id": "4d197c45",
   "metadata": {
    "scrolled": true
   },
   "outputs": [
    {
     "name": "stdout",
     "output_type": "stream",
     "text": [
      "                                                    0\n",
      "0   Assuming the Presidency at the depth of the Gr...\n",
      "1   Born in 1882 at Hyde Park, New York�now a nati...\n",
      "2   Following the example of his fifth cousin, Pre...\n",
      "3   In the summer of 1921, when he was 39, disaste...\n",
      "4   He was elected President in November 1932, to ...\n",
      "5   By 1935 the Nation had achieved some measure o...\n",
      "6   In 1936 he was re-elected by a top-heavy margi...\n",
      "7   Roosevelt had pledged the United States to the...\n",
      "8   When the Japanese attacked Pearl Harbor on Dec...\n",
      "9   Feeling that the future peace of the world wou...\n",
      "10  As the war drew to a close, Roosevelt�s health...\n",
      "11  The Presidential biographies on WhiteHouse.gov...\n",
      "-----\n"
     ]
    }
   ],
   "source": [
    "# Just for our sake, we will only be looking at the first row.\n",
    "# If true, then label dataset as store file names to be used later on and further preprocess.\n",
    "for f in fileList:\n",
    "    file_read = pd.read_csv(f, header = None)\n",
    "    print(file_read)\n",
    "    print(\"-----\")"
   ]
  },
  {
   "cell_type": "code",
   "execution_count": 104,
   "id": "fb78733b",
   "metadata": {
    "scrolled": false
   },
   "outputs": [
    {
     "name": "stdout",
     "output_type": "stream",
     "text": [
      "Text being read in..... for file data\\0.csv\n",
      "Assuming the Presidency at the depth of the Great Depression, Franklin D. Roosevelt helped the American people regain faith in themselves. He brought hope as he promised prompt, vigorous action, and asserted in his Inaugural Address, �the only thing we have to fear is fear itself.�\n",
      "----- Checking if there are any PERSON entitities\n",
      "the Great Depression EVENT\n",
      "Franklin D. Roosevelt PERSON\n",
      "American NORP\n",
      "Inaugural Address ORG\n",
      "-----\n",
      "Text being read in..... for file data\\1.csv\n",
      "Abraham Lincoln became the United States� 16th President in 1861, issuing the Emancipation Proclamation that declared forever free those slaves within the Confederacy in 1863.\n",
      "----- Checking if there are any PERSON entitities\n",
      "Abraham Lincoln PERSON\n",
      "the United States GPE\n",
      "16th ORDINAL\n",
      "1861 DATE\n",
      "the Emancipation Proclamation FAC\n",
      "1863 DATE\n",
      "-----\n",
      "Text being read in..... for file data\\2.csv\n",
      "On April 30, 1789, George Washington, standing on the balcony of Federal Hall on Wall Street in New York, took his oath of office as the first President of the United States. �As the first of every thing, in our situation will serve to establish a Precedent,� he wrote James Madison, �it is devoutly wished on my part, that these precedents may be fixed on true principles.�\n",
      "----- Checking if there are any PERSON entitities\n",
      "April 30, 1789 DATE\n",
      "George Washington PERSON\n",
      "Federal Hall on Wall Street ORG\n",
      "New York GPE\n",
      "first ORDINAL\n",
      "the United States GPE\n",
      "first ORDINAL\n",
      "James Madison PERSON\n",
      "-----\n",
      "Text being read in..... for file data\\3.csv\n",
      "Domino's Pizza Inc.[6] doing business as Domino's is an American multinational pizza restaurant chain founded in 1960 and led by CEO Richard Allison. The corporation is Delaware domiciled[7] and headquartered at the Domino's Farms Office Park in Ann Arbor, Michigan.[3][5] As of 2018, Domino's had approximately 15,000 stores, with 5,649 in the United States, 1,500 in India, and 1,249 in the United Kingdom.[8][9] Domino's has stores in over 83 countries[10] and 5,701 cities worldwide.[11] In 2018 Domino's Pizza was inducted into the Queensland Business Leaders Hall of Fame.[12]\n",
      "----- Checking if there are any PERSON entitities\n",
      "Domino PERSON\n",
      "Domino PERSON\n",
      "American NORP\n",
      "1960 DATE\n",
      "Richard Allison PERSON\n",
      "Delaware GPE\n",
      "Domino PERSON\n",
      "Ann Arbor GPE\n",
      "Michigan.[3][5 PRODUCT\n",
      "2018 DATE\n",
      "Domino PERSON\n",
      "approximately 15,000 CARDINAL\n",
      "5,649 CARDINAL\n",
      "the United States GPE\n",
      "1,500 CARDINAL\n",
      "India GPE\n",
      "1,249 CARDINAL\n",
      "Domino PERSON\n",
      "5,701 CARDINAL\n",
      "2018 DATE\n",
      "Domino PERSON\n",
      "the Queensland Business Leaders Hall ORG\n",
      "-----\n",
      "Text being read in..... for file data\\4.csv\n",
      "What is natural language processing?\n",
      "----- Checking if there are any PERSON entitities\n",
      "-----\n",
      "Text being read in..... for file data\\5.csv\n",
      "Like Comment and Subscribe!\n",
      "----- Checking if there are any PERSON entitities\n",
      "-----\n",
      "Text being read in..... for file data\\6.csv\n",
      "What is computer vision?\n",
      "----- Checking if there are any PERSON entitities\n",
      "-----\n",
      "Text being read in..... for file data\\7.csv\n",
      "What is product management?\n",
      "----- Checking if there are any PERSON entitities\n",
      "-----\n",
      "Text being read in..... for file data\\8.csv\n",
      "Project management is the use of specific knowledge, skills, tools and techniques to deliver something of value to people. The development of software for an improved business process, the construction of a building, the relief effort after a natural disaster, the expansion of sales into a new geographic market�these are all examples of projects.\n",
      "----- Checking if there are any PERSON entitities\n",
      "Project ORG\n",
      "-----\n",
      "Text being read in..... for file data\\9.csv\n",
      "I hope you are having a wonderful day :)\n",
      "----- Checking if there are any PERSON entitities\n",
      "-----\n",
      "Our current files that have the PERSON entity labeled in the first paragraph.: \n",
      "['data\\\\0.csv', 'data\\\\1.csv', 'data\\\\2.csv', 'data\\\\3.csv']\n"
     ]
    }
   ],
   "source": [
    "# Let's see how we can use NER in action.\n",
    "white_list_files = []\n",
    "for f in fileList:\n",
    "    file_read = pd.read_csv(f, header = None)\n",
    "    print(f\"Text being read in..... for file {f}\")\n",
    "    print(file_read.values[0][0])\n",
    "    processed_text = model(file_read.values[0][0])\n",
    "    print(\"----- Checking if there are any PERSON entitities\")\n",
    "    is_people = False\n",
    "    for word in processed_text.ents:\n",
    "        print(word.text, word.label_)\n",
    "        if word.label_ == \"PERSON\":\n",
    "            is_people = True\n",
    "    if is_people:\n",
    "        white_list_files.append(f)\n",
    "    print(\"-----\")\n",
    "\n",
    "print(\"Our current files that have the PERSON entity labeled in the first paragraph.: \")\n",
    "print(white_list_files)"
   ]
  },
  {
   "cell_type": "code",
   "execution_count": null,
   "id": "9b525780",
   "metadata": {},
   "outputs": [],
   "source": []
  },
  {
   "cell_type": "code",
   "execution_count": null,
   "id": "c237c042",
   "metadata": {},
   "outputs": [],
   "source": []
  },
  {
   "cell_type": "code",
   "execution_count": null,
   "id": "ad537134",
   "metadata": {},
   "outputs": [],
   "source": []
  },
  {
   "cell_type": "markdown",
   "id": "21d57bf2",
   "metadata": {},
   "source": [
    "# That's cool! What's next?\n",
    "- You can check out all sorts of models that have an NER built into its model architecture. In fact, a great repository is [Huggingface](https://huggingface.co/) where all sorts of NLP models are stored publicy. They have models from all different types of industries! Might be worth to check it out."
   ]
  }
 ],
 "metadata": {
  "kernelspec": {
   "display_name": "Python 3",
   "language": "python",
   "name": "python3"
  },
  "language_info": {
   "codemirror_mode": {
    "name": "ipython",
    "version": 3
   },
   "file_extension": ".py",
   "mimetype": "text/x-python",
   "name": "python",
   "nbconvert_exporter": "python",
   "pygments_lexer": "ipython3",
   "version": "3.8.8"
  }
 },
 "nbformat": 4,
 "nbformat_minor": 5
}
