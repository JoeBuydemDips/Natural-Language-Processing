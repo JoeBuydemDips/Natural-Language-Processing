{
 "cells": [
  {
   "cell_type": "markdown",
   "id": "81ae31ef",
   "metadata": {},
   "source": [
    "# Query Data from Wikipedia as an example.\n",
    "- I'll go ahead and just get the wikipedia page for Elon Musk since there is plenty of content here.\n",
    "- Data in this context is the text.\n",
    "\n",
    "## Note: Should these steps be automatically applied to your NLP problem? No!\n",
    "- These are just tools at your disposal that will make your job so much easier.\n",
    "- There are instances where stripping down information will actually be detrimental.\n",
    "\n",
    "---\n",
    "### The steps that I will be going through:\n",
    "- Removing punctuations like . , ! $( ) * % @\n",
    "- Removing URLs\n",
    "- Removing Stop words\n",
    "- Lower casing\n",
    "- Tokenization, by Sentence, by Paragraph\n",
    "- Stemming\n",
    "- Lemmatization\n",
    "\n",
    "### Note: I do not use any dedicated NLP package such as SpaCy or NTLK in this notebook."
   ]
  },
  {
   "cell_type": "markdown",
   "id": "26e80f6d",
   "metadata": {},
   "source": [
    "# Getting the Data\n",
    "- Extracted from wikipedia\n",
    "- If you want, you can check it out [here](https://en.wikipedia.org/wiki/Elon_Musk) I just got the first section and pasted the content to a CSV"
   ]
  },
  {
   "cell_type": "code",
   "execution_count": 1,
   "id": "4023c81d",
   "metadata": {},
   "outputs": [],
   "source": [
    "import pandas as pd"
   ]
  },
  {
   "cell_type": "code",
   "execution_count": 2,
   "id": "39e55f93",
   "metadata": {
    "scrolled": true
   },
   "outputs": [
    {
     "data": {
      "text/html": [
       "<div>\n",
       "<style scoped>\n",
       "    .dataframe tbody tr th:only-of-type {\n",
       "        vertical-align: middle;\n",
       "    }\n",
       "\n",
       "    .dataframe tbody tr th {\n",
       "        vertical-align: top;\n",
       "    }\n",
       "\n",
       "    .dataframe thead th {\n",
       "        text-align: right;\n",
       "    }\n",
       "</style>\n",
       "<table border=\"1\" class=\"dataframe\">\n",
       "  <thead>\n",
       "    <tr style=\"text-align: right;\">\n",
       "      <th></th>\n",
       "      <th>Text</th>\n",
       "    </tr>\n",
       "  </thead>\n",
       "  <tbody>\n",
       "    <tr>\n",
       "      <th>0</th>\n",
       "      <td>https://en.wikipedia.org/wiki/Elon_Musk</td>\n",
       "    </tr>\n",
       "    <tr>\n",
       "      <th>1</th>\n",
       "      <td>Elon Reeve Musk FRS (/?i?l?n/ EE-lon; born Jun...</td>\n",
       "    </tr>\n",
       "    <tr>\n",
       "      <th>2</th>\n",
       "      <td>Musk was born to a Canadian mother and White S...</td>\n",
       "    </tr>\n",
       "    <tr>\n",
       "      <th>3</th>\n",
       "      <td>In 2002, Musk founded SpaceX, an aerospace man...</td>\n",
       "    </tr>\n",
       "    <tr>\n",
       "      <th>4</th>\n",
       "      <td>Musk has been criticized for making unscientif...</td>\n",
       "    </tr>\n",
       "  </tbody>\n",
       "</table>\n",
       "</div>"
      ],
      "text/plain": [
       "                                                Text\n",
       "0            https://en.wikipedia.org/wiki/Elon_Musk\n",
       "1  Elon Reeve Musk FRS (/?i?l?n/ EE-lon; born Jun...\n",
       "2  Musk was born to a Canadian mother and White S...\n",
       "3  In 2002, Musk founded SpaceX, an aerospace man...\n",
       "4  Musk has been criticized for making unscientif..."
      ]
     },
     "execution_count": 2,
     "metadata": {},
     "output_type": "execute_result"
    }
   ],
   "source": [
    "text = pd.read_csv('elon_musk.csv')\n",
    "text.head()"
   ]
  },
  {
   "cell_type": "code",
   "execution_count": 3,
   "id": "bbfcf7c1",
   "metadata": {},
   "outputs": [
    {
     "name": "stdout",
     "output_type": "stream",
     "text": [
      "<class 'pandas.core.frame.DataFrame'>\n",
      "RangeIndex: 5 entries, 0 to 4\n",
      "Data columns (total 1 columns):\n",
      " #   Column  Non-Null Count  Dtype \n",
      "---  ------  --------------  ----- \n",
      " 0   Text    5 non-null      object\n",
      "dtypes: object(1)\n",
      "memory usage: 168.0+ bytes\n"
     ]
    }
   ],
   "source": [
    "text.info() # Objects in Python Dataframes are strings!"
   ]
  },
  {
   "cell_type": "code",
   "execution_count": 4,
   "id": "0869c89d",
   "metadata": {},
   "outputs": [
    {
     "name": "stdout",
     "output_type": "stream",
     "text": [
      "https://en.wikipedia.org/wiki/Elon_Musk\n",
      "\n",
      "Elon Reeve Musk FRS (/?i?l?n/ EE-lon; born June 28, 1971) is a business magnate, investor and philanthropist. He is the founder, CEO and Chief Engineer at SpaceX; angel investor, CEO and Product Architect of Tesla, Inc.; founder of The Boring Company; and co-founder of Neuralink and OpenAI. With an estimated net worth of around US$265 billion as of May 2022,[4] Musk is the wealthiest person in the world according to both the Bloomberg Billionaires Index and the Forbes real-time billionaires list.[5][6]\n",
      "\n",
      "Musk was born to a Canadian mother and White South African father, and raised in Pretoria, South Africa. He briefly attended the University of Pretoria before moving to Canada at age 17. He matriculated at Queen's University and transferred to the University of Pennsylvania two years later, where he received a bachelor's degree in Economics and Physics. He moved to California in 1995 to attend Stanford University but decided instead to pursue a business career, co-founding the web software company Zip2 with his brother Kimbal. The startup was acquired by Compaq for $307 million in 1999. The same year, Musk co-founded online bank X.com, which merged with Confinity in 2000 to form PayPal. The company was bought by eBay in 2002 for $1.5 billion.\n",
      "\n",
      "In 2002, Musk founded SpaceX, an aerospace manufacturer and space transport services company, of which he serves as CEO and Chief Engineer. In 2004, he joined electric vehicle manufacturer Tesla Motors, Inc. (now Tesla, Inc.) as chairman and product architect, eventually assuming the position of CEO in 2008. In 2006, he helped create SolarCity, a solar energy company that was later acquired by Tesla and became Tesla Energy. In 2015, he co-founded OpenAI, a nonprofit research company that promotes friendly artificial intelligence (AI). In 2016, he co-founded Neuralink, a neurotechnology company focused on developing brain�computer interfaces, and founded The Boring Company, a tunnel construction company. He also agreed to purchase the major American social networking service Twitter in 2022 for $44 billion. Musk has proposed the Hyperloop, a high-speed vactrain transportation system. He is the president of the Musk Foundation, an organization which donates to scientific research and education.\n",
      "\n",
      "Musk has been criticized for making unscientific and controversial statements, such as spreading misinformation about the COVID-19 pandemic. In 2018, he was sued by the US Securities and Exchange Commission (SEC) for falsely tweeting that he had secured funding for a private takeover of Tesla; he settled with the SEC but did not admit guilt, and temporarily stepped down from his Tesla chairmanship. In 2019, he won a defamation case brought against him by a British caver who had advised in the Tham Luang cave rescue.\n",
      "\n"
     ]
    }
   ],
   "source": [
    "'''Each record is separated by \\n'''\n",
    "# This is what the data looks like.\n",
    "for record in text.Text:\n",
    "    print(record + \"\\n\")"
   ]
  },
  {
   "cell_type": "markdown",
   "id": "82121f25",
   "metadata": {},
   "source": [
    "# Removing Punctuation: function to remove all punctuation.\n",
    "### Why remove punctuation?\n",
    "- This can reduce complexity of total number of words considered.\n",
    "- Most importantly, punctuation typically does NOT hold any vital information and thus should be removed.\n",
    "    - However, do be careful if you are utilizing transfer learning on Large language models since the preprocess step can be dependent on punctuation.\n",
    "- A very nice regex calculator can be found [here](https://regex101.com/)\n",
    "\n",
    "Regular Expression to find __all__ punctuation: __[^\\w\\s]+__\n",
    "- '+' matches the previous token between one and unlimited times, as many times as possible, giving back as needed (greedy)\n",
    "- \\w matches any word character (equivalent to __[a-zA-Z0-9_]__)\n",
    "- \\s matches any whitespace character (equivalent to __[\\r\\n\\t\\f\\v ]__)"
   ]
  },
  {
   "cell_type": "code",
   "execution_count": 5,
   "id": "e3678ba5",
   "metadata": {},
   "outputs": [
    {
     "name": "stdout",
     "output_type": "stream",
     "text": [
      "PUNCTUATION REMOVED: httpsenwikipediaorgwikiElon_Musk\n",
      "\n",
      "ORIGINAL: https://en.wikipedia.org/wiki/Elon_Musk\n",
      "\n",
      "-----\n",
      "PUNCTUATION REMOVED: Elon Reeve Musk FRS iln EElon born June 28 1971 is a business magnate investor and philanthropist He is the founder CEO and Chief Engineer at SpaceX angel investor CEO and Product Architect of Tesla Inc founder of The Boring Company and cofounder of Neuralink and OpenAI With an estimated net worth of around US265 billion as of May 20224 Musk is the wealthiest person in the world according to both the Bloomberg Billionaires Index and the Forbes realtime billionaires list56\n",
      "\n",
      "ORIGINAL: Elon Reeve Musk FRS (/?i?l?n/ EE-lon; born June 28, 1971) is a business magnate, investor and philanthropist. He is the founder, CEO and Chief Engineer at SpaceX; angel investor, CEO and Product Architect of Tesla, Inc.; founder of The Boring Company; and co-founder of Neuralink and OpenAI. With an estimated net worth of around US$265 billion as of May 2022,[4] Musk is the wealthiest person in the world according to both the Bloomberg Billionaires Index and the Forbes real-time billionaires list.[5][6]\n",
      "\n",
      "-----\n",
      "PUNCTUATION REMOVED: Musk was born to a Canadian mother and White South African father and raised in Pretoria South Africa He briefly attended the University of Pretoria before moving to Canada at age 17 He matriculated at Queens University and transferred to the University of Pennsylvania two years later where he received a bachelors degree in Economics and Physics He moved to California in 1995 to attend Stanford University but decided instead to pursue a business career cofounding the web software company Zip2 with his brother Kimbal The startup was acquired by Compaq for 307 million in 1999 The same year Musk cofounded online bank Xcom which merged with Confinity in 2000 to form PayPal The company was bought by eBay in 2002 for 15 billion\n",
      "\n",
      "ORIGINAL: Musk was born to a Canadian mother and White South African father, and raised in Pretoria, South Africa. He briefly attended the University of Pretoria before moving to Canada at age 17. He matriculated at Queen's University and transferred to the University of Pennsylvania two years later, where he received a bachelor's degree in Economics and Physics. He moved to California in 1995 to attend Stanford University but decided instead to pursue a business career, co-founding the web software company Zip2 with his brother Kimbal. The startup was acquired by Compaq for $307 million in 1999. The same year, Musk co-founded online bank X.com, which merged with Confinity in 2000 to form PayPal. The company was bought by eBay in 2002 for $1.5 billion.\n",
      "\n",
      "-----\n",
      "PUNCTUATION REMOVED: In 2002 Musk founded SpaceX an aerospace manufacturer and space transport services company of which he serves as CEO and Chief Engineer In 2004 he joined electric vehicle manufacturer Tesla Motors Inc now Tesla Inc as chairman and product architect eventually assuming the position of CEO in 2008 In 2006 he helped create SolarCity a solar energy company that was later acquired by Tesla and became Tesla Energy In 2015 he cofounded OpenAI a nonprofit research company that promotes friendly artificial intelligence AI In 2016 he cofounded Neuralink a neurotechnology company focused on developing braincomputer interfaces and founded The Boring Company a tunnel construction company He also agreed to purchase the major American social networking service Twitter in 2022 for 44 billion Musk has proposed the Hyperloop a highspeed vactrain transportation system He is the president of the Musk Foundation an organization which donates to scientific research and education\n",
      "\n",
      "ORIGINAL: In 2002, Musk founded SpaceX, an aerospace manufacturer and space transport services company, of which he serves as CEO and Chief Engineer. In 2004, he joined electric vehicle manufacturer Tesla Motors, Inc. (now Tesla, Inc.) as chairman and product architect, eventually assuming the position of CEO in 2008. In 2006, he helped create SolarCity, a solar energy company that was later acquired by Tesla and became Tesla Energy. In 2015, he co-founded OpenAI, a nonprofit research company that promotes friendly artificial intelligence (AI). In 2016, he co-founded Neuralink, a neurotechnology company focused on developing brain�computer interfaces, and founded The Boring Company, a tunnel construction company. He also agreed to purchase the major American social networking service Twitter in 2022 for $44 billion. Musk has proposed the Hyperloop, a high-speed vactrain transportation system. He is the president of the Musk Foundation, an organization which donates to scientific research and education.\n",
      "\n",
      "-----\n",
      "PUNCTUATION REMOVED: Musk has been criticized for making unscientific and controversial statements such as spreading misinformation about the COVID19 pandemic In 2018 he was sued by the US Securities and Exchange Commission SEC for falsely tweeting that he had secured funding for a private takeover of Tesla he settled with the SEC but did not admit guilt and temporarily stepped down from his Tesla chairmanship In 2019 he won a defamation case brought against him by a British caver who had advised in the Tham Luang cave rescue\n",
      "\n",
      "ORIGINAL: Musk has been criticized for making unscientific and controversial statements, such as spreading misinformation about the COVID-19 pandemic. In 2018, he was sued by the US Securities and Exchange Commission (SEC) for falsely tweeting that he had secured funding for a private takeover of Tesla; he settled with the SEC but did not admit guilt, and temporarily stepped down from his Tesla chairmanship. In 2019, he won a defamation case brought against him by a British caver who had advised in the Tham Luang cave rescue.\n",
      "\n",
      "-----\n"
     ]
    },
    {
     "name": "stderr",
     "output_type": "stream",
     "text": [
      "<ipython-input-5-8a4fbde22dba>:2: FutureWarning: The default value of regex will change from True to False in a future version.\n",
      "  return text.str.replace(r'[^\\w\\s]+', '') # r'' indicates to treat as a raw string\n"
     ]
    }
   ],
   "source": [
    "def remove_punctuation(text: str) -> str:\n",
    "    return text.str.replace(r'[^\\w\\s]+', '') # r'' indicates to treat as a raw string\n",
    "    \n",
    "no_punctuation = text.apply(remove_punctuation) # example how to run function on dataframe\n",
    "for c, n in enumerate(no_punctuation.Text):\n",
    "    print(\"PUNCTUATION REMOVED:\", n + \"\\n\")\n",
    "    print(\"ORIGINAL:\", text.Text[c] + \"\\n\")\n",
    "    print(\"-----\")"
   ]
  },
  {
   "cell_type": "markdown",
   "id": "5a103ad9",
   "metadata": {},
   "source": [
    "# Removing URLs\n",
    "- URLs do not give any information when we try to analyze text from words\n",
    "- However, there are cases when maybe having URL's are still useful especially if you want to have a graph-oriented databse. (Neo4j for example)"
   ]
  },
  {
   "cell_type": "code",
   "execution_count": 6,
   "id": "0b16514e",
   "metadata": {},
   "outputs": [
    {
     "name": "stdout",
     "output_type": "stream",
     "text": [
      "URL REMOVED: \n",
      "\n",
      "ORIGINAL: https://en.wikipedia.org/wiki/Elon_Musk\n",
      "\n",
      "-----\n",
      "URL REMOVED: Elon Reeve Musk FRS (/?i?l?n/ EE-lon; born June 28, 1971) is a business magnate, investor and philanthropist. He is the founder, CEO and Chief Engineer at SpaceX; angel investor, CEO and Product Architect of Tesla, Inc.; founder of The Boring Company; and co-founder of Neuralink and OpenAI. With an estimated net worth of around US$265 billion as of May 2022,[4] Musk is the wealthiest person in the world according to both the Bloomberg Billionaires Index and the Forbes real-time billionaires list.[5][6]\n",
      "\n",
      "ORIGINAL: Elon Reeve Musk FRS (/?i?l?n/ EE-lon; born June 28, 1971) is a business magnate, investor and philanthropist. He is the founder, CEO and Chief Engineer at SpaceX; angel investor, CEO and Product Architect of Tesla, Inc.; founder of The Boring Company; and co-founder of Neuralink and OpenAI. With an estimated net worth of around US$265 billion as of May 2022,[4] Musk is the wealthiest person in the world according to both the Bloomberg Billionaires Index and the Forbes real-time billionaires list.[5][6]\n",
      "\n",
      "-----\n",
      "URL REMOVED: Musk was born to a Canadian mother and White South African father, and raised in Pretoria, South Africa. He briefly attended the University of Pretoria before moving to Canada at age 17. He matriculated at Queen's University and transferred to the University of Pennsylvania two years later, where he received a bachelor's degree in Economics and Physics. He moved to California in 1995 to attend Stanford University but decided instead to pursue a business career, co-founding the web software company Zip2 with his brother Kimbal. The startup was acquired by Compaq for $307 million in 1999. The same year, Musk co-founded online bank X.com, which merged with Confinity in 2000 to form PayPal. The company was bought by eBay in 2002 for $1.5 billion.\n",
      "\n",
      "ORIGINAL: Musk was born to a Canadian mother and White South African father, and raised in Pretoria, South Africa. He briefly attended the University of Pretoria before moving to Canada at age 17. He matriculated at Queen's University and transferred to the University of Pennsylvania two years later, where he received a bachelor's degree in Economics and Physics. He moved to California in 1995 to attend Stanford University but decided instead to pursue a business career, co-founding the web software company Zip2 with his brother Kimbal. The startup was acquired by Compaq for $307 million in 1999. The same year, Musk co-founded online bank X.com, which merged with Confinity in 2000 to form PayPal. The company was bought by eBay in 2002 for $1.5 billion.\n",
      "\n",
      "-----\n",
      "URL REMOVED: In 2002, Musk founded SpaceX, an aerospace manufacturer and space transport services company, of which he serves as CEO and Chief Engineer. In 2004, he joined electric vehicle manufacturer Tesla Motors, Inc. (now Tesla, Inc.) as chairman and product architect, eventually assuming the position of CEO in 2008. In 2006, he helped create SolarCity, a solar energy company that was later acquired by Tesla and became Tesla Energy. In 2015, he co-founded OpenAI, a nonprofit research company that promotes friendly artificial intelligence (AI). In 2016, he co-founded Neuralink, a neurotechnology company focused on developing brain�computer interfaces, and founded The Boring Company, a tunnel construction company. He also agreed to purchase the major American social networking service Twitter in 2022 for $44 billion. Musk has proposed the Hyperloop, a high-speed vactrain transportation system. He is the president of the Musk Foundation, an organization which donates to scientific research and education.\n",
      "\n",
      "ORIGINAL: In 2002, Musk founded SpaceX, an aerospace manufacturer and space transport services company, of which he serves as CEO and Chief Engineer. In 2004, he joined electric vehicle manufacturer Tesla Motors, Inc. (now Tesla, Inc.) as chairman and product architect, eventually assuming the position of CEO in 2008. In 2006, he helped create SolarCity, a solar energy company that was later acquired by Tesla and became Tesla Energy. In 2015, he co-founded OpenAI, a nonprofit research company that promotes friendly artificial intelligence (AI). In 2016, he co-founded Neuralink, a neurotechnology company focused on developing brain�computer interfaces, and founded The Boring Company, a tunnel construction company. He also agreed to purchase the major American social networking service Twitter in 2022 for $44 billion. Musk has proposed the Hyperloop, a high-speed vactrain transportation system. He is the president of the Musk Foundation, an organization which donates to scientific research and education.\n",
      "\n",
      "-----\n",
      "URL REMOVED: Musk has been criticized for making unscientific and controversial statements, such as spreading misinformation about the COVID-19 pandemic. In 2018, he was sued by the US Securities and Exchange Commission (SEC) for falsely tweeting that he had secured funding for a private takeover of Tesla; he settled with the SEC but did not admit guilt, and temporarily stepped down from his Tesla chairmanship. In 2019, he won a defamation case brought against him by a British caver who had advised in the Tham Luang cave rescue.\n",
      "\n",
      "ORIGINAL: Musk has been criticized for making unscientific and controversial statements, such as spreading misinformation about the COVID-19 pandemic. In 2018, he was sued by the US Securities and Exchange Commission (SEC) for falsely tweeting that he had secured funding for a private takeover of Tesla; he settled with the SEC but did not admit guilt, and temporarily stepped down from his Tesla chairmanship. In 2019, he won a defamation case brought against him by a British caver who had advised in the Tham Luang cave rescue.\n",
      "\n",
      "-----\n"
     ]
    },
    {
     "name": "stderr",
     "output_type": "stream",
     "text": [
      "<ipython-input-6-12bd1c536ab9>:2: FutureWarning: The default value of regex will change from True to False in a future version.\n",
      "  return text.str.replace(r'http\\S+|www.\\S+', '')\n"
     ]
    }
   ],
   "source": [
    "def remove_url(text: str) -> str:\n",
    "    return text.str.replace(r'http\\S+|www.\\S+', '')\n",
    "\n",
    "no_url = text.apply(remove_url)\n",
    "for c, n in enumerate(no_url.Text):\n",
    "    print(\"URL REMOVED:\", n + \"\\n\") # Notice how the URL in the first record disappeared!\n",
    "    print(\"ORIGINAL:\", text.Text[c] + \"\\n\")\n",
    "    print(\"-----\")"
   ]
  },
  {
   "cell_type": "markdown",
   "id": "c9b3daea",
   "metadata": {},
   "source": [
    "# Remove Stop Words!\n",
    "- Why? Again, stopwords add little to no value to the meaning of the sentence!\n",
    "- __stop words__ are commonly used words in language. A group of words that do not add any additional information such as articles, determiners and prepositions are associated with stopwords.\n",
    "- The list of stop words vary from package to package, but as long as you are familiar with which type of words are used, feel free to use those packages!"
   ]
  },
  {
   "cell_type": "code",
   "execution_count": 7,
   "id": "431d45f5",
   "metadata": {},
   "outputs": [
    {
     "name": "stdout",
     "output_type": "stream",
     "text": [
      "a\n",
      "about\n",
      "above\n",
      "after\n",
      "again\n",
      "against\n",
      "all\n",
      "am\n",
      "an\n",
      "and\n",
      "any\n",
      "are\n",
      "aren't\n",
      "as\n",
      "at\n",
      "be\n",
      "because\n",
      "been\n",
      "before\n",
      "being\n",
      "below\n",
      "between\n",
      "both\n",
      "but\n",
      "by\n",
      "can't\n",
      "cannot\n",
      "could\n",
      "couldn't\n",
      "did\n",
      "didn't\n",
      "do\n",
      "does\n",
      "doesn't\n",
      "doing\n",
      "don't\n",
      "down\n",
      "during\n",
      "each\n",
      "few\n",
      "for\n",
      "from\n",
      "further\n",
      "had\n",
      "hadn't\n",
      "has\n",
      "hasn't\n",
      "have\n",
      "haven't\n",
      "having\n",
      "he\n",
      "he'd\n",
      "he'll\n",
      "he's\n",
      "her\n",
      "here\n",
      "here's\n",
      "hers\n",
      "herself\n",
      "him\n",
      "himself\n",
      "his\n",
      "how\n",
      "how's\n",
      "i\n",
      "i'd\n",
      "i'll\n",
      "i'm\n",
      "i've\n",
      "if\n",
      "in\n",
      "into\n",
      "is\n",
      "isn't\n",
      "it\n",
      "it's\n",
      "its\n",
      "itself\n",
      "let's\n",
      "me\n",
      "more\n",
      "most\n",
      "mustn't\n",
      "my\n",
      "myself\n",
      "no\n",
      "nor\n",
      "not\n",
      "of\n",
      "off\n",
      "on\n",
      "once\n",
      "only\n",
      "or\n",
      "other\n",
      "ought\n",
      "our\n",
      "ours\tourselves\n",
      "out\n",
      "over\n",
      "own\n",
      "same\n",
      "shan't\n",
      "she\n",
      "she'd\n",
      "she'll\n",
      "she's\n",
      "should\n",
      "shouldn't\n",
      "so\n",
      "some\n",
      "such\n",
      "than\n",
      "that\n",
      "that's\n",
      "the\n",
      "their\n",
      "theirs\n",
      "them\n",
      "themselves\n",
      "then\n",
      "there\n",
      "there's\n",
      "these\n",
      "they\n",
      "they'd\n",
      "they'll\n",
      "they're\n",
      "they've\n",
      "this\n",
      "those\n",
      "through\n",
      "to\n",
      "too\n",
      "under\n",
      "until\n",
      "up\n",
      "very\n",
      "was\n",
      "wasn't\n",
      "we\n",
      "we'd\n",
      "we'll\n",
      "we're\n",
      "we've\n",
      "were\n",
      "weren't\n",
      "what\n",
      "what's\n",
      "when\n",
      "when's\n",
      "where\n",
      "where's\n",
      "which\n",
      "while\n",
      "who\n",
      "who's\n",
      "whom\n",
      "why\n",
      "why's\n",
      "with\n",
      "won't\n",
      "would\n",
      "wouldn't\n",
      "you\n",
      "you'd\n",
      "you'll\n",
      "you're\n",
      "you've\n",
      "your\n",
      "yours\n",
      "yourself\n",
      "yourselves\n"
     ]
    }
   ],
   "source": [
    "# Copied and pasted from: https://www.ranks.nl/stopwords\n",
    "stop_words = pd.read_csv(\"common_stopwords.txt\")\n",
    "\n",
    "for word in stop_words.STOP_WORDS:\n",
    "    print(word)"
   ]
  },
  {
   "cell_type": "code",
   "execution_count": 8,
   "id": "d43a77c5",
   "metadata": {},
   "outputs": [
    {
     "name": "stdout",
     "output_type": "stream",
     "text": [
      "NO STOP WORDS: https://en.wikipedia.org/wiki/Elon_Musk\n",
      "\n",
      "ORIGINAL: https://en.wikipedia.org/wiki/Elon_Musk\n",
      "\n",
      "-----\n",
      "NO STOP WORDS: Elon Reeve Musk FRS (/?i?l?n/ EE-lon; born June 28, 1971) is a business magnate, investor and philanthropist. He is the founder, CEO and Chief Engineer at SpaceX; angel investor, CEO and Product Architect of Tesla, Inc.; founder of The Boring Company; and co-founder of Neuralink and OpenAI. With an estimated net worth of around US$265 billion as of May 2022,[4] Musk is the wealthiest person in the world according to both the Bloomberg Billionaires Index and the Forbes real-time billionaires list.[5][6]\n",
      "\n",
      "ORIGINAL: Elon Reeve Musk FRS (/?i?l?n/ EE-lon; born June 28, 1971) is a business magnate, investor and philanthropist. He is the founder, CEO and Chief Engineer at SpaceX; angel investor, CEO and Product Architect of Tesla, Inc.; founder of The Boring Company; and co-founder of Neuralink and OpenAI. With an estimated net worth of around US$265 billion as of May 2022,[4] Musk is the wealthiest person in the world according to both the Bloomberg Billionaires Index and the Forbes real-time billionaires list.[5][6]\n",
      "\n",
      "-----\n",
      "NO STOP WORDS: Musk was born to a Canadian mother and White South African father, and raised in Pretoria, South Africa. He briefly attended the University of Pretoria before moving to Canada at age 17. He matriculated at Queen's University and transferred to the University of Pennsylvania two years later, where he received a bachelor's degree in Economics and Physics. He moved to California in 1995 to attend Stanford University but decided instead to pursue a business career, co-founding the web software company Zip2 with his brother Kimbal. The startup was acquired by Compaq for $307 million in 1999. The same year, Musk co-founded online bank X.com, which merged with Confinity in 2000 to form PayPal. The company was bought by eBay in 2002 for $1.5 billion.\n",
      "\n",
      "ORIGINAL: Musk was born to a Canadian mother and White South African father, and raised in Pretoria, South Africa. He briefly attended the University of Pretoria before moving to Canada at age 17. He matriculated at Queen's University and transferred to the University of Pennsylvania two years later, where he received a bachelor's degree in Economics and Physics. He moved to California in 1995 to attend Stanford University but decided instead to pursue a business career, co-founding the web software company Zip2 with his brother Kimbal. The startup was acquired by Compaq for $307 million in 1999. The same year, Musk co-founded online bank X.com, which merged with Confinity in 2000 to form PayPal. The company was bought by eBay in 2002 for $1.5 billion.\n",
      "\n",
      "-----\n",
      "NO STOP WORDS: In 2002, Musk founded SpaceX, an aerospace manufacturer and space transport services company, of which he serves as CEO and Chief Engineer. In 2004, he joined electric vehicle manufacturer Tesla Motors, Inc. (now Tesla, Inc.) as chairman and product architect, eventually assuming the position of CEO in 2008. In 2006, he helped create SolarCity, a solar energy company that was later acquired by Tesla and became Tesla Energy. In 2015, he co-founded OpenAI, a nonprofit research company that promotes friendly artificial intelligence (AI). In 2016, he co-founded Neuralink, a neurotechnology company focused on developing brain�computer interfaces, and founded The Boring Company, a tunnel construction company. He also agreed to purchase the major American social networking service Twitter in 2022 for $44 billion. Musk has proposed the Hyperloop, a high-speed vactrain transportation system. He is the president of the Musk Foundation, an organization which donates to scientific research and education.\n",
      "\n",
      "ORIGINAL: In 2002, Musk founded SpaceX, an aerospace manufacturer and space transport services company, of which he serves as CEO and Chief Engineer. In 2004, he joined electric vehicle manufacturer Tesla Motors, Inc. (now Tesla, Inc.) as chairman and product architect, eventually assuming the position of CEO in 2008. In 2006, he helped create SolarCity, a solar energy company that was later acquired by Tesla and became Tesla Energy. In 2015, he co-founded OpenAI, a nonprofit research company that promotes friendly artificial intelligence (AI). In 2016, he co-founded Neuralink, a neurotechnology company focused on developing brain�computer interfaces, and founded The Boring Company, a tunnel construction company. He also agreed to purchase the major American social networking service Twitter in 2022 for $44 billion. Musk has proposed the Hyperloop, a high-speed vactrain transportation system. He is the president of the Musk Foundation, an organization which donates to scientific research and education.\n",
      "\n",
      "-----\n",
      "NO STOP WORDS: Musk has been criticized for making unscientific and controversial statements, such as spreading misinformation about the COVID-19 pandemic. In 2018, he was sued by the US Securities and Exchange Commission (SEC) for falsely tweeting that he had secured funding for a private takeover of Tesla; he settled with the SEC but did not admit guilt, and temporarily stepped down from his Tesla chairmanship. In 2019, he won a defamation case brought against him by a British caver who had advised in the Tham Luang cave rescue.\n",
      "\n",
      "ORIGINAL: Musk has been criticized for making unscientific and controversial statements, such as spreading misinformation about the COVID-19 pandemic. In 2018, he was sued by the US Securities and Exchange Commission (SEC) for falsely tweeting that he had secured funding for a private takeover of Tesla; he settled with the SEC but did not admit guilt, and temporarily stepped down from his Tesla chairmanship. In 2019, he won a defamation case brought against him by a British caver who had advised in the Tham Luang cave rescue.\n",
      "\n",
      "-----\n"
     ]
    }
   ],
   "source": [
    "# Let's remove these stop words from our dataframe.\n",
    "text_with_no_stop_words = text.apply(lambda x: [item for item in x if item not in stop_words])\n",
    "for c, twnsw in enumerate(text_with_no_stop_words.Text):\n",
    "    print(\"NO STOP WORDS:\", twnsw + \"\\n\")\n",
    "    print(\"ORIGINAL:\", text.Text[c] + \"\\n\")\n",
    "    print(\"-----\")"
   ]
  },
  {
   "cell_type": "markdown",
   "id": "45e79e31",
   "metadata": {},
   "source": [
    "# Lowercase your text!\n",
    "- We want to lowercase our text in order to improve our general accuracy. Many language models will ultimatiely treat capital letters differently. \n",
    "    - Different for very large language models\n",
    "    - Language dependent (but for english, consider lowercasing your corpus)"
   ]
  },
  {
   "cell_type": "code",
   "execution_count": 10,
   "id": "6edf133e",
   "metadata": {},
   "outputs": [
    {
     "name": "stdout",
     "output_type": "stream",
     "text": [
      "LOWERCASE: https://en.wikipedia.org/wiki/elon_musk\n",
      "\n",
      "ORIGINAL: https://en.wikipedia.org/wiki/Elon_Musk\n",
      "\n",
      "-----\n",
      "LOWERCASE: elon reeve musk frs (/?i?l?n/ ee-lon; born june 28, 1971) is a business magnate, investor and philanthropist. he is the founder, ceo and chief engineer at spacex; angel investor, ceo and product architect of tesla, inc.; founder of the boring company; and co-founder of neuralink and openai. with an estimated net worth of around us$265 billion as of may 2022,[4] musk is the wealthiest person in the world according to both the bloomberg billionaires index and the forbes real-time billionaires list.[5][6]\n",
      "\n",
      "ORIGINAL: Elon Reeve Musk FRS (/?i?l?n/ EE-lon; born June 28, 1971) is a business magnate, investor and philanthropist. He is the founder, CEO and Chief Engineer at SpaceX; angel investor, CEO and Product Architect of Tesla, Inc.; founder of The Boring Company; and co-founder of Neuralink and OpenAI. With an estimated net worth of around US$265 billion as of May 2022,[4] Musk is the wealthiest person in the world according to both the Bloomberg Billionaires Index and the Forbes real-time billionaires list.[5][6]\n",
      "\n",
      "-----\n",
      "LOWERCASE: musk was born to a canadian mother and white south african father, and raised in pretoria, south africa. he briefly attended the university of pretoria before moving to canada at age 17. he matriculated at queen's university and transferred to the university of pennsylvania two years later, where he received a bachelor's degree in economics and physics. he moved to california in 1995 to attend stanford university but decided instead to pursue a business career, co-founding the web software company zip2 with his brother kimbal. the startup was acquired by compaq for $307 million in 1999. the same year, musk co-founded online bank x.com, which merged with confinity in 2000 to form paypal. the company was bought by ebay in 2002 for $1.5 billion.\n",
      "\n",
      "ORIGINAL: Musk was born to a Canadian mother and White South African father, and raised in Pretoria, South Africa. He briefly attended the University of Pretoria before moving to Canada at age 17. He matriculated at Queen's University and transferred to the University of Pennsylvania two years later, where he received a bachelor's degree in Economics and Physics. He moved to California in 1995 to attend Stanford University but decided instead to pursue a business career, co-founding the web software company Zip2 with his brother Kimbal. The startup was acquired by Compaq for $307 million in 1999. The same year, Musk co-founded online bank X.com, which merged with Confinity in 2000 to form PayPal. The company was bought by eBay in 2002 for $1.5 billion.\n",
      "\n",
      "-----\n",
      "LOWERCASE: in 2002, musk founded spacex, an aerospace manufacturer and space transport services company, of which he serves as ceo and chief engineer. in 2004, he joined electric vehicle manufacturer tesla motors, inc. (now tesla, inc.) as chairman and product architect, eventually assuming the position of ceo in 2008. in 2006, he helped create solarcity, a solar energy company that was later acquired by tesla and became tesla energy. in 2015, he co-founded openai, a nonprofit research company that promotes friendly artificial intelligence (ai). in 2016, he co-founded neuralink, a neurotechnology company focused on developing brain�computer interfaces, and founded the boring company, a tunnel construction company. he also agreed to purchase the major american social networking service twitter in 2022 for $44 billion. musk has proposed the hyperloop, a high-speed vactrain transportation system. he is the president of the musk foundation, an organization which donates to scientific research and education.\n",
      "\n",
      "ORIGINAL: In 2002, Musk founded SpaceX, an aerospace manufacturer and space transport services company, of which he serves as CEO and Chief Engineer. In 2004, he joined electric vehicle manufacturer Tesla Motors, Inc. (now Tesla, Inc.) as chairman and product architect, eventually assuming the position of CEO in 2008. In 2006, he helped create SolarCity, a solar energy company that was later acquired by Tesla and became Tesla Energy. In 2015, he co-founded OpenAI, a nonprofit research company that promotes friendly artificial intelligence (AI). In 2016, he co-founded Neuralink, a neurotechnology company focused on developing brain�computer interfaces, and founded The Boring Company, a tunnel construction company. He also agreed to purchase the major American social networking service Twitter in 2022 for $44 billion. Musk has proposed the Hyperloop, a high-speed vactrain transportation system. He is the president of the Musk Foundation, an organization which donates to scientific research and education.\n",
      "\n",
      "-----\n",
      "LOWERCASE: musk has been criticized for making unscientific and controversial statements, such as spreading misinformation about the covid-19 pandemic. in 2018, he was sued by the us securities and exchange commission (sec) for falsely tweeting that he had secured funding for a private takeover of tesla; he settled with the sec but did not admit guilt, and temporarily stepped down from his tesla chairmanship. in 2019, he won a defamation case brought against him by a british caver who had advised in the tham luang cave rescue.\n",
      "\n",
      "ORIGINAL: Musk has been criticized for making unscientific and controversial statements, such as spreading misinformation about the COVID-19 pandemic. In 2018, he was sued by the US Securities and Exchange Commission (SEC) for falsely tweeting that he had secured funding for a private takeover of Tesla; he settled with the SEC but did not admit guilt, and temporarily stepped down from his Tesla chairmanship. In 2019, he won a defamation case brought against him by a British caver who had advised in the Tham Luang cave rescue.\n",
      "\n",
      "-----\n"
     ]
    }
   ],
   "source": [
    "for c, t in enumerate(text.Text):\n",
    "    print(\"LOWERCASE:\", t.lower() + \"\\n\")\n",
    "    print(\"ORIGINAL:\", t + \"\\n\")\n",
    "    print(\"-----\")"
   ]
  },
  {
   "cell_type": "markdown",
   "id": "c972124c",
   "metadata": {},
   "source": [
    "# Tokenization\n",
    "- This is the building block for Natural Language Processing.\n",
    "- Process of breaking your corpus into single words. (A token can be a word, character(s) or a part of a word (subword or n-gram characters))\n",
    "    - What granularity should you act? It really depends.\n",
    "- This is incredibly important! You can't work with text data if you don't perform a type of tokenization on your text.\n",
    "- There are many forms of tokenization and more detail can be found [here](https://towardsdatascience.com/tokenization-for-natural-language-processing-a179a891bad4#:~:text=Tokenization%20is%20breaking%20the%20raw,the%20sequence%20of%20the%20words.)\n",
    "\n",
    "# Difficulties in Tokenization\n",
    "- The toughest part about tokenization is identifying at which boundary do you split your text.\n",
    "- Many popular NLP models use different forms of tokenization, so it would be helpful to be aware of such discrepancies\n",
    "\n",
    "## Example of Tokenization (whitespace tokenization):\n",
    "Make sure to hit that like button and subscribe!\n",
    "\n",
    "Make, sure, to, hit, that, like, button, and, subscribe!"
   ]
  },
  {
   "cell_type": "code",
   "execution_count": 16,
   "id": "9ef76309",
   "metadata": {},
   "outputs": [
    {
     "name": "stdout",
     "output_type": "stream",
     "text": [
      "['https://en.wikipedia.org/wiki/Elon_Musk']\n",
      "\n",
      "\n",
      "['Elon', 'Reeve', 'Musk', 'FRS', '(/?i?l?n/', 'EE-lon;', 'born', 'June', '28,', '1971)', 'is', 'a', 'business', 'magnate,', 'investor', 'and', 'philanthropist.', 'He', 'is', 'the', 'founder,', 'CEO', 'and', 'Chief', 'Engineer', 'at', 'SpaceX;', 'angel', 'investor,', 'CEO', 'and', 'Product', 'Architect', 'of', 'Tesla,', 'Inc.;', 'founder', 'of', 'The', 'Boring', 'Company;', 'and', 'co-founder', 'of', 'Neuralink', 'and', 'OpenAI.', 'With', 'an', 'estimated', 'net', 'worth', 'of', 'around', 'US$265', 'billion', 'as', 'of', 'May', '2022,[4]', 'Musk', 'is', 'the', 'wealthiest', 'person', 'in', 'the', 'world', 'according', 'to', 'both', 'the', 'Bloomberg', 'Billionaires', 'Index', 'and', 'the', 'Forbes', 'real-time', 'billionaires', 'list.[5][6]']\n",
      "\n",
      "\n",
      "['Musk', 'was', 'born', 'to', 'a', 'Canadian', 'mother', 'and', 'White', 'South', 'African', 'father,', 'and', 'raised', 'in', 'Pretoria,', 'South', 'Africa.', 'He', 'briefly', 'attended', 'the', 'University', 'of', 'Pretoria', 'before', 'moving', 'to', 'Canada', 'at', 'age', '17.', 'He', 'matriculated', 'at', \"Queen's\", 'University', 'and', 'transferred', 'to', 'the', 'University', 'of', 'Pennsylvania', 'two', 'years', 'later,', 'where', 'he', 'received', 'a', \"bachelor's\", 'degree', 'in', 'Economics', 'and', 'Physics.', 'He', 'moved', 'to', 'California', 'in', '1995', 'to', 'attend', 'Stanford', 'University', 'but', 'decided', 'instead', 'to', 'pursue', 'a', 'business', 'career,', 'co-founding', 'the', 'web', 'software', 'company', 'Zip2', 'with', 'his', 'brother', 'Kimbal.', 'The', 'startup', 'was', 'acquired', 'by', 'Compaq', 'for', '$307', 'million', 'in', '1999.', 'The', 'same', 'year,', 'Musk', 'co-founded', 'online', 'bank', 'X.com,', 'which', 'merged', 'with', 'Confinity', 'in', '2000', 'to', 'form', 'PayPal.', 'The', 'company', 'was', 'bought', 'by', 'eBay', 'in', '2002', 'for', '$1.5', 'billion.']\n",
      "\n",
      "\n",
      "['In', '2002,', 'Musk', 'founded', 'SpaceX,', 'an', 'aerospace', 'manufacturer', 'and', 'space', 'transport', 'services', 'company,', 'of', 'which', 'he', 'serves', 'as', 'CEO', 'and', 'Chief', 'Engineer.', 'In', '2004,', 'he', 'joined', 'electric', 'vehicle', 'manufacturer', 'Tesla', 'Motors,', 'Inc.', '(now', 'Tesla,', 'Inc.)', 'as', 'chairman', 'and', 'product', 'architect,', 'eventually', 'assuming', 'the', 'position', 'of', 'CEO', 'in', '2008.', 'In', '2006,', 'he', 'helped', 'create', 'SolarCity,', 'a', 'solar', 'energy', 'company', 'that', 'was', 'later', 'acquired', 'by', 'Tesla', 'and', 'became', 'Tesla', 'Energy.', 'In', '2015,', 'he', 'co-founded', 'OpenAI,', 'a', 'nonprofit', 'research', 'company', 'that', 'promotes', 'friendly', 'artificial', 'intelligence', '(AI).', 'In', '2016,', 'he', 'co-founded', 'Neuralink,', 'a', 'neurotechnology', 'company', 'focused', 'on', 'developing', 'brain�computer', 'interfaces,', 'and', 'founded', 'The', 'Boring', 'Company,', 'a', 'tunnel', 'construction', 'company.', 'He', 'also', 'agreed', 'to', 'purchase', 'the', 'major', 'American', 'social', 'networking', 'service', 'Twitter', 'in', '2022', 'for', '$44', 'billion.', 'Musk', 'has', 'proposed', 'the', 'Hyperloop,', 'a', 'high-speed', 'vactrain', 'transportation', 'system.', 'He', 'is', 'the', 'president', 'of', 'the', 'Musk', 'Foundation,', 'an', 'organization', 'which', 'donates', 'to', 'scientific', 'research', 'and', 'education.']\n",
      "\n",
      "\n",
      "['Musk', 'has', 'been', 'criticized', 'for', 'making', 'unscientific', 'and', 'controversial', 'statements,', 'such', 'as', 'spreading', 'misinformation', 'about', 'the', 'COVID-19', 'pandemic.', 'In', '2018,', 'he', 'was', 'sued', 'by', 'the', 'US', 'Securities', 'and', 'Exchange', 'Commission', '(SEC)', 'for', 'falsely', 'tweeting', 'that', 'he', 'had', 'secured', 'funding', 'for', 'a', 'private', 'takeover', 'of', 'Tesla;', 'he', 'settled', 'with', 'the', 'SEC', 'but', 'did', 'not', 'admit', 'guilt,', 'and', 'temporarily', 'stepped', 'down', 'from', 'his', 'Tesla', 'chairmanship.', 'In', '2019,', 'he', 'won', 'a', 'defamation', 'case', 'brought', 'against', 'him', 'by', 'a', 'British', 'caver', 'who', 'had', 'advised', 'in', 'the', 'Tham', 'Luang', 'cave', 'rescue.']\n",
      "\n",
      "\n"
     ]
    }
   ],
   "source": [
    "# tokenization can be as simple as str.split()\n",
    "def tokenize_by_word(text: str) -> str:\n",
    "    return text.str.split(\" \")\n",
    "\n",
    "text_tokenize_words = text.apply(tokenize_by_word)\n",
    "for ttw in text_tokenize_words.Text:\n",
    "    print(ttw)\n",
    "    print(\"\\n\")"
   ]
  },
  {
   "cell_type": "code",
   "execution_count": 26,
   "id": "799d41f3",
   "metadata": {},
   "outputs": [
    {
     "data": {
      "text/plain": [
       "'Elon Reeve Musk FRS (/?i?l?n/ EE-lon; born June 28, 1971) is a business magnate, investor and philanthropist. He is the founder, CEO and Chief Engineer at SpaceX; angel investor, CEO and Product Architect of Tesla, Inc.; founder of The Boring Company; and co-founder of Neuralink and OpenAI. With an estimated net worth of around US$265 billion as of May 2022,[4] Musk is the wealthiest person in the world according to both the Bloomberg Billionaires Index and the Forbes real-time billionaires list.[5][6]'"
      ]
     },
     "execution_count": 26,
     "metadata": {},
     "output_type": "execute_result"
    }
   ],
   "source": [
    "text.Text[1]"
   ]
  },
  {
   "cell_type": "markdown",
   "id": "e76a5efc",
   "metadata": {},
   "source": [
    "# Tokenize by Sentence?"
   ]
  },
  {
   "cell_type": "code",
   "execution_count": 29,
   "id": "bd957ec4",
   "metadata": {},
   "outputs": [
    {
     "name": "stdout",
     "output_type": "stream",
     "text": [
      "['https://en', 'wikipedia', 'org/wiki/Elon_Musk']\n",
      "\n",
      "\n",
      "ORIGINAL: https://en.wikipedia.org/wiki/Elon_Musk\n",
      "----\n",
      "['Elon Reeve Musk FRS (/?i?l?n/ EE-lon; born June 28, 1971) is a business magnate, investor and philanthropist', ' He is the founder, CEO and Chief Engineer at SpaceX; angel investor, CEO and Product Architect of Tesla, Inc', '; founder of The Boring Company; and co-founder of Neuralink and OpenAI', ' With an estimated net worth of around US$265 billion as of May 2022,[4] Musk is the wealthiest person in the world according to both the Bloomberg Billionaires Index and the Forbes real-time billionaires list', '[5][6]']\n",
      "\n",
      "\n",
      "ORIGINAL: Elon Reeve Musk FRS (/?i?l?n/ EE-lon; born June 28, 1971) is a business magnate, investor and philanthropist. He is the founder, CEO and Chief Engineer at SpaceX; angel investor, CEO and Product Architect of Tesla, Inc.; founder of The Boring Company; and co-founder of Neuralink and OpenAI. With an estimated net worth of around US$265 billion as of May 2022,[4] Musk is the wealthiest person in the world according to both the Bloomberg Billionaires Index and the Forbes real-time billionaires list.[5][6]\n",
      "----\n",
      "['Musk was born to a Canadian mother and White South African father, and raised in Pretoria, South Africa', ' He briefly attended the University of Pretoria before moving to Canada at age 17', \" He matriculated at Queen's University and transferred to the University of Pennsylvania two years later, where he received a bachelor's degree in Economics and Physics\", ' He moved to California in 1995 to attend Stanford University but decided instead to pursue a business career, co-founding the web software company Zip2 with his brother Kimbal', ' The startup was acquired by Compaq for $307 million in 1999', ' The same year, Musk co-founded online bank X', 'com, which merged with Confinity in 2000 to form PayPal', ' The company was bought by eBay in 2002 for $1', '5 billion', '']\n",
      "\n",
      "\n",
      "ORIGINAL: Musk was born to a Canadian mother and White South African father, and raised in Pretoria, South Africa. He briefly attended the University of Pretoria before moving to Canada at age 17. He matriculated at Queen's University and transferred to the University of Pennsylvania two years later, where he received a bachelor's degree in Economics and Physics. He moved to California in 1995 to attend Stanford University but decided instead to pursue a business career, co-founding the web software company Zip2 with his brother Kimbal. The startup was acquired by Compaq for $307 million in 1999. The same year, Musk co-founded online bank X.com, which merged with Confinity in 2000 to form PayPal. The company was bought by eBay in 2002 for $1.5 billion.\n",
      "----\n",
      "['In 2002, Musk founded SpaceX, an aerospace manufacturer and space transport services company, of which he serves as CEO and Chief Engineer', ' In 2004, he joined electric vehicle manufacturer Tesla Motors, Inc', ' (now Tesla, Inc', ') as chairman and product architect, eventually assuming the position of CEO in 2008', ' In 2006, he helped create SolarCity, a solar energy company that was later acquired by Tesla and became Tesla Energy', ' In 2015, he co-founded OpenAI, a nonprofit research company that promotes friendly artificial intelligence (AI)', ' In 2016, he co-founded Neuralink, a neurotechnology company focused on developing brain�computer interfaces, and founded The Boring Company, a tunnel construction company', ' He also agreed to purchase the major American social networking service Twitter in 2022 for $44 billion', ' Musk has proposed the Hyperloop, a high-speed vactrain transportation system', ' He is the president of the Musk Foundation, an organization which donates to scientific research and education', '']\n",
      "\n",
      "\n",
      "ORIGINAL: In 2002, Musk founded SpaceX, an aerospace manufacturer and space transport services company, of which he serves as CEO and Chief Engineer. In 2004, he joined electric vehicle manufacturer Tesla Motors, Inc. (now Tesla, Inc.) as chairman and product architect, eventually assuming the position of CEO in 2008. In 2006, he helped create SolarCity, a solar energy company that was later acquired by Tesla and became Tesla Energy. In 2015, he co-founded OpenAI, a nonprofit research company that promotes friendly artificial intelligence (AI). In 2016, he co-founded Neuralink, a neurotechnology company focused on developing brain�computer interfaces, and founded The Boring Company, a tunnel construction company. He also agreed to purchase the major American social networking service Twitter in 2022 for $44 billion. Musk has proposed the Hyperloop, a high-speed vactrain transportation system. He is the president of the Musk Foundation, an organization which donates to scientific research and education.\n",
      "----\n",
      "['Musk has been criticized for making unscientific and controversial statements, such as spreading misinformation about the COVID-19 pandemic', ' In 2018, he was sued by the US Securities and Exchange Commission (SEC) for falsely tweeting that he had secured funding for a private takeover of Tesla; he settled with the SEC but did not admit guilt, and temporarily stepped down from his Tesla chairmanship', ' In 2019, he won a defamation case brought against him by a British caver who had advised in the Tham Luang cave rescue', '']\n",
      "\n",
      "\n",
      "ORIGINAL: Musk has been criticized for making unscientific and controversial statements, such as spreading misinformation about the COVID-19 pandemic. In 2018, he was sued by the US Securities and Exchange Commission (SEC) for falsely tweeting that he had secured funding for a private takeover of Tesla; he settled with the SEC but did not admit guilt, and temporarily stepped down from his Tesla chairmanship. In 2019, he won a defamation case brought against him by a British caver who had advised in the Tham Luang cave rescue.\n",
      "----\n"
     ]
    }
   ],
   "source": [
    "# tokenization can be as simple as str.split()\n",
    "def tokenize_by_sentence(text: str) -> str:\n",
    "    return text.str.split('.')\n",
    "\n",
    "text_tokenize_sentence = text.apply(tokenize_by_sentence)\n",
    "for c, tts in enumerate(text_tokenize_sentence.Text):\n",
    "    print(tts)\n",
    "    print(\"\\n\")\n",
    "    print(\"ORIGINAL:\", text.Text[c])\n",
    "    print(\"----\")"
   ]
  },
  {
   "cell_type": "markdown",
   "id": "db9e5aa2",
   "metadata": {},
   "source": [
    "# Tokenize by Paragraph?\n",
    "- Can be flexible with this approach. (What constitutes a paragraph?)"
   ]
  },
  {
   "cell_type": "code",
   "execution_count": 31,
   "id": "8a9fc337",
   "metadata": {},
   "outputs": [],
   "source": [
    "from typing import List"
   ]
  },
  {
   "cell_type": "code",
   "execution_count": 45,
   "id": "f95f0084",
   "metadata": {},
   "outputs": [
    {
     "data": {
      "text/plain": [
       "['https://en', 'wikipedia', 'org/wiki/Elon_Musk']"
      ]
     },
     "execution_count": 45,
     "metadata": {},
     "output_type": "execute_result"
    }
   ],
   "source": [
    "text_tokenize_sentence.Text[0]"
   ]
  },
  {
   "cell_type": "code",
   "execution_count": 155,
   "id": "096c7ba7",
   "metadata": {},
   "outputs": [],
   "source": [
    "def tokenize_by_paragraph(list_of_sentences: List[str], length_of_paragraph: int) -> List[str]:\n",
    "    '''Assumes that the sentence-tokenization has already been executed. '''\n",
    "    list_to_return = []\n",
    "    to_join = \"\"\n",
    "    for records in list_of_sentences.values:\n",
    "        if len(records) < length_of_paragraph:\n",
    "            list_to_return.append(\"\".join(records))\n",
    "        else:\n",
    "            for cr, record in enumerate(records):\n",
    "                to_join = to_join + \"\".join(record)\n",
    "                if cr % length_of_paragraph == 0 and cr != 0:\n",
    "                    list_to_return.append(to_join)\n",
    "                    to_join = \"\"\n",
    "            if to_join != \"\":\n",
    "                list_to_return.append(to_join)\n",
    "                to_join = \"\"\n",
    "    return list_to_return"
   ]
  },
  {
   "cell_type": "code",
   "execution_count": 156,
   "id": "73c06477",
   "metadata": {},
   "outputs": [
    {
     "name": "stdout",
     "output_type": "stream",
     "text": [
      "https://enwikipediaorg/wiki/Elon_Musk\n",
      "\n",
      "Elon Reeve Musk FRS (/?i?l?n/ EE-lon; born June 28, 1971) is a business magnate, investor and philanthropist He is the founder, CEO and Chief Engineer at SpaceX; angel investor, CEO and Product Architect of Tesla, Inc; founder of The Boring Company; and co-founder of Neuralink and OpenAI With an estimated net worth of around US$265 billion as of May 2022,[4] Musk is the wealthiest person in the world according to both the Bloomberg Billionaires Index and the Forbes real-time billionaires list\n",
      "\n",
      "[5][6]\n",
      "\n",
      "Musk was born to a Canadian mother and White South African father, and raised in Pretoria, South Africa He briefly attended the University of Pretoria before moving to Canada at age 17 He matriculated at Queen's University and transferred to the University of Pennsylvania two years later, where he received a bachelor's degree in Economics and Physics He moved to California in 1995 to attend Stanford University but decided instead to pursue a business career, co-founding the web software company Zip2 with his brother Kimbal\n",
      "\n",
      " The startup was acquired by Compaq for $307 million in 1999 The same year, Musk co-founded online bank Xcom, which merged with Confinity in 2000 to form PayPal\n",
      "\n",
      " The company was bought by eBay in 2002 for $15 billion\n",
      "\n",
      "In 2002, Musk founded SpaceX, an aerospace manufacturer and space transport services company, of which he serves as CEO and Chief Engineer In 2004, he joined electric vehicle manufacturer Tesla Motors, Inc (now Tesla, Inc) as chairman and product architect, eventually assuming the position of CEO in 2008\n",
      "\n",
      " In 2006, he helped create SolarCity, a solar energy company that was later acquired by Tesla and became Tesla Energy In 2015, he co-founded OpenAI, a nonprofit research company that promotes friendly artificial intelligence (AI) In 2016, he co-founded Neuralink, a neurotechnology company focused on developing brain�computer interfaces, and founded The Boring Company, a tunnel construction company\n",
      "\n",
      " He also agreed to purchase the major American social networking service Twitter in 2022 for $44 billion Musk has proposed the Hyperloop, a high-speed vactrain transportation system He is the president of the Musk Foundation, an organization which donates to scientific research and education\n",
      "\n",
      "Musk has been criticized for making unscientific and controversial statements, such as spreading misinformation about the COVID-19 pandemic In 2018, he was sued by the US Securities and Exchange Commission (SEC) for falsely tweeting that he had secured funding for a private takeover of Tesla; he settled with the SEC but did not admit guilt, and temporarily stepped down from his Tesla chairmanship In 2019, he won a defamation case brought against him by a British caver who had advised in the Tham Luang cave rescue\n",
      "\n"
     ]
    }
   ],
   "source": [
    "text_by_paragraph = tokenize_by_paragraph(text_tokenize_sentence.Text, 3)\n",
    "for v in text_by_paragraph:\n",
    "    print(v + \"\\n\")"
   ]
  },
  {
   "cell_type": "code",
   "execution_count": 157,
   "id": "844a3bbd",
   "metadata": {},
   "outputs": [
    {
     "name": "stdout",
     "output_type": "stream",
     "text": [
      "https://en\n",
      "\n",
      "wikipedia\n",
      "\n",
      "org/wiki/Elon_Musk\n",
      "\n",
      "Elon Reeve Musk FRS (/?i?l?n/ EE-lon; born June 28, 1971) is a business magnate, investor and philanthropist\n",
      "\n",
      " He is the founder, CEO and Chief Engineer at SpaceX; angel investor, CEO and Product Architect of Tesla, Inc\n",
      "\n",
      "; founder of The Boring Company; and co-founder of Neuralink and OpenAI\n",
      "\n",
      " With an estimated net worth of around US$265 billion as of May 2022,[4] Musk is the wealthiest person in the world according to both the Bloomberg Billionaires Index and the Forbes real-time billionaires list\n",
      "\n",
      "[5][6]\n",
      "\n",
      "Musk was born to a Canadian mother and White South African father, and raised in Pretoria, South Africa\n",
      "\n",
      " He briefly attended the University of Pretoria before moving to Canada at age 17\n",
      "\n",
      " He matriculated at Queen's University and transferred to the University of Pennsylvania two years later, where he received a bachelor's degree in Economics and Physics\n",
      "\n",
      " He moved to California in 1995 to attend Stanford University but decided instead to pursue a business career, co-founding the web software company Zip2 with his brother Kimbal\n",
      "\n",
      " The startup was acquired by Compaq for $307 million in 1999\n",
      "\n",
      " The same year, Musk co-founded online bank X\n",
      "\n",
      "com, which merged with Confinity in 2000 to form PayPal\n",
      "\n",
      " The company was bought by eBay in 2002 for $1\n",
      "\n",
      "5 billion\n",
      "\n",
      "\n",
      "\n",
      "In 2002, Musk founded SpaceX, an aerospace manufacturer and space transport services company, of which he serves as CEO and Chief Engineer\n",
      "\n",
      " In 2004, he joined electric vehicle manufacturer Tesla Motors, Inc\n",
      "\n",
      " (now Tesla, Inc\n",
      "\n",
      ") as chairman and product architect, eventually assuming the position of CEO in 2008\n",
      "\n",
      " In 2006, he helped create SolarCity, a solar energy company that was later acquired by Tesla and became Tesla Energy\n",
      "\n",
      " In 2015, he co-founded OpenAI, a nonprofit research company that promotes friendly artificial intelligence (AI)\n",
      "\n",
      " In 2016, he co-founded Neuralink, a neurotechnology company focused on developing brain�computer interfaces, and founded The Boring Company, a tunnel construction company\n",
      "\n",
      " He also agreed to purchase the major American social networking service Twitter in 2022 for $44 billion\n",
      "\n",
      " Musk has proposed the Hyperloop, a high-speed vactrain transportation system\n",
      "\n",
      " He is the president of the Musk Foundation, an organization which donates to scientific research and education\n",
      "\n",
      "\n",
      "\n",
      "Musk has been criticized for making unscientific and controversial statements, such as spreading misinformation about the COVID-19 pandemic\n",
      "\n",
      " In 2018, he was sued by the US Securities and Exchange Commission (SEC) for falsely tweeting that he had secured funding for a private takeover of Tesla; he settled with the SEC but did not admit guilt, and temporarily stepped down from his Tesla chairmanship\n",
      "\n",
      " In 2019, he won a defamation case brought against him by a British caver who had advised in the Tham Luang cave rescue\n",
      "\n",
      "\n",
      "\n"
     ]
    }
   ],
   "source": [
    "for s in text_tokenize_sentence.Text:\n",
    "    for v in s:\n",
    "        print(v + \"\\n\")"
   ]
  },
  {
   "cell_type": "code",
   "execution_count": null,
   "id": "bd130563",
   "metadata": {},
   "outputs": [],
   "source": []
  }
 ],
 "metadata": {
  "kernelspec": {
   "display_name": "Python 3",
   "language": "python",
   "name": "python3"
  },
  "language_info": {
   "codemirror_mode": {
    "name": "ipython",
    "version": 3
   },
   "file_extension": ".py",
   "mimetype": "text/x-python",
   "name": "python",
   "nbconvert_exporter": "python",
   "pygments_lexer": "ipython3",
   "version": "3.8.8"
  }
 },
 "nbformat": 4,
 "nbformat_minor": 5
}
