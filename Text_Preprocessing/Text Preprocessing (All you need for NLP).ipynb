{
 "cells": [
  {
   "cell_type": "markdown",
   "id": "81ae31ef",
   "metadata": {},
   "source": [
    "# Query Data from Wikipedia as an example.\n",
    "- I'll go ahead and just get the wikipedia page for Elon Musk since there is plenty of content here.\n",
    "- Data in this context is the text.\n",
    "\n",
    "## Note: Should these steps be automatically applied to your NLP problem? No!\n",
    "- These are just tools at your disposal that will make your job so much easier.\n",
    "- There are instances where stripping down information will actually be detrimental.\n",
    "\n",
    "---\n",
    "### The steps that I will be going through:\n",
    "- Removing punctuations like . , ! $( ) * % @\n",
    "- Removing URLs\n",
    "- Removing Stop words\n",
    "- Lower casing\n",
    "- Tokenization, by Sentence, by Paragraph\n",
    "- Stemming\n",
    "- Lemmatization\n",
    "\n",
    "### Note: This notebook is not focused on the SpaCy or NLTK libraries. (only stemming or lemmatization)\n",
    "\n",
    "__Also__, remember that these are general steps to follow in your NLP preprocessing! If you utilize an existing framework, do pay attention to its pipeline since there may already be preprocessing built into the model. Furthermore, you do not necessarily need to run each and every one of these preprocessing steps. There is the issue of removing **too much** information."
   ]
  },
  {
   "cell_type": "markdown",
   "id": "26e80f6d",
   "metadata": {},
   "source": [
    "# Getting the Data\n",
    "- Extracted from wikipedia\n",
    "- If you want, you can check it out [here](https://en.wikipedia.org/wiki/Elon_Musk) I just got the first section and pasted the content to a CSV"
   ]
  },
  {
   "cell_type": "code",
   "execution_count": 1,
   "id": "4023c81d",
   "metadata": {},
   "outputs": [],
   "source": [
    "import pandas as pd"
   ]
  },
  {
   "cell_type": "code",
   "execution_count": 2,
   "id": "39e55f93",
   "metadata": {
    "scrolled": true
   },
   "outputs": [
    {
     "data": {
      "text/html": [
       "<div>\n",
       "<style scoped>\n",
       "    .dataframe tbody tr th:only-of-type {\n",
       "        vertical-align: middle;\n",
       "    }\n",
       "\n",
       "    .dataframe tbody tr th {\n",
       "        vertical-align: top;\n",
       "    }\n",
       "\n",
       "    .dataframe thead th {\n",
       "        text-align: right;\n",
       "    }\n",
       "</style>\n",
       "<table border=\"1\" class=\"dataframe\">\n",
       "  <thead>\n",
       "    <tr style=\"text-align: right;\">\n",
       "      <th></th>\n",
       "      <th>Text</th>\n",
       "    </tr>\n",
       "  </thead>\n",
       "  <tbody>\n",
       "    <tr>\n",
       "      <th>0</th>\n",
       "      <td>https://en.wikipedia.org/wiki/Elon_Musk</td>\n",
       "    </tr>\n",
       "    <tr>\n",
       "      <th>1</th>\n",
       "      <td>Elon Reeve Musk FRS (/?i?l?n/ EE-lon; born Jun...</td>\n",
       "    </tr>\n",
       "    <tr>\n",
       "      <th>2</th>\n",
       "      <td>Musk was born to a Canadian mother and White S...</td>\n",
       "    </tr>\n",
       "    <tr>\n",
       "      <th>3</th>\n",
       "      <td>In 2002, Musk founded SpaceX, an aerospace man...</td>\n",
       "    </tr>\n",
       "    <tr>\n",
       "      <th>4</th>\n",
       "      <td>Musk has been criticized for making unscientif...</td>\n",
       "    </tr>\n",
       "  </tbody>\n",
       "</table>\n",
       "</div>"
      ],
      "text/plain": [
       "                                                Text\n",
       "0            https://en.wikipedia.org/wiki/Elon_Musk\n",
       "1  Elon Reeve Musk FRS (/?i?l?n/ EE-lon; born Jun...\n",
       "2  Musk was born to a Canadian mother and White S...\n",
       "3  In 2002, Musk founded SpaceX, an aerospace man...\n",
       "4  Musk has been criticized for making unscientif..."
      ]
     },
     "execution_count": 2,
     "metadata": {},
     "output_type": "execute_result"
    }
   ],
   "source": [
    "text = pd.read_csv('elon_musk.csv')\n",
    "text.head()"
   ]
  },
  {
   "cell_type": "code",
   "execution_count": 3,
   "id": "bbfcf7c1",
   "metadata": {},
   "outputs": [
    {
     "name": "stdout",
     "output_type": "stream",
     "text": [
      "<class 'pandas.core.frame.DataFrame'>\n",
      "RangeIndex: 5 entries, 0 to 4\n",
      "Data columns (total 1 columns):\n",
      " #   Column  Non-Null Count  Dtype \n",
      "---  ------  --------------  ----- \n",
      " 0   Text    5 non-null      object\n",
      "dtypes: object(1)\n",
      "memory usage: 168.0+ bytes\n"
     ]
    }
   ],
   "source": [
    "text.info() # Objects in Python Dataframes are strings!"
   ]
  },
  {
   "cell_type": "code",
   "execution_count": 4,
   "id": "0869c89d",
   "metadata": {},
   "outputs": [
    {
     "name": "stdout",
     "output_type": "stream",
     "text": [
      "https://en.wikipedia.org/wiki/Elon_Musk\n",
      "\n",
      "Elon Reeve Musk FRS (/?i?l?n/ EE-lon; born June 28, 1971) is a business magnate, investor and philanthropist. He is the founder, CEO and Chief Engineer at SpaceX; angel investor, CEO and Product Architect of Tesla, Inc.; founder of The Boring Company; and co-founder of Neuralink and OpenAI. With an estimated net worth of around US$265 billion as of May 2022,[4] Musk is the wealthiest person in the world according to both the Bloomberg Billionaires Index and the Forbes real-time billionaires list.[5][6]\n",
      "\n",
      "Musk was born to a Canadian mother and White South African father, and raised in Pretoria, South Africa. He briefly attended the University of Pretoria before moving to Canada at age 17. He matriculated at Queen's University and transferred to the University of Pennsylvania two years later, where he received a bachelor's degree in Economics and Physics. He moved to California in 1995 to attend Stanford University but decided instead to pursue a business career, co-founding the web software company Zip2 with his brother Kimbal. The startup was acquired by Compaq for $307 million in 1999. The same year, Musk co-founded online bank X.com, which merged with Confinity in 2000 to form PayPal. The company was bought by eBay in 2002 for $1.5 billion.\n",
      "\n",
      "In 2002, Musk founded SpaceX, an aerospace manufacturer and space transport services company, of which he serves as CEO and Chief Engineer. In 2004, he joined electric vehicle manufacturer Tesla Motors, Inc. (now Tesla, Inc.) as chairman and product architect, eventually assuming the position of CEO in 2008. In 2006, he helped create SolarCity, a solar energy company that was later acquired by Tesla and became Tesla Energy. In 2015, he co-founded OpenAI, a nonprofit research company that promotes friendly artificial intelligence (AI). In 2016, he co-founded Neuralink, a neurotechnology company focused on developing brain�computer interfaces, and founded The Boring Company, a tunnel construction company. He also agreed to purchase the major American social networking service Twitter in 2022 for $44 billion. Musk has proposed the Hyperloop, a high-speed vactrain transportation system. He is the president of the Musk Foundation, an organization which donates to scientific research and education.\n",
      "\n",
      "Musk has been criticized for making unscientific and controversial statements, such as spreading misinformation about the COVID-19 pandemic. In 2018, he was sued by the US Securities and Exchange Commission (SEC) for falsely tweeting that he had secured funding for a private takeover of Tesla; he settled with the SEC but did not admit guilt, and temporarily stepped down from his Tesla chairmanship. In 2019, he won a defamation case brought against him by a British caver who had advised in the Tham Luang cave rescue.\n",
      "\n"
     ]
    }
   ],
   "source": [
    "'''Each record is separated by \\n'''\n",
    "# This is what the data looks like.\n",
    "for record in text.Text:\n",
    "    print(record + \"\\n\")"
   ]
  },
  {
   "cell_type": "markdown",
   "id": "82121f25",
   "metadata": {},
   "source": [
    "# Removing Punctuation: function to remove all punctuation.\n",
    "### Why remove punctuation?\n",
    "- This can reduce complexity of total number of words considered.\n",
    "- Most importantly, punctuation typically does NOT hold any vital information and thus should be removed.\n",
    "    - However, do be careful if you are utilizing transfer learning on Large language models since the preprocess step can be dependent on punctuation.\n",
    "- A very nice regex calculator can be found [here](https://regex101.com/)\n",
    "- I did a RegEx video [which can be found here](https://www.youtube.com/watch?v=cLoH112nqGc)\n",
    "\n",
    "Regular Expression to find __all__ punctuation: __[^\\w\\s]+__\n",
    "- '+' matches the previous token between one and unlimited times, as many times as possible, giving back as needed (greedy)\n",
    "- \\w matches any word character (equivalent to __[a-zA-Z0-9_]__)\n",
    "- \\s matches any whitespace character (equivalent to __[\\r\\n\\t\\f\\v ]__)"
   ]
  },
  {
   "cell_type": "code",
   "execution_count": 5,
   "id": "e3678ba5",
   "metadata": {},
   "outputs": [
    {
     "name": "stdout",
     "output_type": "stream",
     "text": [
      "PUNCTUATION REMOVED: httpsenwikipediaorgwikiElon_Musk\n",
      "\n",
      "ORIGINAL: https://en.wikipedia.org/wiki/Elon_Musk\n",
      "\n",
      "-----\n",
      "PUNCTUATION REMOVED: Elon Reeve Musk FRS iln EElon born June 28 1971 is a business magnate investor and philanthropist He is the founder CEO and Chief Engineer at SpaceX angel investor CEO and Product Architect of Tesla Inc founder of The Boring Company and cofounder of Neuralink and OpenAI With an estimated net worth of around US265 billion as of May 20224 Musk is the wealthiest person in the world according to both the Bloomberg Billionaires Index and the Forbes realtime billionaires list56\n",
      "\n",
      "ORIGINAL: Elon Reeve Musk FRS (/?i?l?n/ EE-lon; born June 28, 1971) is a business magnate, investor and philanthropist. He is the founder, CEO and Chief Engineer at SpaceX; angel investor, CEO and Product Architect of Tesla, Inc.; founder of The Boring Company; and co-founder of Neuralink and OpenAI. With an estimated net worth of around US$265 billion as of May 2022,[4] Musk is the wealthiest person in the world according to both the Bloomberg Billionaires Index and the Forbes real-time billionaires list.[5][6]\n",
      "\n",
      "-----\n",
      "PUNCTUATION REMOVED: Musk was born to a Canadian mother and White South African father and raised in Pretoria South Africa He briefly attended the University of Pretoria before moving to Canada at age 17 He matriculated at Queens University and transferred to the University of Pennsylvania two years later where he received a bachelors degree in Economics and Physics He moved to California in 1995 to attend Stanford University but decided instead to pursue a business career cofounding the web software company Zip2 with his brother Kimbal The startup was acquired by Compaq for 307 million in 1999 The same year Musk cofounded online bank Xcom which merged with Confinity in 2000 to form PayPal The company was bought by eBay in 2002 for 15 billion\n",
      "\n",
      "ORIGINAL: Musk was born to a Canadian mother and White South African father, and raised in Pretoria, South Africa. He briefly attended the University of Pretoria before moving to Canada at age 17. He matriculated at Queen's University and transferred to the University of Pennsylvania two years later, where he received a bachelor's degree in Economics and Physics. He moved to California in 1995 to attend Stanford University but decided instead to pursue a business career, co-founding the web software company Zip2 with his brother Kimbal. The startup was acquired by Compaq for $307 million in 1999. The same year, Musk co-founded online bank X.com, which merged with Confinity in 2000 to form PayPal. The company was bought by eBay in 2002 for $1.5 billion.\n",
      "\n",
      "-----\n",
      "PUNCTUATION REMOVED: In 2002 Musk founded SpaceX an aerospace manufacturer and space transport services company of which he serves as CEO and Chief Engineer In 2004 he joined electric vehicle manufacturer Tesla Motors Inc now Tesla Inc as chairman and product architect eventually assuming the position of CEO in 2008 In 2006 he helped create SolarCity a solar energy company that was later acquired by Tesla and became Tesla Energy In 2015 he cofounded OpenAI a nonprofit research company that promotes friendly artificial intelligence AI In 2016 he cofounded Neuralink a neurotechnology company focused on developing braincomputer interfaces and founded The Boring Company a tunnel construction company He also agreed to purchase the major American social networking service Twitter in 2022 for 44 billion Musk has proposed the Hyperloop a highspeed vactrain transportation system He is the president of the Musk Foundation an organization which donates to scientific research and education\n",
      "\n",
      "ORIGINAL: In 2002, Musk founded SpaceX, an aerospace manufacturer and space transport services company, of which he serves as CEO and Chief Engineer. In 2004, he joined electric vehicle manufacturer Tesla Motors, Inc. (now Tesla, Inc.) as chairman and product architect, eventually assuming the position of CEO in 2008. In 2006, he helped create SolarCity, a solar energy company that was later acquired by Tesla and became Tesla Energy. In 2015, he co-founded OpenAI, a nonprofit research company that promotes friendly artificial intelligence (AI). In 2016, he co-founded Neuralink, a neurotechnology company focused on developing brain�computer interfaces, and founded The Boring Company, a tunnel construction company. He also agreed to purchase the major American social networking service Twitter in 2022 for $44 billion. Musk has proposed the Hyperloop, a high-speed vactrain transportation system. He is the president of the Musk Foundation, an organization which donates to scientific research and education.\n",
      "\n",
      "-----\n",
      "PUNCTUATION REMOVED: Musk has been criticized for making unscientific and controversial statements such as spreading misinformation about the COVID19 pandemic In 2018 he was sued by the US Securities and Exchange Commission SEC for falsely tweeting that he had secured funding for a private takeover of Tesla he settled with the SEC but did not admit guilt and temporarily stepped down from his Tesla chairmanship In 2019 he won a defamation case brought against him by a British caver who had advised in the Tham Luang cave rescue\n",
      "\n",
      "ORIGINAL: Musk has been criticized for making unscientific and controversial statements, such as spreading misinformation about the COVID-19 pandemic. In 2018, he was sued by the US Securities and Exchange Commission (SEC) for falsely tweeting that he had secured funding for a private takeover of Tesla; he settled with the SEC but did not admit guilt, and temporarily stepped down from his Tesla chairmanship. In 2019, he won a defamation case brought against him by a British caver who had advised in the Tham Luang cave rescue.\n",
      "\n",
      "-----\n"
     ]
    },
    {
     "name": "stderr",
     "output_type": "stream",
     "text": [
      "<ipython-input-5-8a4fbde22dba>:2: FutureWarning: The default value of regex will change from True to False in a future version.\n",
      "  return text.str.replace(r'[^\\w\\s]+', '') # r'' indicates to treat as a raw string\n"
     ]
    }
   ],
   "source": [
    "def remove_punctuation(text: str) -> str:\n",
    "    return text.str.replace(r'[^\\w\\s]+', '') # r'' indicates to treat as a raw string\n",
    "    \n",
    "no_punctuation = text.apply(remove_punctuation) # example how to run function on dataframe\n",
    "for c, n in enumerate(no_punctuation.Text):\n",
    "    print(\"PUNCTUATION REMOVED:\", n + \"\\n\")\n",
    "    print(\"ORIGINAL:\", text.Text[c] + \"\\n\")\n",
    "    print(\"-----\")"
   ]
  },
  {
   "cell_type": "markdown",
   "id": "5a103ad9",
   "metadata": {},
   "source": [
    "# Removing URLs\n",
    "- URLs do not give any information when we try to analyze text from words\n",
    "- However, there are cases when maybe having URL's are still useful especially if you want to have a graph-oriented databse. (Neo4j for example)"
   ]
  },
  {
   "cell_type": "code",
   "execution_count": 6,
   "id": "0b16514e",
   "metadata": {},
   "outputs": [
    {
     "name": "stdout",
     "output_type": "stream",
     "text": [
      "URL REMOVED: \n",
      "\n",
      "ORIGINAL: https://en.wikipedia.org/wiki/Elon_Musk\n",
      "\n",
      "-----\n",
      "URL REMOVED: Elon Reeve Musk FRS (/?i?l?n/ EE-lon; born June 28, 1971) is a business magnate, investor and philanthropist. He is the founder, CEO and Chief Engineer at SpaceX; angel investor, CEO and Product Architect of Tesla, Inc.; founder of The Boring Company; and co-founder of Neuralink and OpenAI. With an estimated net worth of around US$265 billion as of May 2022,[4] Musk is the wealthiest person in the world according to both the Bloomberg Billionaires Index and the Forbes real-time billionaires list.[5][6]\n",
      "\n",
      "ORIGINAL: Elon Reeve Musk FRS (/?i?l?n/ EE-lon; born June 28, 1971) is a business magnate, investor and philanthropist. He is the founder, CEO and Chief Engineer at SpaceX; angel investor, CEO and Product Architect of Tesla, Inc.; founder of The Boring Company; and co-founder of Neuralink and OpenAI. With an estimated net worth of around US$265 billion as of May 2022,[4] Musk is the wealthiest person in the world according to both the Bloomberg Billionaires Index and the Forbes real-time billionaires list.[5][6]\n",
      "\n",
      "-----\n",
      "URL REMOVED: Musk was born to a Canadian mother and White South African father, and raised in Pretoria, South Africa. He briefly attended the University of Pretoria before moving to Canada at age 17. He matriculated at Queen's University and transferred to the University of Pennsylvania two years later, where he received a bachelor's degree in Economics and Physics. He moved to California in 1995 to attend Stanford University but decided instead to pursue a business career, co-founding the web software company Zip2 with his brother Kimbal. The startup was acquired by Compaq for $307 million in 1999. The same year, Musk co-founded online bank X.com, which merged with Confinity in 2000 to form PayPal. The company was bought by eBay in 2002 for $1.5 billion.\n",
      "\n",
      "ORIGINAL: Musk was born to a Canadian mother and White South African father, and raised in Pretoria, South Africa. He briefly attended the University of Pretoria before moving to Canada at age 17. He matriculated at Queen's University and transferred to the University of Pennsylvania two years later, where he received a bachelor's degree in Economics and Physics. He moved to California in 1995 to attend Stanford University but decided instead to pursue a business career, co-founding the web software company Zip2 with his brother Kimbal. The startup was acquired by Compaq for $307 million in 1999. The same year, Musk co-founded online bank X.com, which merged with Confinity in 2000 to form PayPal. The company was bought by eBay in 2002 for $1.5 billion.\n",
      "\n",
      "-----\n",
      "URL REMOVED: In 2002, Musk founded SpaceX, an aerospace manufacturer and space transport services company, of which he serves as CEO and Chief Engineer. In 2004, he joined electric vehicle manufacturer Tesla Motors, Inc. (now Tesla, Inc.) as chairman and product architect, eventually assuming the position of CEO in 2008. In 2006, he helped create SolarCity, a solar energy company that was later acquired by Tesla and became Tesla Energy. In 2015, he co-founded OpenAI, a nonprofit research company that promotes friendly artificial intelligence (AI). In 2016, he co-founded Neuralink, a neurotechnology company focused on developing brain�computer interfaces, and founded The Boring Company, a tunnel construction company. He also agreed to purchase the major American social networking service Twitter in 2022 for $44 billion. Musk has proposed the Hyperloop, a high-speed vactrain transportation system. He is the president of the Musk Foundation, an organization which donates to scientific research and education.\n",
      "\n",
      "ORIGINAL: In 2002, Musk founded SpaceX, an aerospace manufacturer and space transport services company, of which he serves as CEO and Chief Engineer. In 2004, he joined electric vehicle manufacturer Tesla Motors, Inc. (now Tesla, Inc.) as chairman and product architect, eventually assuming the position of CEO in 2008. In 2006, he helped create SolarCity, a solar energy company that was later acquired by Tesla and became Tesla Energy. In 2015, he co-founded OpenAI, a nonprofit research company that promotes friendly artificial intelligence (AI). In 2016, he co-founded Neuralink, a neurotechnology company focused on developing brain�computer interfaces, and founded The Boring Company, a tunnel construction company. He also agreed to purchase the major American social networking service Twitter in 2022 for $44 billion. Musk has proposed the Hyperloop, a high-speed vactrain transportation system. He is the president of the Musk Foundation, an organization which donates to scientific research and education.\n",
      "\n",
      "-----\n",
      "URL REMOVED: Musk has been criticized for making unscientific and controversial statements, such as spreading misinformation about the COVID-19 pandemic. In 2018, he was sued by the US Securities and Exchange Commission (SEC) for falsely tweeting that he had secured funding for a private takeover of Tesla; he settled with the SEC but did not admit guilt, and temporarily stepped down from his Tesla chairmanship. In 2019, he won a defamation case brought against him by a British caver who had advised in the Tham Luang cave rescue.\n",
      "\n",
      "ORIGINAL: Musk has been criticized for making unscientific and controversial statements, such as spreading misinformation about the COVID-19 pandemic. In 2018, he was sued by the US Securities and Exchange Commission (SEC) for falsely tweeting that he had secured funding for a private takeover of Tesla; he settled with the SEC but did not admit guilt, and temporarily stepped down from his Tesla chairmanship. In 2019, he won a defamation case brought against him by a British caver who had advised in the Tham Luang cave rescue.\n",
      "\n",
      "-----\n"
     ]
    },
    {
     "name": "stderr",
     "output_type": "stream",
     "text": [
      "<ipython-input-6-12bd1c536ab9>:2: FutureWarning: The default value of regex will change from True to False in a future version.\n",
      "  return text.str.replace(r'http\\S+|www.\\S+', '')\n"
     ]
    }
   ],
   "source": [
    "def remove_url(text: str) -> str:\n",
    "    return text.str.replace(r'http\\S+|www.\\S+', '')\n",
    "\n",
    "no_url = text.apply(remove_url)\n",
    "for c, n in enumerate(no_url.Text):\n",
    "    print(\"URL REMOVED:\", n + \"\\n\") # Notice how the URL in the first record disappeared!\n",
    "    print(\"ORIGINAL:\", text.Text[c] + \"\\n\")\n",
    "    print(\"-----\")"
   ]
  },
  {
   "cell_type": "markdown",
   "id": "c9b3daea",
   "metadata": {},
   "source": [
    "# Remove Stop Words!\n",
    "- Why? Again, stopwords add little to no value to the meaning of the sentence!\n",
    "- __stop words__ are commonly used words in language. A group of words that do not add any additional information such as articles, determiners and prepositions are associated with stopwords.\n",
    "- The list of stop words vary from package to package, but as long as you are familiar with which type of words are used, feel free to use those packages!"
   ]
  },
  {
   "cell_type": "code",
   "execution_count": 7,
   "id": "431d45f5",
   "metadata": {},
   "outputs": [
    {
     "name": "stdout",
     "output_type": "stream",
     "text": [
      "a\n",
      "about\n",
      "above\n",
      "after\n",
      "again\n",
      "against\n",
      "all\n",
      "am\n",
      "an\n",
      "and\n",
      "any\n",
      "are\n",
      "aren't\n",
      "as\n",
      "at\n",
      "be\n",
      "because\n",
      "been\n",
      "before\n",
      "being\n",
      "below\n",
      "between\n",
      "both\n",
      "but\n",
      "by\n",
      "can't\n",
      "cannot\n",
      "could\n",
      "couldn't\n",
      "did\n",
      "didn't\n",
      "do\n",
      "does\n",
      "doesn't\n",
      "doing\n",
      "don't\n",
      "down\n",
      "during\n",
      "each\n",
      "few\n",
      "for\n",
      "from\n",
      "further\n",
      "had\n",
      "hadn't\n",
      "has\n",
      "hasn't\n",
      "have\n",
      "haven't\n",
      "having\n",
      "he\n",
      "he'd\n",
      "he'll\n",
      "he's\n",
      "her\n",
      "here\n",
      "here's\n",
      "hers\n",
      "herself\n",
      "him\n",
      "himself\n",
      "his\n",
      "how\n",
      "how's\n",
      "i\n",
      "i'd\n",
      "i'll\n",
      "i'm\n",
      "i've\n",
      "if\n",
      "in\n",
      "into\n",
      "is\n",
      "isn't\n",
      "it\n",
      "it's\n",
      "its\n",
      "itself\n",
      "let's\n",
      "me\n",
      "more\n",
      "most\n",
      "mustn't\n",
      "my\n",
      "myself\n",
      "no\n",
      "nor\n",
      "not\n",
      "of\n",
      "off\n",
      "on\n",
      "once\n",
      "only\n",
      "or\n",
      "other\n",
      "ought\n",
      "our\n",
      "ours\tourselves\n",
      "out\n",
      "over\n",
      "own\n",
      "same\n",
      "shan't\n",
      "she\n",
      "she'd\n",
      "she'll\n",
      "she's\n",
      "should\n",
      "shouldn't\n",
      "so\n",
      "some\n",
      "such\n",
      "than\n",
      "that\n",
      "that's\n",
      "the\n",
      "their\n",
      "theirs\n",
      "them\n",
      "themselves\n",
      "then\n",
      "there\n",
      "there's\n",
      "these\n",
      "they\n",
      "they'd\n",
      "they'll\n",
      "they're\n",
      "they've\n",
      "this\n",
      "those\n",
      "through\n",
      "to\n",
      "too\n",
      "under\n",
      "until\n",
      "up\n",
      "very\n",
      "was\n",
      "wasn't\n",
      "we\n",
      "we'd\n",
      "we'll\n",
      "we're\n",
      "we've\n",
      "were\n",
      "weren't\n",
      "what\n",
      "what's\n",
      "when\n",
      "when's\n",
      "where\n",
      "where's\n",
      "which\n",
      "while\n",
      "who\n",
      "who's\n",
      "whom\n",
      "why\n",
      "why's\n",
      "with\n",
      "won't\n",
      "would\n",
      "wouldn't\n",
      "you\n",
      "you'd\n",
      "you'll\n",
      "you're\n",
      "you've\n",
      "your\n",
      "yours\n",
      "yourself\n",
      "yourselves\n"
     ]
    }
   ],
   "source": [
    "# Copied and pasted from: https://www.ranks.nl/stopwords\n",
    "stop_words = pd.read_csv(\"common_stopwords.txt\")\n",
    "\n",
    "for word in stop_words.STOP_WORDS:\n",
    "    print(word)"
   ]
  },
  {
   "cell_type": "code",
   "execution_count": 8,
   "id": "94077fe6",
   "metadata": {},
   "outputs": [
    {
     "data": {
      "text/plain": [
       "173"
      ]
     },
     "execution_count": 8,
     "metadata": {},
     "output_type": "execute_result"
    }
   ],
   "source": [
    "len(stop_words)"
   ]
  },
  {
   "cell_type": "code",
   "execution_count": 9,
   "id": "d43a77c5",
   "metadata": {},
   "outputs": [
    {
     "name": "stdout",
     "output_type": "stream",
     "text": [
      "NO STOP WORDS: https://en.wikipedia.org/wiki/Elon_Musk\n",
      "\n",
      "ORIGINAL: https://en.wikipedia.org/wiki/Elon_Musk\n",
      "\n",
      "-----\n",
      "NO STOP WORDS: Elon Reeve Musk FRS (/?i?l?n/ EE-lon; born June 28, 1971) is a business magnate, investor and philanthropist. He is the founder, CEO and Chief Engineer at SpaceX; angel investor, CEO and Product Architect of Tesla, Inc.; founder of The Boring Company; and co-founder of Neuralink and OpenAI. With an estimated net worth of around US$265 billion as of May 2022,[4] Musk is the wealthiest person in the world according to both the Bloomberg Billionaires Index and the Forbes real-time billionaires list.[5][6]\n",
      "\n",
      "ORIGINAL: Elon Reeve Musk FRS (/?i?l?n/ EE-lon; born June 28, 1971) is a business magnate, investor and philanthropist. He is the founder, CEO and Chief Engineer at SpaceX; angel investor, CEO and Product Architect of Tesla, Inc.; founder of The Boring Company; and co-founder of Neuralink and OpenAI. With an estimated net worth of around US$265 billion as of May 2022,[4] Musk is the wealthiest person in the world according to both the Bloomberg Billionaires Index and the Forbes real-time billionaires list.[5][6]\n",
      "\n",
      "-----\n",
      "NO STOP WORDS: Musk was born to a Canadian mother and White South African father, and raised in Pretoria, South Africa. He briefly attended the University of Pretoria before moving to Canada at age 17. He matriculated at Queen's University and transferred to the University of Pennsylvania two years later, where he received a bachelor's degree in Economics and Physics. He moved to California in 1995 to attend Stanford University but decided instead to pursue a business career, co-founding the web software company Zip2 with his brother Kimbal. The startup was acquired by Compaq for $307 million in 1999. The same year, Musk co-founded online bank X.com, which merged with Confinity in 2000 to form PayPal. The company was bought by eBay in 2002 for $1.5 billion.\n",
      "\n",
      "ORIGINAL: Musk was born to a Canadian mother and White South African father, and raised in Pretoria, South Africa. He briefly attended the University of Pretoria before moving to Canada at age 17. He matriculated at Queen's University and transferred to the University of Pennsylvania two years later, where he received a bachelor's degree in Economics and Physics. He moved to California in 1995 to attend Stanford University but decided instead to pursue a business career, co-founding the web software company Zip2 with his brother Kimbal. The startup was acquired by Compaq for $307 million in 1999. The same year, Musk co-founded online bank X.com, which merged with Confinity in 2000 to form PayPal. The company was bought by eBay in 2002 for $1.5 billion.\n",
      "\n",
      "-----\n",
      "NO STOP WORDS: In 2002, Musk founded SpaceX, an aerospace manufacturer and space transport services company, of which he serves as CEO and Chief Engineer. In 2004, he joined electric vehicle manufacturer Tesla Motors, Inc. (now Tesla, Inc.) as chairman and product architect, eventually assuming the position of CEO in 2008. In 2006, he helped create SolarCity, a solar energy company that was later acquired by Tesla and became Tesla Energy. In 2015, he co-founded OpenAI, a nonprofit research company that promotes friendly artificial intelligence (AI). In 2016, he co-founded Neuralink, a neurotechnology company focused on developing brain�computer interfaces, and founded The Boring Company, a tunnel construction company. He also agreed to purchase the major American social networking service Twitter in 2022 for $44 billion. Musk has proposed the Hyperloop, a high-speed vactrain transportation system. He is the president of the Musk Foundation, an organization which donates to scientific research and education.\n",
      "\n",
      "ORIGINAL: In 2002, Musk founded SpaceX, an aerospace manufacturer and space transport services company, of which he serves as CEO and Chief Engineer. In 2004, he joined electric vehicle manufacturer Tesla Motors, Inc. (now Tesla, Inc.) as chairman and product architect, eventually assuming the position of CEO in 2008. In 2006, he helped create SolarCity, a solar energy company that was later acquired by Tesla and became Tesla Energy. In 2015, he co-founded OpenAI, a nonprofit research company that promotes friendly artificial intelligence (AI). In 2016, he co-founded Neuralink, a neurotechnology company focused on developing brain�computer interfaces, and founded The Boring Company, a tunnel construction company. He also agreed to purchase the major American social networking service Twitter in 2022 for $44 billion. Musk has proposed the Hyperloop, a high-speed vactrain transportation system. He is the president of the Musk Foundation, an organization which donates to scientific research and education.\n",
      "\n",
      "-----\n",
      "NO STOP WORDS: Musk has been criticized for making unscientific and controversial statements, such as spreading misinformation about the COVID-19 pandemic. In 2018, he was sued by the US Securities and Exchange Commission (SEC) for falsely tweeting that he had secured funding for a private takeover of Tesla; he settled with the SEC but did not admit guilt, and temporarily stepped down from his Tesla chairmanship. In 2019, he won a defamation case brought against him by a British caver who had advised in the Tham Luang cave rescue.\n",
      "\n",
      "ORIGINAL: Musk has been criticized for making unscientific and controversial statements, such as spreading misinformation about the COVID-19 pandemic. In 2018, he was sued by the US Securities and Exchange Commission (SEC) for falsely tweeting that he had secured funding for a private takeover of Tesla; he settled with the SEC but did not admit guilt, and temporarily stepped down from his Tesla chairmanship. In 2019, he won a defamation case brought against him by a British caver who had advised in the Tham Luang cave rescue.\n",
      "\n",
      "-----\n"
     ]
    }
   ],
   "source": [
    "# Let's remove these stop words from our dataframe.\n",
    "text_with_no_stop_words = text.apply(lambda x: [item for item in x if item not in stop_words])\n",
    "for c, twnsw in enumerate(text_with_no_stop_words.Text):\n",
    "    print(\"NO STOP WORDS:\", twnsw + \"\\n\")\n",
    "    print(\"ORIGINAL:\", text.Text[c] + \"\\n\")\n",
    "    print(\"-----\")"
   ]
  },
  {
   "cell_type": "markdown",
   "id": "45e79e31",
   "metadata": {},
   "source": [
    "# Lowercase your text!\n",
    "- We want to lowercase our text in order to improve our general accuracy. Many language models will ultimatiely treat capital letters differently. \n",
    "    - Different for very large language models\n",
    "    - Language dependent (but for english, consider lowercasing your corpus)"
   ]
  },
  {
   "cell_type": "code",
   "execution_count": 10,
   "id": "6edf133e",
   "metadata": {},
   "outputs": [
    {
     "name": "stdout",
     "output_type": "stream",
     "text": [
      "LOWERCASE: https://en.wikipedia.org/wiki/elon_musk\n",
      "\n",
      "ORIGINAL: https://en.wikipedia.org/wiki/Elon_Musk\n",
      "\n",
      "-----\n",
      "LOWERCASE: elon reeve musk frs (/?i?l?n/ ee-lon; born june 28, 1971) is a business magnate, investor and philanthropist. he is the founder, ceo and chief engineer at spacex; angel investor, ceo and product architect of tesla, inc.; founder of the boring company; and co-founder of neuralink and openai. with an estimated net worth of around us$265 billion as of may 2022,[4] musk is the wealthiest person in the world according to both the bloomberg billionaires index and the forbes real-time billionaires list.[5][6]\n",
      "\n",
      "ORIGINAL: Elon Reeve Musk FRS (/?i?l?n/ EE-lon; born June 28, 1971) is a business magnate, investor and philanthropist. He is the founder, CEO and Chief Engineer at SpaceX; angel investor, CEO and Product Architect of Tesla, Inc.; founder of The Boring Company; and co-founder of Neuralink and OpenAI. With an estimated net worth of around US$265 billion as of May 2022,[4] Musk is the wealthiest person in the world according to both the Bloomberg Billionaires Index and the Forbes real-time billionaires list.[5][6]\n",
      "\n",
      "-----\n",
      "LOWERCASE: musk was born to a canadian mother and white south african father, and raised in pretoria, south africa. he briefly attended the university of pretoria before moving to canada at age 17. he matriculated at queen's university and transferred to the university of pennsylvania two years later, where he received a bachelor's degree in economics and physics. he moved to california in 1995 to attend stanford university but decided instead to pursue a business career, co-founding the web software company zip2 with his brother kimbal. the startup was acquired by compaq for $307 million in 1999. the same year, musk co-founded online bank x.com, which merged with confinity in 2000 to form paypal. the company was bought by ebay in 2002 for $1.5 billion.\n",
      "\n",
      "ORIGINAL: Musk was born to a Canadian mother and White South African father, and raised in Pretoria, South Africa. He briefly attended the University of Pretoria before moving to Canada at age 17. He matriculated at Queen's University and transferred to the University of Pennsylvania two years later, where he received a bachelor's degree in Economics and Physics. He moved to California in 1995 to attend Stanford University but decided instead to pursue a business career, co-founding the web software company Zip2 with his brother Kimbal. The startup was acquired by Compaq for $307 million in 1999. The same year, Musk co-founded online bank X.com, which merged with Confinity in 2000 to form PayPal. The company was bought by eBay in 2002 for $1.5 billion.\n",
      "\n",
      "-----\n",
      "LOWERCASE: in 2002, musk founded spacex, an aerospace manufacturer and space transport services company, of which he serves as ceo and chief engineer. in 2004, he joined electric vehicle manufacturer tesla motors, inc. (now tesla, inc.) as chairman and product architect, eventually assuming the position of ceo in 2008. in 2006, he helped create solarcity, a solar energy company that was later acquired by tesla and became tesla energy. in 2015, he co-founded openai, a nonprofit research company that promotes friendly artificial intelligence (ai). in 2016, he co-founded neuralink, a neurotechnology company focused on developing brain�computer interfaces, and founded the boring company, a tunnel construction company. he also agreed to purchase the major american social networking service twitter in 2022 for $44 billion. musk has proposed the hyperloop, a high-speed vactrain transportation system. he is the president of the musk foundation, an organization which donates to scientific research and education.\n",
      "\n",
      "ORIGINAL: In 2002, Musk founded SpaceX, an aerospace manufacturer and space transport services company, of which he serves as CEO and Chief Engineer. In 2004, he joined electric vehicle manufacturer Tesla Motors, Inc. (now Tesla, Inc.) as chairman and product architect, eventually assuming the position of CEO in 2008. In 2006, he helped create SolarCity, a solar energy company that was later acquired by Tesla and became Tesla Energy. In 2015, he co-founded OpenAI, a nonprofit research company that promotes friendly artificial intelligence (AI). In 2016, he co-founded Neuralink, a neurotechnology company focused on developing brain�computer interfaces, and founded The Boring Company, a tunnel construction company. He also agreed to purchase the major American social networking service Twitter in 2022 for $44 billion. Musk has proposed the Hyperloop, a high-speed vactrain transportation system. He is the president of the Musk Foundation, an organization which donates to scientific research and education.\n",
      "\n",
      "-----\n",
      "LOWERCASE: musk has been criticized for making unscientific and controversial statements, such as spreading misinformation about the covid-19 pandemic. in 2018, he was sued by the us securities and exchange commission (sec) for falsely tweeting that he had secured funding for a private takeover of tesla; he settled with the sec but did not admit guilt, and temporarily stepped down from his tesla chairmanship. in 2019, he won a defamation case brought against him by a british caver who had advised in the tham luang cave rescue.\n",
      "\n",
      "ORIGINAL: Musk has been criticized for making unscientific and controversial statements, such as spreading misinformation about the COVID-19 pandemic. In 2018, he was sued by the US Securities and Exchange Commission (SEC) for falsely tweeting that he had secured funding for a private takeover of Tesla; he settled with the SEC but did not admit guilt, and temporarily stepped down from his Tesla chairmanship. In 2019, he won a defamation case brought against him by a British caver who had advised in the Tham Luang cave rescue.\n",
      "\n",
      "-----\n"
     ]
    }
   ],
   "source": [
    "for c, t in enumerate(text.Text):\n",
    "    print(\"LOWERCASE:\", t.lower() + \"\\n\")\n",
    "    print(\"ORIGINAL:\", t + \"\\n\")\n",
    "    print(\"-----\")"
   ]
  },
  {
   "cell_type": "markdown",
   "id": "c972124c",
   "metadata": {},
   "source": [
    "# Tokenization\n",
    "- This is the building block for Natural Language Processing.\n",
    "- Process of breaking your corpus into single words. (A token can be a word, character(s) or a part of a word (subword or n-gram characters))\n",
    "    - What granularity should you act? It really depends.\n",
    "- This is incredibly important! You can't work with text data if you don't perform a type of tokenization on your text.\n",
    "- There are many forms of tokenization and more detail can be found [here](https://towardsdatascience.com/tokenization-for-natural-language-processing-a179a891bad4#:~:text=Tokenization%20is%20breaking%20the%20raw,the%20sequence%20of%20the%20words.)\n",
    "\n",
    "# Difficulties in Tokenization\n",
    "- The toughest part about tokenization is identifying at which boundary do you split your text.\n",
    "- Many popular NLP models use different forms of tokenization, so it would be helpful to be aware of such discrepancies\n",
    "\n",
    "## Example of Tokenization (whitespace tokenization):\n",
    "Make sure to hit that like button and subscribe!\n",
    "\n",
    "Make, sure, to, hit, that, like, button, and, subscribe!"
   ]
  },
  {
   "cell_type": "code",
   "execution_count": 11,
   "id": "9ef76309",
   "metadata": {},
   "outputs": [
    {
     "name": "stdout",
     "output_type": "stream",
     "text": [
      "['https://en.wikipedia.org/wiki/Elon_Musk']\n",
      "\n",
      "-----\n",
      "['Elon', 'Reeve', 'Musk', 'FRS', '(/?i?l?n/', 'EE-lon;', 'born', 'June', '28,', '1971)', 'is', 'a', 'business', 'magnate,', 'investor', 'and', 'philanthropist.', 'He', 'is', 'the', 'founder,', 'CEO', 'and', 'Chief', 'Engineer', 'at', 'SpaceX;', 'angel', 'investor,', 'CEO', 'and', 'Product', 'Architect', 'of', 'Tesla,', 'Inc.;', 'founder', 'of', 'The', 'Boring', 'Company;', 'and', 'co-founder', 'of', 'Neuralink', 'and', 'OpenAI.', 'With', 'an', 'estimated', 'net', 'worth', 'of', 'around', 'US$265', 'billion', 'as', 'of', 'May', '2022,[4]', 'Musk', 'is', 'the', 'wealthiest', 'person', 'in', 'the', 'world', 'according', 'to', 'both', 'the', 'Bloomberg', 'Billionaires', 'Index', 'and', 'the', 'Forbes', 'real-time', 'billionaires', 'list.[5][6]']\n",
      "\n",
      "-----\n",
      "['Musk', 'was', 'born', 'to', 'a', 'Canadian', 'mother', 'and', 'White', 'South', 'African', 'father,', 'and', 'raised', 'in', 'Pretoria,', 'South', 'Africa.', 'He', 'briefly', 'attended', 'the', 'University', 'of', 'Pretoria', 'before', 'moving', 'to', 'Canada', 'at', 'age', '17.', 'He', 'matriculated', 'at', \"Queen's\", 'University', 'and', 'transferred', 'to', 'the', 'University', 'of', 'Pennsylvania', 'two', 'years', 'later,', 'where', 'he', 'received', 'a', \"bachelor's\", 'degree', 'in', 'Economics', 'and', 'Physics.', 'He', 'moved', 'to', 'California', 'in', '1995', 'to', 'attend', 'Stanford', 'University', 'but', 'decided', 'instead', 'to', 'pursue', 'a', 'business', 'career,', 'co-founding', 'the', 'web', 'software', 'company', 'Zip2', 'with', 'his', 'brother', 'Kimbal.', 'The', 'startup', 'was', 'acquired', 'by', 'Compaq', 'for', '$307', 'million', 'in', '1999.', 'The', 'same', 'year,', 'Musk', 'co-founded', 'online', 'bank', 'X.com,', 'which', 'merged', 'with', 'Confinity', 'in', '2000', 'to', 'form', 'PayPal.', 'The', 'company', 'was', 'bought', 'by', 'eBay', 'in', '2002', 'for', '$1.5', 'billion.']\n",
      "\n",
      "-----\n",
      "['In', '2002,', 'Musk', 'founded', 'SpaceX,', 'an', 'aerospace', 'manufacturer', 'and', 'space', 'transport', 'services', 'company,', 'of', 'which', 'he', 'serves', 'as', 'CEO', 'and', 'Chief', 'Engineer.', 'In', '2004,', 'he', 'joined', 'electric', 'vehicle', 'manufacturer', 'Tesla', 'Motors,', 'Inc.', '(now', 'Tesla,', 'Inc.)', 'as', 'chairman', 'and', 'product', 'architect,', 'eventually', 'assuming', 'the', 'position', 'of', 'CEO', 'in', '2008.', 'In', '2006,', 'he', 'helped', 'create', 'SolarCity,', 'a', 'solar', 'energy', 'company', 'that', 'was', 'later', 'acquired', 'by', 'Tesla', 'and', 'became', 'Tesla', 'Energy.', 'In', '2015,', 'he', 'co-founded', 'OpenAI,', 'a', 'nonprofit', 'research', 'company', 'that', 'promotes', 'friendly', 'artificial', 'intelligence', '(AI).', 'In', '2016,', 'he', 'co-founded', 'Neuralink,', 'a', 'neurotechnology', 'company', 'focused', 'on', 'developing', 'brain�computer', 'interfaces,', 'and', 'founded', 'The', 'Boring', 'Company,', 'a', 'tunnel', 'construction', 'company.', 'He', 'also', 'agreed', 'to', 'purchase', 'the', 'major', 'American', 'social', 'networking', 'service', 'Twitter', 'in', '2022', 'for', '$44', 'billion.', 'Musk', 'has', 'proposed', 'the', 'Hyperloop,', 'a', 'high-speed', 'vactrain', 'transportation', 'system.', 'He', 'is', 'the', 'president', 'of', 'the', 'Musk', 'Foundation,', 'an', 'organization', 'which', 'donates', 'to', 'scientific', 'research', 'and', 'education.']\n",
      "\n",
      "-----\n",
      "['Musk', 'has', 'been', 'criticized', 'for', 'making', 'unscientific', 'and', 'controversial', 'statements,', 'such', 'as', 'spreading', 'misinformation', 'about', 'the', 'COVID-19', 'pandemic.', 'In', '2018,', 'he', 'was', 'sued', 'by', 'the', 'US', 'Securities', 'and', 'Exchange', 'Commission', '(SEC)', 'for', 'falsely', 'tweeting', 'that', 'he', 'had', 'secured', 'funding', 'for', 'a', 'private', 'takeover', 'of', 'Tesla;', 'he', 'settled', 'with', 'the', 'SEC', 'but', 'did', 'not', 'admit', 'guilt,', 'and', 'temporarily', 'stepped', 'down', 'from', 'his', 'Tesla', 'chairmanship.', 'In', '2019,', 'he', 'won', 'a', 'defamation', 'case', 'brought', 'against', 'him', 'by', 'a', 'British', 'caver', 'who', 'had', 'advised', 'in', 'the', 'Tham', 'Luang', 'cave', 'rescue.']\n",
      "\n",
      "-----\n"
     ]
    }
   ],
   "source": [
    "# tokenization can be as simple as str.split()\n",
    "def tokenize_by_word(text: str) -> str:\n",
    "    return text.str.split(\" \")\n",
    "\n",
    "text_tokenize_words = text.apply(tokenize_by_word)\n",
    "for ttw in text_tokenize_words.Text:\n",
    "    print(ttw)\n",
    "    print(\"\\n-----\")"
   ]
  },
  {
   "cell_type": "code",
   "execution_count": 12,
   "id": "799d41f3",
   "metadata": {},
   "outputs": [
    {
     "data": {
      "text/plain": [
       "'Elon Reeve Musk FRS (/?i?l?n/ EE-lon; born June 28, 1971) is a business magnate, investor and philanthropist. He is the founder, CEO and Chief Engineer at SpaceX; angel investor, CEO and Product Architect of Tesla, Inc.; founder of The Boring Company; and co-founder of Neuralink and OpenAI. With an estimated net worth of around US$265 billion as of May 2022,[4] Musk is the wealthiest person in the world according to both the Bloomberg Billionaires Index and the Forbes real-time billionaires list.[5][6]'"
      ]
     },
     "execution_count": 12,
     "metadata": {},
     "output_type": "execute_result"
    }
   ],
   "source": [
    "text.Text[1]"
   ]
  },
  {
   "cell_type": "markdown",
   "id": "e76a5efc",
   "metadata": {},
   "source": [
    "# Tokenize by Sentence?"
   ]
  },
  {
   "cell_type": "code",
   "execution_count": 13,
   "id": "bd957ec4",
   "metadata": {},
   "outputs": [
    {
     "name": "stdout",
     "output_type": "stream",
     "text": [
      "['https://en', 'wikipedia', 'org/wiki/Elon_Musk']\n",
      "\n",
      "\n",
      "ORIGINAL: https://en.wikipedia.org/wiki/Elon_Musk\n",
      "----\n",
      "['Elon Reeve Musk FRS (/?i?l?n/ EE-lon; born June 28, 1971) is a business magnate, investor and philanthropist', ' He is the founder, CEO and Chief Engineer at SpaceX; angel investor, CEO and Product Architect of Tesla, Inc', '; founder of The Boring Company; and co-founder of Neuralink and OpenAI', ' With an estimated net worth of around US$265 billion as of May 2022,[4] Musk is the wealthiest person in the world according to both the Bloomberg Billionaires Index and the Forbes real-time billionaires list', '[5][6]']\n",
      "\n",
      "\n",
      "ORIGINAL: Elon Reeve Musk FRS (/?i?l?n/ EE-lon; born June 28, 1971) is a business magnate, investor and philanthropist. He is the founder, CEO and Chief Engineer at SpaceX; angel investor, CEO and Product Architect of Tesla, Inc.; founder of The Boring Company; and co-founder of Neuralink and OpenAI. With an estimated net worth of around US$265 billion as of May 2022,[4] Musk is the wealthiest person in the world according to both the Bloomberg Billionaires Index and the Forbes real-time billionaires list.[5][6]\n",
      "----\n",
      "['Musk was born to a Canadian mother and White South African father, and raised in Pretoria, South Africa', ' He briefly attended the University of Pretoria before moving to Canada at age 17', \" He matriculated at Queen's University and transferred to the University of Pennsylvania two years later, where he received a bachelor's degree in Economics and Physics\", ' He moved to California in 1995 to attend Stanford University but decided instead to pursue a business career, co-founding the web software company Zip2 with his brother Kimbal', ' The startup was acquired by Compaq for $307 million in 1999', ' The same year, Musk co-founded online bank X', 'com, which merged with Confinity in 2000 to form PayPal', ' The company was bought by eBay in 2002 for $1', '5 billion', '']\n",
      "\n",
      "\n",
      "ORIGINAL: Musk was born to a Canadian mother and White South African father, and raised in Pretoria, South Africa. He briefly attended the University of Pretoria before moving to Canada at age 17. He matriculated at Queen's University and transferred to the University of Pennsylvania two years later, where he received a bachelor's degree in Economics and Physics. He moved to California in 1995 to attend Stanford University but decided instead to pursue a business career, co-founding the web software company Zip2 with his brother Kimbal. The startup was acquired by Compaq for $307 million in 1999. The same year, Musk co-founded online bank X.com, which merged with Confinity in 2000 to form PayPal. The company was bought by eBay in 2002 for $1.5 billion.\n",
      "----\n",
      "['In 2002, Musk founded SpaceX, an aerospace manufacturer and space transport services company, of which he serves as CEO and Chief Engineer', ' In 2004, he joined electric vehicle manufacturer Tesla Motors, Inc', ' (now Tesla, Inc', ') as chairman and product architect, eventually assuming the position of CEO in 2008', ' In 2006, he helped create SolarCity, a solar energy company that was later acquired by Tesla and became Tesla Energy', ' In 2015, he co-founded OpenAI, a nonprofit research company that promotes friendly artificial intelligence (AI)', ' In 2016, he co-founded Neuralink, a neurotechnology company focused on developing brain�computer interfaces, and founded The Boring Company, a tunnel construction company', ' He also agreed to purchase the major American social networking service Twitter in 2022 for $44 billion', ' Musk has proposed the Hyperloop, a high-speed vactrain transportation system', ' He is the president of the Musk Foundation, an organization which donates to scientific research and education', '']\n",
      "\n",
      "\n",
      "ORIGINAL: In 2002, Musk founded SpaceX, an aerospace manufacturer and space transport services company, of which he serves as CEO and Chief Engineer. In 2004, he joined electric vehicle manufacturer Tesla Motors, Inc. (now Tesla, Inc.) as chairman and product architect, eventually assuming the position of CEO in 2008. In 2006, he helped create SolarCity, a solar energy company that was later acquired by Tesla and became Tesla Energy. In 2015, he co-founded OpenAI, a nonprofit research company that promotes friendly artificial intelligence (AI). In 2016, he co-founded Neuralink, a neurotechnology company focused on developing brain�computer interfaces, and founded The Boring Company, a tunnel construction company. He also agreed to purchase the major American social networking service Twitter in 2022 for $44 billion. Musk has proposed the Hyperloop, a high-speed vactrain transportation system. He is the president of the Musk Foundation, an organization which donates to scientific research and education.\n",
      "----\n",
      "['Musk has been criticized for making unscientific and controversial statements, such as spreading misinformation about the COVID-19 pandemic', ' In 2018, he was sued by the US Securities and Exchange Commission (SEC) for falsely tweeting that he had secured funding for a private takeover of Tesla; he settled with the SEC but did not admit guilt, and temporarily stepped down from his Tesla chairmanship', ' In 2019, he won a defamation case brought against him by a British caver who had advised in the Tham Luang cave rescue', '']\n",
      "\n",
      "\n",
      "ORIGINAL: Musk has been criticized for making unscientific and controversial statements, such as spreading misinformation about the COVID-19 pandemic. In 2018, he was sued by the US Securities and Exchange Commission (SEC) for falsely tweeting that he had secured funding for a private takeover of Tesla; he settled with the SEC but did not admit guilt, and temporarily stepped down from his Tesla chairmanship. In 2019, he won a defamation case brought against him by a British caver who had advised in the Tham Luang cave rescue.\n",
      "----\n"
     ]
    }
   ],
   "source": [
    "# tokenization can be as simple as str.split()\n",
    "def tokenize_by_sentence(text: str) -> str:\n",
    "    return text.str.split('.')\n",
    "\n",
    "text_tokenize_sentence = text.apply(tokenize_by_sentence)\n",
    "for c, tts in enumerate(text_tokenize_sentence.Text):\n",
    "    print(tts)\n",
    "    print(\"\\n\")\n",
    "    print(\"ORIGINAL:\", text.Text[c])\n",
    "    print(\"----\")"
   ]
  },
  {
   "cell_type": "markdown",
   "id": "db9e5aa2",
   "metadata": {},
   "source": [
    "# Tokenize by Paragraph?\n",
    "- Can be flexible with this approach. (What constitutes a paragraph?)"
   ]
  },
  {
   "cell_type": "code",
   "execution_count": 14,
   "id": "8a9fc337",
   "metadata": {},
   "outputs": [],
   "source": [
    "from typing import List"
   ]
  },
  {
   "cell_type": "code",
   "execution_count": 15,
   "id": "f95f0084",
   "metadata": {},
   "outputs": [
    {
     "data": {
      "text/plain": [
       "['https://en', 'wikipedia', 'org/wiki/Elon_Musk']"
      ]
     },
     "execution_count": 15,
     "metadata": {},
     "output_type": "execute_result"
    }
   ],
   "source": [
    "text_tokenize_sentence.Text[0]"
   ]
  },
  {
   "cell_type": "code",
   "execution_count": 16,
   "id": "096c7ba7",
   "metadata": {},
   "outputs": [],
   "source": [
    "def tokenize_by_paragraph(list_of_sentences: List[str], length_of_paragraph: int) -> List[str]:\n",
    "    '''Assumes that the sentence-tokenization has already been executed. '''\n",
    "    list_to_return = []\n",
    "    to_join = \"\"\n",
    "    for records in list_of_sentences.values:\n",
    "        if len(records) < length_of_paragraph:\n",
    "            list_to_return.append(\"\".join(records))\n",
    "        else:\n",
    "            for cr, record in enumerate(records):\n",
    "                to_join = to_join + \"\".join(record)\n",
    "                if cr % length_of_paragraph == 0 and cr != 0:\n",
    "                    list_to_return.append(to_join)\n",
    "                    to_join = \"\"\n",
    "            if to_join != \"\":\n",
    "                list_to_return.append(to_join)\n",
    "                to_join = \"\"\n",
    "    return list_to_return"
   ]
  },
  {
   "cell_type": "code",
   "execution_count": 17,
   "id": "73c06477",
   "metadata": {},
   "outputs": [
    {
     "name": "stdout",
     "output_type": "stream",
     "text": [
      "https://enwikipediaorg/wiki/Elon_Musk\n",
      "-----\n",
      "Elon Reeve Musk FRS (/?i?l?n/ EE-lon; born June 28, 1971) is a business magnate, investor and philanthropist He is the founder, CEO and Chief Engineer at SpaceX; angel investor, CEO and Product Architect of Tesla, Inc; founder of The Boring Company; and co-founder of Neuralink and OpenAI With an estimated net worth of around US$265 billion as of May 2022,[4] Musk is the wealthiest person in the world according to both the Bloomberg Billionaires Index and the Forbes real-time billionaires list\n",
      "-----\n",
      "[5][6]\n",
      "-----\n",
      "Musk was born to a Canadian mother and White South African father, and raised in Pretoria, South Africa He briefly attended the University of Pretoria before moving to Canada at age 17 He matriculated at Queen's University and transferred to the University of Pennsylvania two years later, where he received a bachelor's degree in Economics and Physics He moved to California in 1995 to attend Stanford University but decided instead to pursue a business career, co-founding the web software company Zip2 with his brother Kimbal\n",
      "-----\n",
      " The startup was acquired by Compaq for $307 million in 1999 The same year, Musk co-founded online bank Xcom, which merged with Confinity in 2000 to form PayPal\n",
      "-----\n",
      " The company was bought by eBay in 2002 for $15 billion\n",
      "-----\n",
      "In 2002, Musk founded SpaceX, an aerospace manufacturer and space transport services company, of which he serves as CEO and Chief Engineer In 2004, he joined electric vehicle manufacturer Tesla Motors, Inc (now Tesla, Inc) as chairman and product architect, eventually assuming the position of CEO in 2008\n",
      "-----\n",
      " In 2006, he helped create SolarCity, a solar energy company that was later acquired by Tesla and became Tesla Energy In 2015, he co-founded OpenAI, a nonprofit research company that promotes friendly artificial intelligence (AI) In 2016, he co-founded Neuralink, a neurotechnology company focused on developing brain�computer interfaces, and founded The Boring Company, a tunnel construction company\n",
      "-----\n",
      " He also agreed to purchase the major American social networking service Twitter in 2022 for $44 billion Musk has proposed the Hyperloop, a high-speed vactrain transportation system He is the president of the Musk Foundation, an organization which donates to scientific research and education\n",
      "-----\n",
      "Musk has been criticized for making unscientific and controversial statements, such as spreading misinformation about the COVID-19 pandemic In 2018, he was sued by the US Securities and Exchange Commission (SEC) for falsely tweeting that he had secured funding for a private takeover of Tesla; he settled with the SEC but did not admit guilt, and temporarily stepped down from his Tesla chairmanship In 2019, he won a defamation case brought against him by a British caver who had advised in the Tham Luang cave rescue\n",
      "-----\n"
     ]
    }
   ],
   "source": [
    "text_by_paragraph = tokenize_by_paragraph(text_tokenize_sentence.Text, 3)\n",
    "for v in text_by_paragraph:\n",
    "    print(v + \"\\n-----\")"
   ]
  },
  {
   "cell_type": "code",
   "execution_count": 18,
   "id": "844a3bbd",
   "metadata": {},
   "outputs": [
    {
     "name": "stdout",
     "output_type": "stream",
     "text": [
      "https://en\n",
      "-----\n",
      "wikipedia\n",
      "-----\n",
      "org/wiki/Elon_Musk\n",
      "-----\n",
      "Elon Reeve Musk FRS (/?i?l?n/ EE-lon; born June 28, 1971) is a business magnate, investor and philanthropist\n",
      "-----\n",
      " He is the founder, CEO and Chief Engineer at SpaceX; angel investor, CEO and Product Architect of Tesla, Inc\n",
      "-----\n",
      "; founder of The Boring Company; and co-founder of Neuralink and OpenAI\n",
      "-----\n",
      " With an estimated net worth of around US$265 billion as of May 2022,[4] Musk is the wealthiest person in the world according to both the Bloomberg Billionaires Index and the Forbes real-time billionaires list\n",
      "-----\n",
      "[5][6]\n",
      "-----\n",
      "Musk was born to a Canadian mother and White South African father, and raised in Pretoria, South Africa\n",
      "-----\n",
      " He briefly attended the University of Pretoria before moving to Canada at age 17\n",
      "-----\n",
      " He matriculated at Queen's University and transferred to the University of Pennsylvania two years later, where he received a bachelor's degree in Economics and Physics\n",
      "-----\n",
      " He moved to California in 1995 to attend Stanford University but decided instead to pursue a business career, co-founding the web software company Zip2 with his brother Kimbal\n",
      "-----\n",
      " The startup was acquired by Compaq for $307 million in 1999\n",
      "-----\n",
      " The same year, Musk co-founded online bank X\n",
      "-----\n",
      "com, which merged with Confinity in 2000 to form PayPal\n",
      "-----\n",
      " The company was bought by eBay in 2002 for $1\n",
      "-----\n",
      "5 billion\n",
      "-----\n",
      "\n",
      "-----\n",
      "In 2002, Musk founded SpaceX, an aerospace manufacturer and space transport services company, of which he serves as CEO and Chief Engineer\n",
      "-----\n",
      " In 2004, he joined electric vehicle manufacturer Tesla Motors, Inc\n",
      "-----\n",
      " (now Tesla, Inc\n",
      "-----\n",
      ") as chairman and product architect, eventually assuming the position of CEO in 2008\n",
      "-----\n",
      " In 2006, he helped create SolarCity, a solar energy company that was later acquired by Tesla and became Tesla Energy\n",
      "-----\n",
      " In 2015, he co-founded OpenAI, a nonprofit research company that promotes friendly artificial intelligence (AI)\n",
      "-----\n",
      " In 2016, he co-founded Neuralink, a neurotechnology company focused on developing brain�computer interfaces, and founded The Boring Company, a tunnel construction company\n",
      "-----\n",
      " He also agreed to purchase the major American social networking service Twitter in 2022 for $44 billion\n",
      "-----\n",
      " Musk has proposed the Hyperloop, a high-speed vactrain transportation system\n",
      "-----\n",
      " He is the president of the Musk Foundation, an organization which donates to scientific research and education\n",
      "-----\n",
      "\n",
      "-----\n",
      "Musk has been criticized for making unscientific and controversial statements, such as spreading misinformation about the COVID-19 pandemic\n",
      "-----\n",
      " In 2018, he was sued by the US Securities and Exchange Commission (SEC) for falsely tweeting that he had secured funding for a private takeover of Tesla; he settled with the SEC but did not admit guilt, and temporarily stepped down from his Tesla chairmanship\n",
      "-----\n",
      " In 2019, he won a defamation case brought against him by a British caver who had advised in the Tham Luang cave rescue\n",
      "-----\n",
      "\n",
      "-----\n"
     ]
    }
   ],
   "source": [
    "for s in text_tokenize_sentence.Text:\n",
    "    for v in s:\n",
    "        print(v + \"\\n-----\")"
   ]
  },
  {
   "cell_type": "markdown",
   "id": "6dbc613a",
   "metadata": {},
   "source": [
    "# Stemming & Lemmatization\n",
    "### These functions are based on NLP libraries that take out the guess work for you\n",
    "- Stemming: searches for a few specified characters at the end of each word and removes them. This __can__ lead to incorrect spelling and gibberish.\n",
    "- Lemmatization: considers the context of the word to is base form. So, if we have a verb, the base form would be the infinitive.\n",
    "\n",
    "## Why not just use Lemmatization over stemming?\n",
    "- Lemmatization is more computationally expensive and if your system is built on speed, lemmatization is perhaps not the best way to go. A more technical explaination would be that lemmatization bases its search on several dictionaries whereas the stemming focuses on the single word without knowledge of context.\n",
    "- Also, you can customize the stemming algorithm to increase your accuracy, so the base model is not the \"be all end all\""
   ]
  },
  {
   "cell_type": "code",
   "execution_count": 19,
   "id": "04462c71",
   "metadata": {},
   "outputs": [
    {
     "name": "stdout",
     "output_type": "stream",
     "text": [
      "showing info https://raw.githubusercontent.com/nltk/nltk_data/gh-pages/index.xml\n"
     ]
    },
    {
     "data": {
      "text/plain": [
       "True"
      ]
     },
     "execution_count": 19,
     "metadata": {},
     "output_type": "execute_result"
    }
   ],
   "source": [
    "# NTLK stemming example\n",
    "import nltk\n",
    "nltk.download() # Go to to the models tab and install any model that you'd like. If undecided, try \"punkt\""
   ]
  },
  {
   "cell_type": "code",
   "execution_count": 20,
   "id": "a30f5da2",
   "metadata": {},
   "outputs": [],
   "source": [
    "from nltk.tokenize import sent_tokenize, word_tokenize\n",
    "from nltk.stem import PorterStemmer\n",
    "def stemSentence(sentence):\n",
    "    \"Function obtained: https://www.datacamp.com/tutorial/stemming-lemmatization-python\"\n",
    "    porter = PorterStemmer()\n",
    "    token_words=word_tokenize(sentence) # Stemming works on a token by token basis (not sentences or paragraphs)\n",
    "    token_words\n",
    "    stem_sentence=[]\n",
    "    for word in token_words:\n",
    "        stem_sentence.append(porter.stem(word))\n",
    "        stem_sentence.append(\" \")\n",
    "    return \"\".join(stem_sentence)"
   ]
  },
  {
   "cell_type": "code",
   "execution_count": 21,
   "id": "00d5ba7c",
   "metadata": {},
   "outputs": [
    {
     "name": "stdout",
     "output_type": "stream",
     "text": [
      "Elon Reeve Musk FRS (/?i?l?n/ EE-lon; born June 28, 1971) is a business magnate, investor and philanthropist. He is the founder, CEO and Chief Engineer at SpaceX; angel investor, CEO and Product Architect of Tesla, Inc.; founder of The Boring Company; and co-founder of Neuralink and OpenAI. With an estimated net worth of around US$265 billion as of May 2022,[4] Musk is the wealthiest person in the world according to both the Bloomberg Billionaires Index and the Forbes real-time billionaires list.[5][6]\n",
      "-----\n",
      "elon reev musk fr ( / ? i ? l ? n/ ee-lon ; born june 28 , 1971 ) is a busi magnat , investor and philanthropist . he is the founder , ceo and chief engin at spacex ; angel investor , ceo and product architect of tesla , inc. ; founder of the bore compani ; and co-found of neuralink and openai . with an estim net worth of around us $ 265 billion as of may 2022 , [ 4 ] musk is the wealthiest person in the world accord to both the bloomberg billionair index and the forb real-tim billionair list . [ 5 ] [ 6 ] \n"
     ]
    }
   ],
   "source": [
    "print(text.Text[1])\n",
    "print(\"-----\")\n",
    "x=stemSentence(text.Text[1])\n",
    "print(x)"
   ]
  },
  {
   "cell_type": "markdown",
   "id": "cbd1fd87",
   "metadata": {},
   "source": [
    "# SpaCy does not contain a stemming function\n",
    "- So, we'll use the lemmatization function here (SpaCy is better than NLTK on lemmatization anyways)"
   ]
  },
  {
   "cell_type": "code",
   "execution_count": 22,
   "id": "93693b60",
   "metadata": {},
   "outputs": [
    {
     "name": "stdout",
     "output_type": "stream",
     "text": [
      "Collecting en-core-web-sm==3.0.0\n",
      "  Downloading https://github.com/explosion/spacy-models/releases/download/en_core_web_sm-3.0.0/en_core_web_sm-3.0.0-py3-none-any.whl (13.7 MB)\n",
      "Requirement already satisfied: spacy<3.1.0,>=3.0.0 in c:\\users\\spenc\\anaconda3\\envs\\nlp\\lib\\site-packages (from en-core-web-sm==3.0.0) (3.0.6)\n",
      "Requirement already satisfied: numpy>=1.15.0 in c:\\users\\spenc\\anaconda3\\envs\\nlp\\lib\\site-packages (from spacy<3.1.0,>=3.0.0->en-core-web-sm==3.0.0) (1.19.5)\n",
      "Requirement already satisfied: typer<0.4.0,>=0.3.0 in c:\\users\\spenc\\anaconda3\\envs\\nlp\\lib\\site-packages (from spacy<3.1.0,>=3.0.0->en-core-web-sm==3.0.0) (0.3.2)\n",
      "Requirement already satisfied: pydantic<1.8.0,>=1.7.1 in c:\\users\\spenc\\anaconda3\\envs\\nlp\\lib\\site-packages (from spacy<3.1.0,>=3.0.0->en-core-web-sm==3.0.0) (1.7.4)\n",
      "Requirement already satisfied: spacy-legacy<3.1.0,>=3.0.4 in c:\\users\\spenc\\anaconda3\\envs\\nlp\\lib\\site-packages (from spacy<3.1.0,>=3.0.0->en-core-web-sm==3.0.0) (3.0.5)\n",
      "Requirement already satisfied: jinja2 in c:\\users\\spenc\\anaconda3\\envs\\nlp\\lib\\site-packages (from spacy<3.1.0,>=3.0.0->en-core-web-sm==3.0.0) (3.0.0)\n",
      "Requirement already satisfied: setuptools in c:\\users\\spenc\\anaconda3\\envs\\nlp\\lib\\site-packages (from spacy<3.1.0,>=3.0.0->en-core-web-sm==3.0.0) (52.0.0.post20210125)\n",
      "Requirement already satisfied: thinc<8.1.0,>=8.0.3 in c:\\users\\spenc\\anaconda3\\envs\\nlp\\lib\\site-packages (from spacy<3.1.0,>=3.0.0->en-core-web-sm==3.0.0) (8.0.3)\n",
      "Requirement already satisfied: murmurhash<1.1.0,>=0.28.0 in c:\\users\\spenc\\anaconda3\\envs\\nlp\\lib\\site-packages (from spacy<3.1.0,>=3.0.0->en-core-web-sm==3.0.0) (1.0.5)\n",
      "Requirement already satisfied: requests<3.0.0,>=2.13.0 in c:\\users\\spenc\\anaconda3\\envs\\nlp\\lib\\site-packages (from spacy<3.1.0,>=3.0.0->en-core-web-sm==3.0.0) (2.25.1)\n",
      "Requirement already satisfied: pathy>=0.3.5 in c:\\users\\spenc\\anaconda3\\envs\\nlp\\lib\\site-packages (from spacy<3.1.0,>=3.0.0->en-core-web-sm==3.0.0) (0.5.2)\n",
      "Requirement already satisfied: packaging>=20.0 in c:\\users\\spenc\\anaconda3\\envs\\nlp\\lib\\site-packages (from spacy<3.1.0,>=3.0.0->en-core-web-sm==3.0.0) (20.9)\n",
      "Requirement already satisfied: tqdm<5.0.0,>=4.38.0 in c:\\users\\spenc\\anaconda3\\envs\\nlp\\lib\\site-packages (from spacy<3.1.0,>=3.0.0->en-core-web-sm==3.0.0) (4.60.0)\n",
      "Requirement already satisfied: wasabi<1.1.0,>=0.8.1 in c:\\users\\spenc\\anaconda3\\envs\\nlp\\lib\\site-packages (from spacy<3.1.0,>=3.0.0->en-core-web-sm==3.0.0) (0.8.2)\n",
      "Requirement already satisfied: catalogue<2.1.0,>=2.0.3 in c:\\users\\spenc\\anaconda3\\envs\\nlp\\lib\\site-packages (from spacy<3.1.0,>=3.0.0->en-core-web-sm==3.0.0) (2.0.4)\n",
      "Requirement already satisfied: cymem<2.1.0,>=2.0.2 in c:\\users\\spenc\\anaconda3\\envs\\nlp\\lib\\site-packages (from spacy<3.1.0,>=3.0.0->en-core-web-sm==3.0.0) (2.0.5)\n",
      "Requirement already satisfied: blis<0.8.0,>=0.4.0 in c:\\users\\spenc\\anaconda3\\envs\\nlp\\lib\\site-packages (from spacy<3.1.0,>=3.0.0->en-core-web-sm==3.0.0) (0.7.4)\n",
      "Requirement already satisfied: preshed<3.1.0,>=3.0.2 in c:\\users\\spenc\\anaconda3\\envs\\nlp\\lib\\site-packages (from spacy<3.1.0,>=3.0.0->en-core-web-sm==3.0.0) (3.0.5)\n",
      "Requirement already satisfied: srsly<3.0.0,>=2.4.1 in c:\\users\\spenc\\anaconda3\\envs\\nlp\\lib\\site-packages (from spacy<3.1.0,>=3.0.0->en-core-web-sm==3.0.0) (2.4.1)\n",
      "Requirement already satisfied: pyparsing>=2.0.2 in c:\\users\\spenc\\anaconda3\\envs\\nlp\\lib\\site-packages (from packaging>=20.0->spacy<3.1.0,>=3.0.0->en-core-web-sm==3.0.0) (2.4.7)\n",
      "Requirement already satisfied: smart-open<4.0.0,>=2.2.0 in c:\\users\\spenc\\anaconda3\\envs\\nlp\\lib\\site-packages (from pathy>=0.3.5->spacy<3.1.0,>=3.0.0->en-core-web-sm==3.0.0) (3.0.0)\n",
      "Requirement already satisfied: idna<3,>=2.5 in c:\\users\\spenc\\anaconda3\\envs\\nlp\\lib\\site-packages (from requests<3.0.0,>=2.13.0->spacy<3.1.0,>=3.0.0->en-core-web-sm==3.0.0) (2.10)\n",
      "Requirement already satisfied: certifi>=2017.4.17 in c:\\users\\spenc\\anaconda3\\envs\\nlp\\lib\\site-packages (from requests<3.0.0,>=2.13.0->spacy<3.1.0,>=3.0.0->en-core-web-sm==3.0.0) (2020.12.5)\n",
      "Requirement already satisfied: chardet<5,>=3.0.2 in c:\\users\\spenc\\anaconda3\\envs\\nlp\\lib\\site-packages (from requests<3.0.0,>=2.13.0->spacy<3.1.0,>=3.0.0->en-core-web-sm==3.0.0) (4.0.0)\n",
      "Requirement already satisfied: urllib3<1.27,>=1.21.1 in c:\\users\\spenc\\anaconda3\\envs\\nlp\\lib\\site-packages (from requests<3.0.0,>=2.13.0->spacy<3.1.0,>=3.0.0->en-core-web-sm==3.0.0) (1.26.4)\n",
      "Requirement already satisfied: click<7.2.0,>=7.1.1 in c:\\users\\spenc\\anaconda3\\envs\\nlp\\lib\\site-packages (from typer<0.4.0,>=0.3.0->spacy<3.1.0,>=3.0.0->en-core-web-sm==3.0.0) (7.1.2)\n",
      "Requirement already satisfied: MarkupSafe>=2.0.0rc2 in c:\\users\\spenc\\anaconda3\\envs\\nlp\\lib\\site-packages (from jinja2->spacy<3.1.0,>=3.0.0->en-core-web-sm==3.0.0) (2.0.0)\n",
      "[!] As of spaCy v3.0, shortcuts like 'en' are deprecated. Please use the full\n",
      "pipeline package name 'en_core_web_sm' instead.\n",
      "[+] Download and installation successful\n",
      "You can now load the package via spacy.load('en_core_web_sm')\n"
     ]
    }
   ],
   "source": [
    "# make sure your downloaded the english model with \"python -m spacy download en\"\n",
    "!python -m spacy download en"
   ]
  },
  {
   "cell_type": "code",
   "execution_count": 23,
   "id": "0a1f29d0",
   "metadata": {},
   "outputs": [],
   "source": [
    "import spacy\n",
    "nlp = spacy.load('en_core_web_sm')"
   ]
  },
  {
   "cell_type": "code",
   "execution_count": 24,
   "id": "bdf08277",
   "metadata": {},
   "outputs": [
    {
     "name": "stdout",
     "output_type": "stream",
     "text": [
      "Elon 2198773752619493627 Elon\n",
      "Reeve 13919731772306190389 Reeve\n",
      "Musk 9701546712838649011 Musk\n",
      "FRS 11700442633786364558 FRS\n",
      "( 12638816674900267446 (\n",
      "/?i?l?n/ 17530719667350714435 /?i?l?n/\n",
      "EE 13418971983228644420 ee\n",
      "- 9153284864653046197 -\n",
      "lon 1179692691768717486 lon\n",
      "; 631425121691394544 ;\n",
      "born 3737373500888618661 bear\n",
      "June 187940016428511799 June\n",
      "28 5782640844011333142 28\n",
      ", 2593208677638477497 ,\n",
      "1971 17581738970773819521 1971\n",
      ") 3842344029291005339 )\n",
      "is 10382539506755952630 be\n",
      "a 11901859001352538922 a\n",
      "business 8928139183970412233 business\n",
      "magnate 8022690600608319835 magnate\n",
      ", 2593208677638477497 ,\n",
      "investor 1023836332520908783 investor\n",
      "and 2283656566040971221 and\n",
      "philanthropist 16520720950329356535 philanthropist\n",
      ". 12646065887601541794 .\n",
      "He 1655312771067108281 he\n",
      "is 10382539506755952630 be\n",
      "the 7425985699627899538 the\n",
      "founder 4354848742269768285 founder\n",
      ", 2593208677638477497 ,\n",
      "CEO 18074202468665715823 CEO\n",
      "and 2283656566040971221 and\n",
      "Chief 9615737558093935814 Chief\n",
      "Engineer 7029714065625710103 Engineer\n",
      "at 11667289587015813222 at\n",
      "SpaceX 1533271143234181118 spacex\n",
      "; 631425121691394544 ;\n",
      "angel 7158399702108520713 angel\n",
      "investor 1023836332520908783 investor\n",
      ", 2593208677638477497 ,\n",
      "CEO 18074202468665715823 CEO\n",
      "and 2283656566040971221 and\n",
      "Product 16898055450696666743 Product\n",
      "Architect 9579531980886234441 Architect\n",
      "of 886050111519832510 of\n",
      "Tesla 989884730879938440 Tesla\n",
      ", 2593208677638477497 ,\n",
      "Inc. 11367013928689839740 Inc.\n",
      "; 631425121691394544 ;\n",
      "founder 4354848742269768285 founder\n",
      "of 886050111519832510 of\n",
      "The 7425985699627899538 the\n",
      "Boring 1651417047301500353 Boring\n",
      "Company 11799161737614519447 Company\n",
      "; 631425121691394544 ;\n",
      "and 2283656566040971221 and\n",
      "co 1390402870290659690 co\n",
      "- 9153284864653046197 -\n",
      "founder 4354848742269768285 founder\n",
      "of 886050111519832510 of\n",
      "Neuralink 91212654446840995 Neuralink\n",
      "and 2283656566040971221 and\n",
      "OpenAI 14806205001476731546 OpenAI\n",
      ". 12646065887601541794 .\n",
      "With 12510949447758279278 with\n",
      "an 15099054000809333061 an\n",
      "estimated 10461199186950131959 estimated\n",
      "net 2297266526497069708 net\n",
      "worth 12282438651404021516 worth\n",
      "of 886050111519832510 of\n",
      "around 3194226484742107227 around\n",
      "US$ 3742757416763697233 us$\n",
      "265 14335270308318457839 265\n",
      "billion 1231493654637052630 billion\n",
      "as 7437575085468336610 as\n",
      "of 886050111519832510 of\n",
      "May 16318331901196153511 May\n",
      "2022,[4 12548289086445442996 2022,[4\n",
      "] 3806482680584466996 ]\n",
      "Musk 9701546712838649011 Musk\n",
      "is 10382539506755952630 be\n",
      "the 7425985699627899538 the\n",
      "wealthiest 32112434391901252 wealthy\n",
      "person 14800503047316267216 person\n",
      "in 3002984154512732771 in\n",
      "the 7425985699627899538 the\n",
      "world 1703489418272052182 world\n",
      "according 701735504652304602 accord\n",
      "to 3791531372978436496 to\n",
      "both 7111508780595485950 both\n",
      "the 7425985699627899538 the\n",
      "Bloomberg 9232652597899099629 Bloomberg\n",
      "Billionaires 263403413558312920 Billionaires\n",
      "Index 8354427534084475834 Index\n",
      "and 2283656566040971221 and\n",
      "the 7425985699627899538 the\n",
      "Forbes 4868103608457773474 Forbes\n",
      "real 7050692189315705983 real\n",
      "- 9153284864653046197 -\n",
      "time 8885804376230376864 time\n",
      "billionaires 2665018686965387006 billionaire\n",
      "list.[5][6 17685871745236946393 list.[5][6\n",
      "] 3806482680584466996 ]\n"
     ]
    }
   ],
   "source": [
    "doc = nlp(text.Text[1])\n",
    "to_return_token_lemma_ = []\n",
    "for token in doc:\n",
    "    print(token, token.lemma, token.lemma_)\n",
    "    to_return_token_lemma_.append(token.lemma_)"
   ]
  },
  {
   "cell_type": "code",
   "execution_count": 25,
   "id": "75af2dbf",
   "metadata": {},
   "outputs": [
    {
     "data": {
      "text/plain": [
       "'Elon Reeve Musk FRS (/?i?l?n/ EE-lon; born June 28, 1971) is a business magnate, investor and philanthropist. He is the founder, CEO and Chief Engineer at SpaceX; angel investor, CEO and Product Architect of Tesla, Inc.; founder of The Boring Company; and co-founder of Neuralink and OpenAI. With an estimated net worth of around US$265 billion as of May 2022,[4] Musk is the wealthiest person in the world according to both the Bloomberg Billionaires Index and the Forbes real-time billionaires list.[5][6]'"
      ]
     },
     "execution_count": 25,
     "metadata": {},
     "output_type": "execute_result"
    }
   ],
   "source": [
    "text.Text[1]"
   ]
  },
  {
   "cell_type": "code",
   "execution_count": 26,
   "id": "aed7d3ce",
   "metadata": {},
   "outputs": [
    {
     "data": {
      "text/plain": [
       "'Elon Reeve Musk FRS ( /?i?l?n/ ee - lon ; bear June 28 , 1971 ) be a business magnate , investor and philanthropist . he be the founder , CEO and Chief Engineer at spacex ; angel investor , CEO and Product Architect of Tesla , Inc. ; founder of the Boring Company ; and co - founder of Neuralink and OpenAI . with an estimated net worth of around us$ 265 billion as of May 2022,[4 ] Musk be the wealthy person in the world accord to both the Bloomberg Billionaires Index and the Forbes real - time billionaire list.[5][6 ]'"
      ]
     },
     "execution_count": 26,
     "metadata": {},
     "output_type": "execute_result"
    }
   ],
   "source": [
    "\" \".join(to_return_token_lemma_)"
   ]
  },
  {
   "cell_type": "markdown",
   "id": "82fa6501",
   "metadata": {},
   "source": [
    "# In the next notebook, we will focus on Named Entity Recognitions. (NER)"
   ]
  }
 ],
 "metadata": {
  "kernelspec": {
   "display_name": "Python 3",
   "language": "python",
   "name": "python3"
  },
  "language_info": {
   "codemirror_mode": {
    "name": "ipython",
    "version": 3
   },
   "file_extension": ".py",
   "mimetype": "text/x-python",
   "name": "python",
   "nbconvert_exporter": "python",
   "pygments_lexer": "ipython3",
   "version": "3.8.8"
  }
 },
 "nbformat": 4,
 "nbformat_minor": 5
}
